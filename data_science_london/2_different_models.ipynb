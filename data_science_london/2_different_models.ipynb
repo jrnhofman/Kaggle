{
 "cells": [
  {
   "cell_type": "code",
   "execution_count": 3,
   "metadata": {},
   "outputs": [],
   "source": [
    "import pandas as pd"
   ]
  },
  {
   "cell_type": "code",
   "execution_count": 4,
   "metadata": {},
   "outputs": [],
   "source": [
    "train_pre = pd.read_csv('train.csv',header=None)\n",
    "final = pd.read_csv('test.csv',header=None)\n",
    "trainLabels_pre = pd.read_csv('trainLabels.csv',header=None)"
   ]
  },
  {
   "cell_type": "code",
   "execution_count": 5,
   "metadata": {},
   "outputs": [
    {
     "name": "stdout",
     "output_type": "stream",
     "text": [
      "Are the labels balanced?\n",
      "1    510\n",
      "0    490\n",
      "Name: 0, dtype: int64\n"
     ]
    }
   ],
   "source": [
    "# Some analysis\n",
    "\n",
    "print(\"Are the labels balanced?\")\n",
    "print((trainLabels_pre.iloc[:,0]).value_counts())\n"
   ]
  },
  {
   "cell_type": "code",
   "execution_count": 6,
   "metadata": {},
   "outputs": [],
   "source": [
    "# Selecting test + training set\n",
    "from random import random\n",
    "test_select = pd.Series([True  if random()<0.2 else False for x in range(len(train_pre))])\n",
    "\n",
    "train, test = train_pre[~test_select], train_pre[test_select]\n",
    "trainLabels, testLabels = trainLabels_pre[~test_select], trainLabels_pre[test_select]"
   ]
  },
  {
   "cell_type": "code",
   "execution_count": 7,
   "metadata": {},
   "outputs": [
    {
     "data": {
      "text/plain": [
       "((794, 40), (206, 40))"
      ]
     },
     "execution_count": 7,
     "metadata": {},
     "output_type": "execute_result"
    }
   ],
   "source": [
    "train.shape, test.shape"
   ]
  },
  {
   "cell_type": "markdown",
   "metadata": {},
   "source": [
    "# Classifiers"
   ]
  },
  {
   "cell_type": "code",
   "execution_count": 8,
   "metadata": {},
   "outputs": [],
   "source": [
    "from sklearn.linear_model import LogisticRegression\n",
    "from sklearn.metrics import accuracy_score"
   ]
  },
  {
   "cell_type": "code",
   "execution_count": 9,
   "metadata": {},
   "outputs": [],
   "source": [
    "lr = LogisticRegression(solver='liblinear').fit(train,trainLabels.to_numpy().ravel())"
   ]
  },
  {
   "cell_type": "code",
   "execution_count": 10,
   "metadata": {},
   "outputs": [
    {
     "data": {
      "text/plain": [
       "0.8446601941747572"
      ]
     },
     "execution_count": 10,
     "metadata": {},
     "output_type": "execute_result"
    }
   ],
   "source": [
    "accuracy_score(testLabels,lr.predict(test))"
   ]
  },
  {
   "cell_type": "code",
   "execution_count": 11,
   "metadata": {},
   "outputs": [],
   "source": [
    "from sklearn.ensemble import RandomForestClassifier\n",
    "rf = RandomForestClassifier(n_estimators=100).fit(train,trainLabels.to_numpy().ravel())"
   ]
  },
  {
   "cell_type": "code",
   "execution_count": 12,
   "metadata": {},
   "outputs": [
    {
     "data": {
      "text/plain": [
       "0.8980582524271845"
      ]
     },
     "execution_count": 12,
     "metadata": {},
     "output_type": "execute_result"
    }
   ],
   "source": [
    "accuracy_score(testLabels,rf.predict(test))"
   ]
  },
  {
   "cell_type": "code",
   "execution_count": 13,
   "metadata": {},
   "outputs": [],
   "source": [
    "from sklearn.svm import SVC\n",
    "svc = SVC(gamma='auto').fit(train,trainLabels.to_numpy().ravel())"
   ]
  },
  {
   "cell_type": "code",
   "execution_count": 14,
   "metadata": {},
   "outputs": [
    {
     "data": {
      "text/plain": [
       "0.9320388349514563"
      ]
     },
     "execution_count": 14,
     "metadata": {},
     "output_type": "execute_result"
    }
   ],
   "source": [
    "accuracy_score(testLabels,svc.predict(test))"
   ]
  },
  {
   "cell_type": "code",
   "execution_count": 15,
   "metadata": {},
   "outputs": [],
   "source": [
    "## Best score 0.90658 / 0.90797"
   ]
  },
  {
   "cell_type": "markdown",
   "metadata": {},
   "source": [
    "# Clustering + Classifiers"
   ]
  },
  {
   "cell_type": "code",
   "execution_count": 16,
   "metadata": {},
   "outputs": [],
   "source": [
    "from sklearn.decomposition import PCA"
   ]
  },
  {
   "cell_type": "code",
   "execution_count": 17,
   "metadata": {},
   "outputs": [],
   "source": [
    "pca = PCA(n_components=0.95, svd_solver='full')\n",
    "\n",
    "train_reduced = pca.fit_transform(train)\n",
    "test_reduced = pca.transform(test)"
   ]
  },
  {
   "cell_type": "code",
   "execution_count": 18,
   "metadata": {},
   "outputs": [],
   "source": [
    "svc = SVC(gamma='auto').fit(train_reduced,trainLabels.to_numpy().ravel())"
   ]
  },
  {
   "cell_type": "code",
   "execution_count": 19,
   "metadata": {},
   "outputs": [
    {
     "data": {
      "text/plain": [
       "0.9223300970873787"
      ]
     },
     "execution_count": 19,
     "metadata": {},
     "output_type": "execute_result"
    }
   ],
   "source": [
    "accuracy_score(testLabels,svc.predict(test_reduced))"
   ]
  },
  {
   "cell_type": "code",
   "execution_count": 20,
   "metadata": {},
   "outputs": [],
   "source": [
    "predictions = svc.predict(pca.transform(final))"
   ]
  },
  {
   "cell_type": "code",
   "execution_count": 21,
   "metadata": {},
   "outputs": [],
   "source": [
    "## Best score 0.90896 / 0.90648"
   ]
  },
  {
   "cell_type": "markdown",
   "metadata": {},
   "source": [
    "# Classifiers + grid search"
   ]
  },
  {
   "cell_type": "code",
   "execution_count": 23,
   "metadata": {},
   "outputs": [],
   "source": [
    "from sklearn.model_selection import GridSearchCV"
   ]
  },
  {
   "cell_type": "code",
   "execution_count": 31,
   "metadata": {},
   "outputs": [],
   "source": [
    "# param grid\n",
    "\n",
    "param_grid = {\n",
    "    'n_estimators': [50,100,200,500],\n",
    "    'max_depth' : [100,50,20],\n",
    "    'criterion' : ['entropy'],\n",
    "    'min_samples_split' : [0.1,0.3,0.5,0.75,1.0],\n",
    "    'min_samples_leaf' : np.linspace(0.1,0.5,num=5),\n",
    "    'max_features' : np.linspace(0.5,1.0,num=5+1)\n",
    "}\n",
    "\n",
    "rf = RandomForestClassifier()"
   ]
  },
  {
   "cell_type": "code",
   "execution_count": 32,
   "metadata": {},
   "outputs": [],
   "source": [
    "gscv = GridSearchCV(rf,param_grid=param_grid,scoring='accuracy',cv=10,n_jobs=-1,verbose=10)"
   ]
  },
  {
   "cell_type": "code",
   "execution_count": 33,
   "metadata": {},
   "outputs": [
    {
     "name": "stdout",
     "output_type": "stream",
     "text": [
      "Fitting 10 folds for each of 1800 candidates, totalling 18000 fits\n"
     ]
    },
    {
     "name": "stderr",
     "output_type": "stream",
     "text": [
      "[Parallel(n_jobs=-1)]: Using backend LokyBackend with 12 concurrent workers.\n",
      "[Parallel(n_jobs=-1)]: Done   1 tasks      | elapsed:    1.4s\n",
      "[Parallel(n_jobs=-1)]: Done   8 tasks      | elapsed:    1.6s\n",
      "[Parallel(n_jobs=-1)]: Done  17 tasks      | elapsed:    2.2s\n",
      "[Parallel(n_jobs=-1)]: Done  26 tasks      | elapsed:    3.3s\n",
      "[Parallel(n_jobs=-1)]: Done  37 tasks      | elapsed:    4.4s\n",
      "[Parallel(n_jobs=-1)]: Done  48 tasks      | elapsed:    5.7s\n",
      "[Parallel(n_jobs=-1)]: Done  61 tasks      | elapsed:    6.9s\n",
      "[Parallel(n_jobs=-1)]: Done  74 tasks      | elapsed:    7.6s\n",
      "[Parallel(n_jobs=-1)]: Done  89 tasks      | elapsed:    9.3s\n",
      "[Parallel(n_jobs=-1)]: Done 104 tasks      | elapsed:   10.3s\n",
      "[Parallel(n_jobs=-1)]: Done 121 tasks      | elapsed:   11.0s\n",
      "[Parallel(n_jobs=-1)]: Done 138 tasks      | elapsed:   11.9s\n",
      "[Parallel(n_jobs=-1)]: Done 157 tasks      | elapsed:   12.6s\n",
      "[Parallel(n_jobs=-1)]: Done 176 tasks      | elapsed:   12.9s\n",
      "[Parallel(n_jobs=-1)]: Done 197 tasks      | elapsed:   13.7s\n",
      "[Parallel(n_jobs=-1)]: Done 218 tasks      | elapsed:   14.2s\n",
      "[Parallel(n_jobs=-1)]: Done 241 tasks      | elapsed:   15.8s\n",
      "[Parallel(n_jobs=-1)]: Done 264 tasks      | elapsed:   17.1s\n",
      "[Parallel(n_jobs=-1)]: Done 289 tasks      | elapsed:   18.6s\n",
      "[Parallel(n_jobs=-1)]: Done 314 tasks      | elapsed:   19.7s\n",
      "[Parallel(n_jobs=-1)]: Done 341 tasks      | elapsed:   20.8s\n",
      "[Parallel(n_jobs=-1)]: Done 368 tasks      | elapsed:   21.5s\n",
      "[Parallel(n_jobs=-1)]: Done 397 tasks      | elapsed:   22.4s\n",
      "[Parallel(n_jobs=-1)]: Done 426 tasks      | elapsed:   23.1s\n",
      "[Parallel(n_jobs=-1)]: Done 457 tasks      | elapsed:   24.4s\n",
      "[Parallel(n_jobs=-1)]: Done 488 tasks      | elapsed:   25.9s\n",
      "[Parallel(n_jobs=-1)]: Done 521 tasks      | elapsed:   27.1s\n",
      "[Parallel(n_jobs=-1)]: Done 554 tasks      | elapsed:   28.1s\n",
      "[Parallel(n_jobs=-1)]: Done 589 tasks      | elapsed:   28.9s\n",
      "[Parallel(n_jobs=-1)]: Done 624 tasks      | elapsed:   29.7s\n",
      "[Parallel(n_jobs=-1)]: Done 661 tasks      | elapsed:   30.6s\n",
      "[Parallel(n_jobs=-1)]: Done 698 tasks      | elapsed:   31.4s\n",
      "[Parallel(n_jobs=-1)]: Done 737 tasks      | elapsed:   32.3s\n",
      "[Parallel(n_jobs=-1)]: Done 776 tasks      | elapsed:   33.2s\n",
      "[Parallel(n_jobs=-1)]: Done 817 tasks      | elapsed:   34.2s\n",
      "[Parallel(n_jobs=-1)]: Done 858 tasks      | elapsed:   35.1s\n",
      "[Parallel(n_jobs=-1)]: Done 901 tasks      | elapsed:   36.2s\n",
      "[Parallel(n_jobs=-1)]: Done 944 tasks      | elapsed:   37.2s\n",
      "[Parallel(n_jobs=-1)]: Done 989 tasks      | elapsed:   38.1s\n",
      "[Parallel(n_jobs=-1)]: Done 1034 tasks      | elapsed:   41.7s\n",
      "[Parallel(n_jobs=-1)]: Done 1081 tasks      | elapsed:   46.9s\n",
      "[Parallel(n_jobs=-1)]: Done 1128 tasks      | elapsed:   49.9s\n",
      "[Parallel(n_jobs=-1)]: Done 1177 tasks      | elapsed:   51.6s\n",
      "[Parallel(n_jobs=-1)]: Done 1226 tasks      | elapsed:   53.6s\n",
      "[Parallel(n_jobs=-1)]: Done 1277 tasks      | elapsed:   57.1s\n",
      "[Parallel(n_jobs=-1)]: Done 1328 tasks      | elapsed:   59.7s\n",
      "[Parallel(n_jobs=-1)]: Done 1381 tasks      | elapsed:  1.0min\n",
      "[Parallel(n_jobs=-1)]: Done 1434 tasks      | elapsed:  1.1min\n",
      "[Parallel(n_jobs=-1)]: Done 1489 tasks      | elapsed:  1.1min\n",
      "[Parallel(n_jobs=-1)]: Done 1544 tasks      | elapsed:  1.1min\n",
      "[Parallel(n_jobs=-1)]: Done 1601 tasks      | elapsed:  1.2min\n",
      "[Parallel(n_jobs=-1)]: Done 1658 tasks      | elapsed:  1.2min\n",
      "[Parallel(n_jobs=-1)]: Done 1717 tasks      | elapsed:  1.2min\n",
      "[Parallel(n_jobs=-1)]: Done 1776 tasks      | elapsed:  1.2min\n",
      "[Parallel(n_jobs=-1)]: Done 1837 tasks      | elapsed:  1.2min\n",
      "[Parallel(n_jobs=-1)]: Done 1898 tasks      | elapsed:  1.3min\n",
      "[Parallel(n_jobs=-1)]: Done 1961 tasks      | elapsed:  1.3min\n",
      "[Parallel(n_jobs=-1)]: Done 2024 tasks      | elapsed:  1.3min\n",
      "[Parallel(n_jobs=-1)]: Done 2089 tasks      | elapsed:  1.5min\n",
      "[Parallel(n_jobs=-1)]: Done 2154 tasks      | elapsed:  1.5min\n",
      "[Parallel(n_jobs=-1)]: Done 2221 tasks      | elapsed:  1.6min\n",
      "[Parallel(n_jobs=-1)]: Done 2288 tasks      | elapsed:  1.7min\n",
      "[Parallel(n_jobs=-1)]: Done 2357 tasks      | elapsed:  1.7min\n",
      "[Parallel(n_jobs=-1)]: Done 2426 tasks      | elapsed:  1.7min\n",
      "[Parallel(n_jobs=-1)]: Done 2497 tasks      | elapsed:  1.8min\n",
      "[Parallel(n_jobs=-1)]: Done 2568 tasks      | elapsed:  1.9min\n",
      "[Parallel(n_jobs=-1)]: Done 2641 tasks      | elapsed:  1.9min\n",
      "[Parallel(n_jobs=-1)]: Done 2714 tasks      | elapsed:  1.9min\n",
      "[Parallel(n_jobs=-1)]: Done 2789 tasks      | elapsed:  1.9min\n",
      "[Parallel(n_jobs=-1)]: Done 2864 tasks      | elapsed:  2.0min\n",
      "[Parallel(n_jobs=-1)]: Done 2941 tasks      | elapsed:  2.0min\n",
      "[Parallel(n_jobs=-1)]: Done 3018 tasks      | elapsed:  2.0min\n",
      "[Parallel(n_jobs=-1)]: Done 3097 tasks      | elapsed:  2.2min\n",
      "[Parallel(n_jobs=-1)]: Done 3176 tasks      | elapsed:  2.3min\n",
      "[Parallel(n_jobs=-1)]: Done 3257 tasks      | elapsed:  2.4min\n",
      "[Parallel(n_jobs=-1)]: Done 3338 tasks      | elapsed:  2.5min\n",
      "[Parallel(n_jobs=-1)]: Done 3421 tasks      | elapsed:  2.5min\n",
      "[Parallel(n_jobs=-1)]: Done 3504 tasks      | elapsed:  2.6min\n",
      "[Parallel(n_jobs=-1)]: Done 3589 tasks      | elapsed:  2.6min\n",
      "[Parallel(n_jobs=-1)]: Done 3674 tasks      | elapsed:  2.6min\n",
      "[Parallel(n_jobs=-1)]: Done 3761 tasks      | elapsed:  2.7min\n",
      "[Parallel(n_jobs=-1)]: Done 3848 tasks      | elapsed:  2.7min\n",
      "[Parallel(n_jobs=-1)]: Done 3937 tasks      | elapsed:  2.7min\n",
      "[Parallel(n_jobs=-1)]: Done 4026 tasks      | elapsed:  2.8min\n",
      "[Parallel(n_jobs=-1)]: Done 4117 tasks      | elapsed:  3.0min\n",
      "[Parallel(n_jobs=-1)]: Done 4208 tasks      | elapsed:  3.1min\n",
      "[Parallel(n_jobs=-1)]: Done 4301 tasks      | elapsed:  3.2min\n",
      "[Parallel(n_jobs=-1)]: Done 4394 tasks      | elapsed:  3.3min\n",
      "[Parallel(n_jobs=-1)]: Done 4489 tasks      | elapsed:  3.3min\n",
      "[Parallel(n_jobs=-1)]: Done 4584 tasks      | elapsed:  3.4min\n",
      "[Parallel(n_jobs=-1)]: Done 4681 tasks      | elapsed:  3.4min\n",
      "[Parallel(n_jobs=-1)]: Done 4778 tasks      | elapsed:  3.5min\n",
      "[Parallel(n_jobs=-1)]: Done 4877 tasks      | elapsed:  3.5min\n",
      "[Parallel(n_jobs=-1)]: Done 4976 tasks      | elapsed:  3.6min\n",
      "[Parallel(n_jobs=-1)]: Done 5077 tasks      | elapsed:  3.8min\n",
      "[Parallel(n_jobs=-1)]: Done 5178 tasks      | elapsed:  3.9min\n",
      "[Parallel(n_jobs=-1)]: Done 5281 tasks      | elapsed:  4.0min\n",
      "[Parallel(n_jobs=-1)]: Done 5384 tasks      | elapsed:  4.1min\n",
      "[Parallel(n_jobs=-1)]: Done 5489 tasks      | elapsed:  4.2min\n",
      "[Parallel(n_jobs=-1)]: Done 5594 tasks      | elapsed:  4.2min\n",
      "[Parallel(n_jobs=-1)]: Done 5701 tasks      | elapsed:  4.3min\n",
      "[Parallel(n_jobs=-1)]: Done 5808 tasks      | elapsed:  4.3min\n",
      "[Parallel(n_jobs=-1)]: Done 5917 tasks      | elapsed:  4.4min\n",
      "[Parallel(n_jobs=-1)]: Done 6026 tasks      | elapsed:  4.4min\n",
      "[Parallel(n_jobs=-1)]: Done 6137 tasks      | elapsed:  4.6min\n",
      "[Parallel(n_jobs=-1)]: Done 6248 tasks      | elapsed:  4.6min\n",
      "[Parallel(n_jobs=-1)]: Done 6361 tasks      | elapsed:  4.7min\n",
      "[Parallel(n_jobs=-1)]: Done 6474 tasks      | elapsed:  4.8min\n",
      "[Parallel(n_jobs=-1)]: Done 6589 tasks      | elapsed:  4.9min\n",
      "[Parallel(n_jobs=-1)]: Done 6704 tasks      | elapsed:  4.9min\n",
      "[Parallel(n_jobs=-1)]: Done 6821 tasks      | elapsed:  5.0min\n",
      "[Parallel(n_jobs=-1)]: Done 6938 tasks      | elapsed:  5.0min\n",
      "[Parallel(n_jobs=-1)]: Done 7057 tasks      | elapsed:  5.1min\n",
      "[Parallel(n_jobs=-1)]: Done 7176 tasks      | elapsed:  5.2min\n",
      "[Parallel(n_jobs=-1)]: Done 7297 tasks      | elapsed:  5.4min\n",
      "[Parallel(n_jobs=-1)]: Done 7418 tasks      | elapsed:  5.4min\n",
      "[Parallel(n_jobs=-1)]: Done 7541 tasks      | elapsed:  5.5min\n",
      "[Parallel(n_jobs=-1)]: Done 7664 tasks      | elapsed:  5.6min\n",
      "[Parallel(n_jobs=-1)]: Done 7789 tasks      | elapsed:  5.6min\n",
      "[Parallel(n_jobs=-1)]: Done 7914 tasks      | elapsed:  5.7min\n",
      "[Parallel(n_jobs=-1)]: Done 8041 tasks      | elapsed:  5.8min\n",
      "[Parallel(n_jobs=-1)]: Done 8168 tasks      | elapsed:  5.9min\n",
      "[Parallel(n_jobs=-1)]: Done 8297 tasks      | elapsed:  6.1min\n",
      "[Parallel(n_jobs=-1)]: Done 8426 tasks      | elapsed:  6.1min\n",
      "[Parallel(n_jobs=-1)]: Done 8557 tasks      | elapsed:  6.2min\n",
      "[Parallel(n_jobs=-1)]: Done 8688 tasks      | elapsed:  6.3min\n",
      "[Parallel(n_jobs=-1)]: Done 8821 tasks      | elapsed:  6.3min\n",
      "[Parallel(n_jobs=-1)]: Done 8954 tasks      | elapsed:  6.4min\n",
      "[Parallel(n_jobs=-1)]: Done 9089 tasks      | elapsed:  6.6min\n",
      "[Parallel(n_jobs=-1)]: Done 9224 tasks      | elapsed:  6.7min\n"
     ]
    },
    {
     "name": "stderr",
     "output_type": "stream",
     "text": [
      "[Parallel(n_jobs=-1)]: Done 9361 tasks      | elapsed:  6.8min\n",
      "[Parallel(n_jobs=-1)]: Done 9498 tasks      | elapsed:  6.9min\n",
      "[Parallel(n_jobs=-1)]: Done 9637 tasks      | elapsed:  7.0min\n",
      "[Parallel(n_jobs=-1)]: Done 9776 tasks      | elapsed:  7.1min\n",
      "[Parallel(n_jobs=-1)]: Done 9917 tasks      | elapsed:  7.1min\n",
      "[Parallel(n_jobs=-1)]: Done 10058 tasks      | elapsed:  7.3min\n",
      "[Parallel(n_jobs=-1)]: Done 10201 tasks      | elapsed:  7.5min\n",
      "[Parallel(n_jobs=-1)]: Done 10344 tasks      | elapsed:  7.6min\n",
      "[Parallel(n_jobs=-1)]: Done 10489 tasks      | elapsed:  7.7min\n",
      "[Parallel(n_jobs=-1)]: Done 10634 tasks      | elapsed:  7.8min\n",
      "[Parallel(n_jobs=-1)]: Done 10781 tasks      | elapsed:  7.9min\n",
      "[Parallel(n_jobs=-1)]: Done 10928 tasks      | elapsed:  7.9min\n",
      "[Parallel(n_jobs=-1)]: Done 11077 tasks      | elapsed:  8.1min\n",
      "[Parallel(n_jobs=-1)]: Done 11226 tasks      | elapsed:  8.3min\n",
      "[Parallel(n_jobs=-1)]: Done 11377 tasks      | elapsed:  8.5min\n",
      "[Parallel(n_jobs=-1)]: Done 11528 tasks      | elapsed:  8.6min\n",
      "[Parallel(n_jobs=-1)]: Done 11681 tasks      | elapsed:  8.7min\n",
      "[Parallel(n_jobs=-1)]: Done 11834 tasks      | elapsed:  8.7min\n",
      "[Parallel(n_jobs=-1)]: Done 11989 tasks      | elapsed:  8.8min\n",
      "[Parallel(n_jobs=-1)]: Done 12144 tasks      | elapsed:  9.0min\n",
      "[Parallel(n_jobs=-1)]: Done 12301 tasks      | elapsed:  9.1min\n",
      "[Parallel(n_jobs=-1)]: Done 12458 tasks      | elapsed:  9.2min\n",
      "[Parallel(n_jobs=-1)]: Done 12617 tasks      | elapsed:  9.3min\n",
      "[Parallel(n_jobs=-1)]: Done 12776 tasks      | elapsed:  9.3min\n",
      "[Parallel(n_jobs=-1)]: Done 12937 tasks      | elapsed:  9.4min\n",
      "[Parallel(n_jobs=-1)]: Done 13098 tasks      | elapsed:  9.6min\n",
      "[Parallel(n_jobs=-1)]: Done 13261 tasks      | elapsed:  9.7min\n",
      "[Parallel(n_jobs=-1)]: Done 13424 tasks      | elapsed:  9.8min\n",
      "[Parallel(n_jobs=-1)]: Done 13589 tasks      | elapsed:  9.9min\n",
      "[Parallel(n_jobs=-1)]: Done 13754 tasks      | elapsed: 10.0min\n",
      "[Parallel(n_jobs=-1)]: Done 13921 tasks      | elapsed: 10.0min\n",
      "[Parallel(n_jobs=-1)]: Done 14088 tasks      | elapsed: 10.2min\n",
      "[Parallel(n_jobs=-1)]: Done 14257 tasks      | elapsed: 10.4min\n",
      "[Parallel(n_jobs=-1)]: Done 14426 tasks      | elapsed: 10.5min\n",
      "[Parallel(n_jobs=-1)]: Done 14597 tasks      | elapsed: 10.6min\n",
      "[Parallel(n_jobs=-1)]: Done 14768 tasks      | elapsed: 10.7min\n",
      "[Parallel(n_jobs=-1)]: Done 14941 tasks      | elapsed: 10.7min\n",
      "[Parallel(n_jobs=-1)]: Done 15114 tasks      | elapsed: 11.0min\n",
      "[Parallel(n_jobs=-1)]: Done 15289 tasks      | elapsed: 11.1min\n",
      "[Parallel(n_jobs=-1)]: Done 15464 tasks      | elapsed: 11.3min\n",
      "[Parallel(n_jobs=-1)]: Done 15641 tasks      | elapsed: 11.4min\n",
      "[Parallel(n_jobs=-1)]: Done 15818 tasks      | elapsed: 11.4min\n",
      "[Parallel(n_jobs=-1)]: Done 15997 tasks      | elapsed: 11.5min\n",
      "[Parallel(n_jobs=-1)]: Done 16176 tasks      | elapsed: 11.8min\n",
      "[Parallel(n_jobs=-1)]: Done 16357 tasks      | elapsed: 12.0min\n",
      "[Parallel(n_jobs=-1)]: Done 16538 tasks      | elapsed: 12.1min\n",
      "[Parallel(n_jobs=-1)]: Done 16721 tasks      | elapsed: 12.2min\n",
      "[Parallel(n_jobs=-1)]: Done 16904 tasks      | elapsed: 12.3min\n",
      "[Parallel(n_jobs=-1)]: Done 17089 tasks      | elapsed: 12.5min\n",
      "[Parallel(n_jobs=-1)]: Done 17274 tasks      | elapsed: 12.7min\n",
      "[Parallel(n_jobs=-1)]: Done 17461 tasks      | elapsed: 12.9min\n",
      "[Parallel(n_jobs=-1)]: Done 17648 tasks      | elapsed: 13.0min\n",
      "[Parallel(n_jobs=-1)]: Done 17837 tasks      | elapsed: 13.1min\n",
      "[Parallel(n_jobs=-1)]: Done 18000 out of 18000 | elapsed: 13.1min finished\n"
     ]
    },
    {
     "data": {
      "text/plain": [
       "{'criterion': 'entropy',\n",
       " 'max_depth': 100,\n",
       " 'max_features': 0.5,\n",
       " 'min_samples_leaf': 0.1,\n",
       " 'min_samples_split': 0.1,\n",
       " 'n_estimators': 100}"
      ]
     },
     "execution_count": 33,
     "metadata": {},
     "output_type": "execute_result"
    }
   ],
   "source": [
    "import numpy as np\n",
    "result = gscv.fit(X=train_pre,y=np.asarray(trainLabels_pre).ravel())\n",
    "result.best_params_"
   ]
  },
  {
   "cell_type": "code",
   "execution_count": 40,
   "metadata": {},
   "outputs": [],
   "source": [
    "best_rf_model = result.best_estimator_"
   ]
  },
  {
   "cell_type": "code",
   "execution_count": 41,
   "metadata": {},
   "outputs": [
    {
     "data": {
      "text/plain": [
       "0.8106796116504854"
      ]
     },
     "execution_count": 41,
     "metadata": {},
     "output_type": "execute_result"
    }
   ],
   "source": [
    "best = best_rf_model.fit(train,trainLabels.to_numpy().ravel())\n",
    "accuracy_score(testLabels,best.predict(test))"
   ]
  },
  {
   "cell_type": "markdown",
   "metadata": {},
   "source": [
    "# Gaussian mixture models"
   ]
  },
  {
   "cell_type": "code",
   "execution_count": 44,
   "metadata": {},
   "outputs": [],
   "source": [
    "from sklearn.mixture import GaussianMixture"
   ]
  },
  {
   "cell_type": "code",
   "execution_count": 64,
   "metadata": {},
   "outputs": [],
   "source": [
    "# Reimporting to do things a little differently\n",
    "\n",
    "train = np.asarray(pd.read_csv('train.csv',header=None))\n",
    "test = np.asarray(pd.read_csv('test.csv',header=None))\n",
    "trainLabels = np.asarray(pd.read_csv('trainLabels.csv',header=None)).ravel()\n",
    "\n",
    "all_data = np.r_[train,test]"
   ]
  },
  {
   "cell_type": "code",
   "execution_count": 65,
   "metadata": {},
   "outputs": [
    {
     "name": "stdout",
     "output_type": "stream",
     "text": [
      "Found new best one!\n",
      "Score:  915700.7005552652\n",
      "n_components:  1\n",
      "covariance_type:  full\n",
      "Found new best one!\n",
      "Score:  915700.7005452963\n",
      "n_components:  1\n",
      "covariance_type:  tied\n",
      "Found new best one!\n",
      "Score:  906832.1377218185\n",
      "n_components:  2\n",
      "covariance_type:  full\n",
      "Found new best one!\n",
      "Score:  885402.0752501116\n",
      "n_components:  3\n",
      "covariance_type:  full\n",
      "Found new best one!\n",
      "Score:  854029.7689210605\n",
      "n_components:  4\n",
      "covariance_type:  full\n"
     ]
    }
   ],
   "source": [
    "# Finding Gaussian mixture model based on all data\n",
    "n_components = [x for x in range(1,20)]\n",
    "covariant_type = ['full','tied','diag','spherical']\n",
    "\n",
    "lowest_score = np.infty\n",
    "\n",
    "for c in n_components:\n",
    "    for t in covariant_type:\n",
    "        gm = GaussianMixture(n_components=c,covariance_type=t)\n",
    "        model = gm.fit(all_data)\n",
    "        \n",
    "        score = gm.bic(all_data)\n",
    "\n",
    "        if score<lowest_score:\n",
    "            lowest_score = score\n",
    "            best_gm = gm\n",
    "            \n",
    "            print('Found new best one!')\n",
    "            print('Score: ',score)\n",
    "            print('n_components: ',c)\n",
    "            print('covariance_type: ',t)\n",
    "\n",
    "best_gm.fit(all_data)\n",
    "\n",
    "train = best_gm.predict_proba(train)\n",
    "test = best_gm.predict_proba(test)"
   ]
  },
  {
   "cell_type": "code",
   "execution_count": 66,
   "metadata": {},
   "outputs": [
    {
     "name": "stdout",
     "output_type": "stream",
     "text": [
      "(1000, 4)\n",
      "(9000, 4)\n"
     ]
    }
   ],
   "source": [
    "# Apparently 4 components is enough \n",
    "print(train.shape)\n",
    "print(test.shape)"
   ]
  },
  {
   "cell_type": "code",
   "execution_count": 73,
   "metadata": {},
   "outputs": [],
   "source": [
    "## Now we do a random forest gridsearch like above, but on the reduced dataset\n",
    "\n",
    "# param grid\n",
    "\n",
    "param_grid = {\n",
    "    'n_estimators': [2,4,8,16,32,64,128],\n",
    "    'max_depth' : [200,100,50,20],\n",
    "    'criterion' : ['entropy'],\n",
    "    'min_samples_split' : [0.1,0.3,0.5,0.75,1.0],\n",
    "    'min_samples_leaf' : np.linspace(0.1,0.5,num=5),\n",
    "    'max_features' : np.linspace(0.5,1.0,num=5+1)\n",
    "}\n",
    "\n",
    "rf = RandomForestClassifier()"
   ]
  },
  {
   "cell_type": "code",
   "execution_count": 74,
   "metadata": {},
   "outputs": [],
   "source": [
    "gscv = GridSearchCV(rf,param_grid=param_grid,scoring='accuracy',cv=10,n_jobs=-1,verbose=10)"
   ]
  },
  {
   "cell_type": "code",
   "execution_count": 75,
   "metadata": {},
   "outputs": [
    {
     "name": "stdout",
     "output_type": "stream",
     "text": [
      "Fitting 10 folds for each of 4200 candidates, totalling 42000 fits\n"
     ]
    },
    {
     "name": "stderr",
     "output_type": "stream",
     "text": [
      "[Parallel(n_jobs=-1)]: Using backend LokyBackend with 12 concurrent workers.\n",
      "[Parallel(n_jobs=-1)]: Done   1 tasks      | elapsed:    0.8s\n",
      "[Parallel(n_jobs=-1)]: Done   8 tasks      | elapsed:    0.9s\n",
      "[Parallel(n_jobs=-1)]: Done  17 tasks      | elapsed:    0.9s\n",
      "[Parallel(n_jobs=-1)]: Done  26 tasks      | elapsed:    1.0s\n",
      "[Parallel(n_jobs=-1)]: Done  37 tasks      | elapsed:    1.0s\n",
      "[Parallel(n_jobs=-1)]: Batch computation too fast (0.1791s.) Setting batch_size=2.\n",
      "[Parallel(n_jobs=-1)]: Done  48 tasks      | elapsed:    1.1s\n",
      "[Parallel(n_jobs=-1)]: Batch computation too fast (0.1175s.) Setting batch_size=6.\n",
      "[Parallel(n_jobs=-1)]: Done  62 tasks      | elapsed:    1.2s\n",
      "[Parallel(n_jobs=-1)]: Done  88 tasks      | elapsed:    1.2s\n",
      "[Parallel(n_jobs=-1)]: Batch computation too fast (0.1165s.) Setting batch_size=20.\n",
      "[Parallel(n_jobs=-1)]: Done 140 tasks      | elapsed:    1.5s\n",
      "[Parallel(n_jobs=-1)]: Done 286 tasks      | elapsed:    2.2s\n",
      "[Parallel(n_jobs=-1)]: Done 584 tasks      | elapsed:    3.7s\n",
      "[Parallel(n_jobs=-1)]: Batch computation too slow (2.0415s.) Setting batch_size=10.\n",
      "[Parallel(n_jobs=-1)]: Done 924 tasks      | elapsed:    5.0s\n",
      "[Parallel(n_jobs=-1)]: Done 1254 tasks      | elapsed:    6.4s\n",
      "[Parallel(n_jobs=-1)]: Done 1484 tasks      | elapsed:    7.3s\n",
      "[Parallel(n_jobs=-1)]: Done 1714 tasks      | elapsed:    8.1s\n",
      "[Parallel(n_jobs=-1)]: Done 1924 tasks      | elapsed:    9.0s\n",
      "[Parallel(n_jobs=-1)]: Done 2154 tasks      | elapsed:   10.0s\n",
      "[Parallel(n_jobs=-1)]: Done 2384 tasks      | elapsed:   10.9s\n",
      "[Parallel(n_jobs=-1)]: Done 2634 tasks      | elapsed:   12.0s\n",
      "[Parallel(n_jobs=-1)]: Done 2884 tasks      | elapsed:   12.9s\n",
      "[Parallel(n_jobs=-1)]: Done 3154 tasks      | elapsed:   14.0s\n",
      "[Parallel(n_jobs=-1)]: Done 3424 tasks      | elapsed:   15.2s\n",
      "[Parallel(n_jobs=-1)]: Done 3714 tasks      | elapsed:   16.4s\n",
      "[Parallel(n_jobs=-1)]: Done 4004 tasks      | elapsed:   17.6s\n",
      "[Parallel(n_jobs=-1)]: Done 4314 tasks      | elapsed:   18.9s\n",
      "[Parallel(n_jobs=-1)]: Done 4624 tasks      | elapsed:   20.2s\n",
      "[Parallel(n_jobs=-1)]: Done 4954 tasks      | elapsed:   21.5s\n",
      "[Parallel(n_jobs=-1)]: Done 5284 tasks      | elapsed:   22.9s\n",
      "[Parallel(n_jobs=-1)]: Done 5634 tasks      | elapsed:   24.3s\n",
      "[Parallel(n_jobs=-1)]: Done 5984 tasks      | elapsed:   25.8s\n",
      "[Parallel(n_jobs=-1)]: Done 6354 tasks      | elapsed:   27.4s\n",
      "[Parallel(n_jobs=-1)]: Done 6724 tasks      | elapsed:   28.9s\n",
      "[Parallel(n_jobs=-1)]: Done 7114 tasks      | elapsed:   30.5s\n",
      "[Parallel(n_jobs=-1)]: Done 7504 tasks      | elapsed:   32.1s\n",
      "[Parallel(n_jobs=-1)]: Done 7914 tasks      | elapsed:   33.8s\n",
      "[Parallel(n_jobs=-1)]: Done 8324 tasks      | elapsed:   35.5s\n",
      "[Parallel(n_jobs=-1)]: Done 8754 tasks      | elapsed:   37.2s\n",
      "[Parallel(n_jobs=-1)]: Done 9184 tasks      | elapsed:   39.2s\n",
      "[Parallel(n_jobs=-1)]: Done 9634 tasks      | elapsed:   41.1s\n",
      "[Parallel(n_jobs=-1)]: Done 10084 tasks      | elapsed:   42.9s\n",
      "[Parallel(n_jobs=-1)]: Done 10554 tasks      | elapsed:   44.8s\n",
      "[Parallel(n_jobs=-1)]: Done 11024 tasks      | elapsed:   46.8s\n",
      "[Parallel(n_jobs=-1)]: Done 11514 tasks      | elapsed:   48.8s\n",
      "[Parallel(n_jobs=-1)]: Done 12004 tasks      | elapsed:   50.7s\n",
      "[Parallel(n_jobs=-1)]: Done 12514 tasks      | elapsed:   52.9s\n",
      "[Parallel(n_jobs=-1)]: Done 13024 tasks      | elapsed:   55.0s\n",
      "[Parallel(n_jobs=-1)]: Done 13554 tasks      | elapsed:   57.1s\n",
      "[Parallel(n_jobs=-1)]: Done 14084 tasks      | elapsed:   59.3s\n",
      "[Parallel(n_jobs=-1)]: Done 14634 tasks      | elapsed:  1.0min\n",
      "[Parallel(n_jobs=-1)]: Done 15184 tasks      | elapsed:  1.1min\n",
      "[Parallel(n_jobs=-1)]: Done 15754 tasks      | elapsed:  1.1min\n",
      "[Parallel(n_jobs=-1)]: Done 16324 tasks      | elapsed:  1.1min\n",
      "[Parallel(n_jobs=-1)]: Done 16914 tasks      | elapsed:  1.2min\n",
      "[Parallel(n_jobs=-1)]: Done 17504 tasks      | elapsed:  1.2min\n",
      "[Parallel(n_jobs=-1)]: Done 18114 tasks      | elapsed:  1.3min\n",
      "[Parallel(n_jobs=-1)]: Done 18724 tasks      | elapsed:  1.3min\n",
      "[Parallel(n_jobs=-1)]: Done 19354 tasks      | elapsed:  1.4min\n",
      "[Parallel(n_jobs=-1)]: Done 19984 tasks      | elapsed:  1.4min\n",
      "[Parallel(n_jobs=-1)]: Done 20634 tasks      | elapsed:  1.4min\n",
      "[Parallel(n_jobs=-1)]: Done 21284 tasks      | elapsed:  1.5min\n",
      "[Parallel(n_jobs=-1)]: Done 21954 tasks      | elapsed:  1.5min\n",
      "[Parallel(n_jobs=-1)]: Done 22624 tasks      | elapsed:  1.6min\n",
      "[Parallel(n_jobs=-1)]: Done 23314 tasks      | elapsed:  1.6min\n",
      "[Parallel(n_jobs=-1)]: Done 24004 tasks      | elapsed:  1.7min\n",
      "[Parallel(n_jobs=-1)]: Done 24714 tasks      | elapsed:  1.7min\n",
      "[Parallel(n_jobs=-1)]: Done 25424 tasks      | elapsed:  1.8min\n",
      "[Parallel(n_jobs=-1)]: Done 26154 tasks      | elapsed:  1.8min\n",
      "[Parallel(n_jobs=-1)]: Done 26884 tasks      | elapsed:  1.9min\n",
      "[Parallel(n_jobs=-1)]: Done 27634 tasks      | elapsed:  1.9min\n",
      "[Parallel(n_jobs=-1)]: Done 28384 tasks      | elapsed:  2.0min\n",
      "[Parallel(n_jobs=-1)]: Done 29154 tasks      | elapsed:  2.0min\n",
      "[Parallel(n_jobs=-1)]: Done 29924 tasks      | elapsed:  2.1min\n",
      "[Parallel(n_jobs=-1)]: Done 30714 tasks      | elapsed:  2.1min\n",
      "[Parallel(n_jobs=-1)]: Done 31504 tasks      | elapsed:  2.2min\n",
      "[Parallel(n_jobs=-1)]: Done 32314 tasks      | elapsed:  2.3min\n",
      "[Parallel(n_jobs=-1)]: Done 33124 tasks      | elapsed:  2.3min\n",
      "[Parallel(n_jobs=-1)]: Done 33954 tasks      | elapsed:  2.4min\n",
      "[Parallel(n_jobs=-1)]: Done 34784 tasks      | elapsed:  2.4min\n",
      "[Parallel(n_jobs=-1)]: Done 35634 tasks      | elapsed:  2.5min\n",
      "[Parallel(n_jobs=-1)]: Done 36484 tasks      | elapsed:  2.5min\n",
      "[Parallel(n_jobs=-1)]: Done 37354 tasks      | elapsed:  2.6min\n",
      "[Parallel(n_jobs=-1)]: Done 38224 tasks      | elapsed:  2.7min\n",
      "[Parallel(n_jobs=-1)]: Done 39114 tasks      | elapsed:  2.7min\n",
      "[Parallel(n_jobs=-1)]: Done 40004 tasks      | elapsed:  2.8min\n",
      "[Parallel(n_jobs=-1)]: Done 40914 tasks      | elapsed:  2.8min\n",
      "[Parallel(n_jobs=-1)]: Done 42000 out of 42000 | elapsed:  2.9min finished\n"
     ]
    },
    {
     "data": {
      "text/plain": [
       "{'criterion': 'entropy',\n",
       " 'max_depth': 200,\n",
       " 'max_features': 0.5,\n",
       " 'min_samples_leaf': 0.1,\n",
       " 'min_samples_split': 0.1,\n",
       " 'n_estimators': 4}"
      ]
     },
     "execution_count": 75,
     "metadata": {},
     "output_type": "execute_result"
    }
   ],
   "source": [
    "import numpy as np\n",
    "result = gscv.fit(X=train,y=trainLabels)\n",
    "result.best_params_"
   ]
  },
  {
   "cell_type": "code",
   "execution_count": 76,
   "metadata": {},
   "outputs": [
    {
     "name": "stdout",
     "output_type": "stream",
     "text": [
      "0.996\n"
     ]
    }
   ],
   "source": [
    "print(result.best_score_)"
   ]
  },
  {
   "cell_type": "code",
   "execution_count": 77,
   "metadata": {},
   "outputs": [],
   "source": [
    "best_rf_model = result.best_estimator_"
   ]
  },
  {
   "cell_type": "code",
   "execution_count": 78,
   "metadata": {},
   "outputs": [],
   "source": [
    "best = best_rf_model.fit(train,trainLabels)\n",
    "predictions = best.predict(test)"
   ]
  },
  {
   "cell_type": "markdown",
   "metadata": {},
   "source": [
    "# Submit to Kaggle"
   ]
  },
  {
   "cell_type": "code",
   "execution_count": 79,
   "metadata": {},
   "outputs": [],
   "source": [
    "file_name = \"solution_5.csv\"\n",
    "message = \"New attempt of gaussian mixture models + rf CV\"\n",
    "header = ['Id','Solution']\n",
    "\n",
    "\n",
    "\n",
    "pd.DataFrame(\n",
    "    data=list(zip([x for x in range(1,len(final)+1)], predictions.tolist()))\n",
    ").to_csv('{}'.format(file_name), index=False, header=header)"
   ]
  },
  {
   "cell_type": "code",
   "execution_count": 80,
   "metadata": {},
   "outputs": [
    {
     "name": "stdout",
     "output_type": "stream",
     "text": [
      "Successfully submitted to Data Science London + Scikit-learn"
     ]
    },
    {
     "name": "stderr",
     "output_type": "stream",
     "text": [
      "\r",
      "  0%|          | 0.00/60.5k [00:00<?, ?B/s]\r",
      " 13%|█▎        | 8.00k/60.5k [00:00<00:00, 71.9kB/s]\r",
      "100%|██████████| 60.5k/60.5k [00:04<00:00, 12.8kB/s]\n"
     ]
    }
   ],
   "source": [
    "%%bash -s \"$file_name\" \"$message\"\n",
    "kaggle competitions submit -c data-science-london-scikit-learn -f $1 -m \"$2\""
   ]
  },
  {
   "cell_type": "code",
   "execution_count": null,
   "metadata": {},
   "outputs": [],
   "source": []
  }
 ],
 "metadata": {
  "kernelspec": {
   "display_name": "Python 3",
   "language": "python",
   "name": "python3"
  },
  "language_info": {
   "codemirror_mode": {
    "name": "ipython",
    "version": 3
   },
   "file_extension": ".py",
   "mimetype": "text/x-python",
   "name": "python",
   "nbconvert_exporter": "python",
   "pygments_lexer": "ipython3",
   "version": "3.6.7"
  }
 },
 "nbformat": 4,
 "nbformat_minor": 2
}
