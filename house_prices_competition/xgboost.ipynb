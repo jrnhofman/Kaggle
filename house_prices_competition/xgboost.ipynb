{
 "cells": [
  {
   "cell_type": "code",
   "execution_count": 1,
   "metadata": {
    "_cell_guid": "b1076dfc-b9ad-4769-8c92-a6c4dae69d19",
    "_uuid": "8f2839f25d086af736a60e9eeb907d3b93b6e0e5"
   },
   "outputs": [],
   "source": [
    "import numpy as np\n",
    "import pandas as pd\n",
    "\n",
    "from sklearn.model_selection import train_test_split\n"
   ]
  },
  {
   "cell_type": "code",
   "execution_count": 2,
   "metadata": {
    "_cell_guid": "79c7e3d0-c299-4dcb-8224-4455121ee9b0",
    "_uuid": "d629ff2d2480ee46fbb7e2d37f6b5fab8052498a"
   },
   "outputs": [],
   "source": [
    "# Read the data\n",
    "X_full = pd.read_csv('train.csv', index_col='Id')\n",
    "X_test_full = pd.read_csv('test.csv', index_col='Id')\n",
    "\n",
    "# Remove rows with missing target, separate target from predictors\n",
    "X_full.dropna(axis=0, subset=['SalePrice'], inplace=True)\n",
    "y = X_full.SalePrice\n",
    "X_full.drop(['SalePrice'], axis=1, inplace=True)\n",
    "\n",
    "categorical_cols = [cname for cname in X_full.columns if X_full[cname].dtype == \"object\"]\n",
    "numerical_cols = [cname for cname in X_full.columns if X_full[cname].dtype in ['int64', 'float64']]"
   ]
  },
  {
   "cell_type": "code",
   "execution_count": 3,
   "metadata": {},
   "outputs": [
    {
     "data": {
      "text/plain": [
       "(1460, 79)"
      ]
     },
     "execution_count": 3,
     "metadata": {},
     "output_type": "execute_result"
    }
   ],
   "source": [
    "# Shape\n",
    "X_full.shape"
   ]
  },
  {
   "cell_type": "code",
   "execution_count": 4,
   "metadata": {},
   "outputs": [
    {
     "data": {
      "text/plain": [
       "Alley           1369\n",
       "MasVnrType         8\n",
       "BsmtQual          37\n",
       "BsmtCond          37\n",
       "BsmtExposure      38\n",
       "BsmtFinType1      37\n",
       "BsmtFinType2      38\n",
       "Electrical         1\n",
       "FireplaceQu      690\n",
       "GarageType        81\n",
       "GarageFinish      81\n",
       "GarageQual        81\n",
       "GarageCond        81\n",
       "PoolQC          1453\n",
       "Fence           1179\n",
       "MiscFeature     1406\n",
       "dtype: int64"
      ]
     },
     "execution_count": 4,
     "metadata": {},
     "output_type": "execute_result"
    }
   ],
   "source": [
    "# Missing values, categorical\n",
    "mis_cat = X_full[categorical_cols].isnull().sum()\n",
    "mis_cat[mis_cat > 0]"
   ]
  },
  {
   "cell_type": "code",
   "execution_count": 5,
   "metadata": {},
   "outputs": [
    {
     "data": {
      "text/plain": [
       "LotFrontage    259\n",
       "MasVnrArea       8\n",
       "GarageYrBlt     81\n",
       "dtype: int64"
      ]
     },
     "execution_count": 5,
     "metadata": {},
     "output_type": "execute_result"
    }
   ],
   "source": [
    "# Missing values, continueous\n",
    "mis_num = X_full[numerical_cols].isnull().sum()\n",
    "mis_num[mis_num > 0]"
   ]
  },
  {
   "cell_type": "markdown",
   "metadata": {},
   "source": [
    "# Treatment of missing features\n",
    "\n",
    "- Missing categorical features (except MiscFeature, Electrical) seem to be caused by simply not having that part of the house, in this case the 'NaN' for feature X can be interpreted as 'does not have feature X in the house' and so deserves a separate category. So it makes sense to impute the NaNs with a new category.\n",
    "- MiscFeature: Is mostly empty, however 49 of the values are Shed, prompting me to create a new feature HasShed out of this.\n",
    "- Electrical: Impute by most common category (SBrkr)\n",
    "\n",
    "- Missing continuous features, we use median for LotFrontage, 0 for MasVnrArea and the median for GarageYrBlt"
   ]
  },
  {
   "cell_type": "code",
   "execution_count": 13,
   "metadata": {},
   "outputs": [],
   "source": [
    "from sklearn.compose import ColumnTransformer\n",
    "from sklearn.pipeline import Pipeline\n",
    "from sklearn.impute import SimpleImputer\n",
    "from sklearn.preprocessing import OneHotEncoder\n",
    "from sklearn.ensemble import RandomForestRegressor\n",
    "from sklearn.metrics import mean_absolute_error\n",
    "\n",
    "# We create an explicit for feature for 'HasShed' from 'MiscFeature'\n",
    "X_full['Has_shed'] = np.where(X_full['MiscFeature']=='Shed',1,0)\n",
    "X_full_final = X_full.drop('MiscFeature',axis=1)\n",
    "\n",
    "# We need a bunch of transformers based on the above\n",
    "# Preprocessing for numerical data\n",
    "numerical_transformer_median = SimpleImputer(strategy='median') \n",
    "\n",
    "numerical_transformer_constant = SimpleImputer(strategy='constant',fill_value=0) \n",
    "\n",
    "# Preprocessing for categorical data\n",
    "categorical_transformer_constant = Pipeline(steps=[\n",
    "    ('imputer', SimpleImputer(strategy='constant', fill_value='NotPresentInTheHouse')),\n",
    "    ('onehot', OneHotEncoder(handle_unknown='ignore'))\n",
    "])\n",
    "\n",
    "categorical_transformer_mode = Pipeline(steps=[\n",
    "    ('imputer', SimpleImputer(strategy='most_frequent')),\n",
    "    ('onehot', OneHotEncoder(handle_unknown='ignore'))\n",
    "])\n",
    "\n",
    "categorical_transformer_other = Pipeline(steps=[\n",
    "    ('imputer', SimpleImputer(strategy='most_frequent')),\n",
    "    ('onehot', OneHotEncoder(handle_unknown='ignore'))\n",
    "])\n",
    "\n",
    "\n",
    "# Column categories\n",
    "num_col_median = ['LotFrontage','GarageYrBlt']\n",
    "\n",
    "num_col_constant = ['MasVnrArea']\n",
    "\n",
    "cat_col_constant = (['Alley',\n",
    "                         'MasVnrType',\n",
    "                         'BsmtQual',\n",
    "                         'BsmtCond',\n",
    "                         'BsmtExposure',\n",
    "                         'BsmtFinType1',\n",
    "                         'BsmtFinType2',\n",
    "                         'FireplaceQu',\n",
    "                         'GarageType',\n",
    "                         'GarageFinish',\n",
    "                         'GarageQual',\n",
    "                         'GarageCond',\n",
    "                         'PoolQC',\n",
    "                         'Fence'])\n",
    "\n",
    "cat_col_mode = ['Electrical']\n",
    "\n",
    "cat_col_other = (['MSZoning',\n",
    "             'Street',\n",
    "             'LotShape',\n",
    "             'LandContour',\n",
    "             'Utilities',\n",
    "             'LotConfig',\n",
    "             'LandSlope',\n",
    "             'Neighborhood',\n",
    "             'Condition1',\n",
    "             'Condition2',\n",
    "             'BldgType',\n",
    "             'HouseStyle',\n",
    "             'RoofStyle',\n",
    "             'RoofMatl',\n",
    "             'Exterior1st',\n",
    "             'Exterior2nd',\n",
    "             'ExterQual',\n",
    "             'ExterCond',\n",
    "             'Foundation',\n",
    "             'Heating',\n",
    "             'HeatingQC',\n",
    "             'CentralAir',\n",
    "             'KitchenQual',\n",
    "             'Functional',\n",
    "             'PavedDrive',\n",
    "             'SaleType',\n",
    "             'SaleCondition'])"
   ]
  },
  {
   "cell_type": "code",
   "execution_count": 14,
   "metadata": {},
   "outputs": [],
   "source": [
    "# Bundle preprocessing for numerical and categorical data\n",
    "preprocessor = ColumnTransformer(\n",
    "    transformers=[\n",
    "        ('num_median', numerical_transformer_median, num_col_median),\n",
    "        ('num_constant', numerical_transformer_constant, num_col_constant),\n",
    "        ('cat_constant', categorical_transformer_constant, cat_col_constant),\n",
    "        ('cat_mode', categorical_transformer_mode, cat_col_mode),\n",
    "        ('cat_other', categorical_transformer_other, cat_col_other),\n",
    "    ], remainder = 'passthrough' )"
   ]
  },
  {
   "cell_type": "code",
   "execution_count": 15,
   "metadata": {},
   "outputs": [],
   "source": [
    "# Preprocessing\n",
    "# Break off validation set from training data\n",
    "X_train_full, X_valid_full, y_train, y_valid = train_test_split(X_full_final, y, train_size=0.8, test_size=0.2,\n",
    "                                                                random_state=0)\n",
    "\n",
    "X_train_processed = preprocessor.fit_transform(X_train_full)\n",
    "X_valid_processed = preprocessor.transform(X_valid_full)"
   ]
  },
  {
   "cell_type": "code",
   "execution_count": 9,
   "metadata": {},
   "outputs": [
    {
     "name": "stdout",
     "output_type": "stream",
     "text": [
      "n_estimators:  500 lr:  0.1 mae: 16249.015825663528\n",
      "n_estimators:  500 lr:  0.05 mae: 15881.692543343323\n",
      "n_estimators:  500 lr:  0.025 mae: 16436.840967465752\n",
      "n_estimators:  500 lr:  0.01 mae: 17689.934904751713\n",
      "n_estimators:  1000 lr:  0.1 mae: 16100.47886344178\n",
      "n_estimators:  1000 lr:  0.05 mae: 15497.979505565068\n",
      "n_estimators:  1000 lr:  0.025 mae: 16047.054526969177\n",
      "n_estimators:  1000 lr:  0.01 mae: 16696.99918396832\n",
      "n_estimators:  2000 lr:  0.1 mae: 16128.148892337329\n",
      "n_estimators:  2000 lr:  0.05 mae: 15441.344753317637\n",
      "n_estimators:  2000 lr:  0.025 mae: 15753.070740582192\n",
      "n_estimators:  2000 lr:  0.01 mae: 16178.143354023972\n"
     ]
    }
   ],
   "source": [
    "from xgboost import XGBRegressor\n",
    "from sklearn.metrics import mean_absolute_error\n",
    "\n",
    "import warnings\n",
    "warnings.filterwarnings('ignore')\n",
    "\n",
    "n_estimators = [500,1000,2000]\n",
    "learning_rate = [0.1,0.05,0.025,0.01]\n",
    "\n",
    "for n in n_estimators:\n",
    "    for l in learning_rate:\n",
    "\n",
    "        model = XGBRegressor(n_estimators=n, learning_rate=l)\n",
    "        model.fit(X_train_processed, y_train,verbose=False)\n",
    "        \n",
    "        predictions = model.predict(X_valid_processed)\n",
    "\n",
    "        print('n_estimators: ', n, 'lr: ', l, 'mae:', mean_absolute_error(predictions,y_valid))"
   ]
  },
  {
   "cell_type": "code",
   "execution_count": 16,
   "metadata": {},
   "outputs": [],
   "source": [
    "# Creating final model\n",
    "\n",
    "model = XGBRegressor(n_estimators=2000, learning_rate=0.05)\n",
    "\n",
    "# Training preprocessing\n",
    "X_full_processed = preprocessor.fit_transform(X_full_final)\n",
    "\n",
    "# Test preprocessing\n",
    "X_test_full['Has_shed'] = np.where(X_test_full['MiscFeature']=='Shed',1,0)\n",
    "X_test_full_final = X_test_full.drop('MiscFeature',axis=1)\n",
    "X_test_processed = preprocessor.transform(X_test_full_final)\n",
    "\n",
    "model.fit(X_full_processed,y)\n",
    "predictions = model.predict(X_test_processed)\n"
   ]
  },
  {
   "cell_type": "code",
   "execution_count": 20,
   "metadata": {},
   "outputs": [],
   "source": [
    "#Submitting\n",
    "file_name = \"solution.csv\"\n",
    "message = \"XGBoost\"\n",
    "header = ['Id','SalePrice']\n",
    "\n",
    "\n",
    "\n",
    "pd.DataFrame(\n",
    "    data=list(zip([x for x in X_test_full.index.tolist()], [int(x) for x in predictions.tolist()]))\n",
    ").to_csv('{}'.format(file_name), index=False, header=header)"
   ]
  },
  {
   "cell_type": "code",
   "execution_count": 21,
   "metadata": {},
   "outputs": [
    {
     "name": "stdout",
     "output_type": "stream",
     "text": [
      "Successfully submitted to Housing Prices Competition for Kaggle Learn Users"
     ]
    },
    {
     "name": "stderr",
     "output_type": "stream",
     "text": [
      "\r",
      "  0%|          | 0.00/17.0k [00:00<?, ?B/s]\r",
      "100%|██████████| 17.0k/17.0k [00:06<00:00, 2.89kB/s]\n"
     ]
    }
   ],
   "source": [
    "%%bash -s \"$file_name\" \"$message\"\n",
    "kaggle competitions submit -c home-data-for-ml-course -f $1 -m \"$2\""
   ]
  },
  {
   "cell_type": "code",
   "execution_count": null,
   "metadata": {},
   "outputs": [],
   "source": []
  }
 ],
 "metadata": {
  "kernelspec": {
   "display_name": "Python 3",
   "language": "python",
   "name": "python3"
  },
  "language_info": {
   "codemirror_mode": {
    "name": "ipython",
    "version": 3
   },
   "file_extension": ".py",
   "mimetype": "text/x-python",
   "name": "python",
   "nbconvert_exporter": "python",
   "pygments_lexer": "ipython3",
   "version": "3.6.8"
  }
 },
 "nbformat": 4,
 "nbformat_minor": 1
}
