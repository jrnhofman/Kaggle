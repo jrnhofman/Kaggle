{
 "cells": [
  {
   "cell_type": "code",
   "execution_count": 1,
   "metadata": {
    "_cell_guid": "b1076dfc-b9ad-4769-8c92-a6c4dae69d19",
    "_uuid": "8f2839f25d086af736a60e9eeb907d3b93b6e0e5"
   },
   "outputs": [],
   "source": [
    "import numpy as np\n",
    "import pandas as pd"
   ]
  },
  {
   "cell_type": "code",
   "execution_count": 2,
   "metadata": {
    "_cell_guid": "79c7e3d0-c299-4dcb-8224-4455121ee9b0",
    "_uuid": "d629ff2d2480ee46fbb7e2d37f6b5fab8052498a"
   },
   "outputs": [],
   "source": [
    "# Read the data\n",
    "X_full = pd.read_csv('train.csv', index_col='Id')\n",
    "X_test_full = pd.read_csv('test.csv', index_col='Id')\n",
    "\n",
    "# Remove rows with missing target, separate target from predictors\n",
    "X_full.dropna(axis=0, subset=['SalePrice'], inplace=True)\n",
    "y = X_full.SalePrice\n",
    "X_full.drop(['SalePrice'], axis=1, inplace=True)\n",
    "\n",
    "categorical_cols = [cname for cname in X_full.columns if X_full[cname].dtype == \"object\"]\n",
    "numerical_cols = [cname for cname in X_full.columns if X_full[cname].dtype in ['int64', 'float64']]"
   ]
  },
  {
   "cell_type": "code",
   "execution_count": 3,
   "metadata": {},
   "outputs": [
    {
     "data": {
      "text/plain": [
       "(1460, 79)"
      ]
     },
     "execution_count": 3,
     "metadata": {},
     "output_type": "execute_result"
    }
   ],
   "source": [
    "# Shape\n",
    "X_full.shape"
   ]
  },
  {
   "cell_type": "code",
   "execution_count": 4,
   "metadata": {},
   "outputs": [
    {
     "data": {
      "text/plain": [
       "Alley           1369\n",
       "MasVnrType         8\n",
       "BsmtQual          37\n",
       "BsmtCond          37\n",
       "BsmtExposure      38\n",
       "BsmtFinType1      37\n",
       "BsmtFinType2      38\n",
       "Electrical         1\n",
       "FireplaceQu      690\n",
       "GarageType        81\n",
       "GarageFinish      81\n",
       "GarageQual        81\n",
       "GarageCond        81\n",
       "PoolQC          1453\n",
       "Fence           1179\n",
       "MiscFeature     1406\n",
       "dtype: int64"
      ]
     },
     "execution_count": 4,
     "metadata": {},
     "output_type": "execute_result"
    }
   ],
   "source": [
    "# Missing values, categorical\n",
    "mis_cat = X_full[categorical_cols].isnull().sum()\n",
    "mis_cat[mis_cat > 0]"
   ]
  },
  {
   "cell_type": "code",
   "execution_count": 5,
   "metadata": {},
   "outputs": [
    {
     "data": {
      "text/plain": [
       "LotFrontage    259\n",
       "MasVnrArea       8\n",
       "GarageYrBlt     81\n",
       "dtype: int64"
      ]
     },
     "execution_count": 5,
     "metadata": {},
     "output_type": "execute_result"
    }
   ],
   "source": [
    "# Missing values, continueous\n",
    "mis_num = X_full[numerical_cols].isnull().sum()\n",
    "mis_num[mis_num > 0]"
   ]
  },
  {
   "cell_type": "markdown",
   "metadata": {},
   "source": [
    "# Treatment of missing features\n",
    "\n",
    "- Missing categorical features (except MiscFeature, Electrical) seem to be caused by simply not having that part of the house, in this case the 'NaN' for feature X can be interpreted as 'does not have feature X in the house' and so deserves a separate category. So it makes sense to impute the NaNs with a new category.\n",
    "- MiscFeature: Is mostly empty, however 49 of the values are Shed, prompting me to create a new feature HasShed out of this.\n",
    "- Electrical: Impute by most common category (SBrkr)\n",
    "\n",
    "- Missing continuous features, we use median for LotFrontage, 0 for MasVnrArea and the median for GarageYrBlt"
   ]
  },
  {
   "cell_type": "code",
   "execution_count": 6,
   "metadata": {},
   "outputs": [],
   "source": [
    "from sklearn.compose import ColumnTransformer\n",
    "from sklearn.pipeline import Pipeline\n",
    "from sklearn.impute import SimpleImputer\n",
    "from sklearn.preprocessing import OneHotEncoder\n",
    "from sklearn.ensemble import RandomForestRegressor\n",
    "from sklearn.metrics import mean_absolute_error\n",
    "\n",
    "# We create an explicit for feature for 'HasShed' from 'MiscFeature'\n",
    "X_full['Has_shed'] = np.where(X_full['MiscFeature']=='Shed',1,0)\n",
    "X_full_final = X_full.drop('MiscFeature',axis=1)\n",
    "\n",
    "# We need a bunch of transformers based on the above\n",
    "# Preprocessing for numerical data\n",
    "numerical_transformer_median = SimpleImputer(strategy='median') \n",
    "\n",
    "numerical_transformer_constant = SimpleImputer(strategy='constant',fill_value=0) \n",
    "\n",
    "# Preprocessing for categorical data\n",
    "categorical_transformer_constant = Pipeline(steps=[\n",
    "    ('imputer', SimpleImputer(strategy='constant', fill_value='NotPresentInTheHouse')),\n",
    "    ('onehot', OneHotEncoder(handle_unknown='ignore'))\n",
    "])\n",
    "\n",
    "categorical_transformer_mode = Pipeline(steps=[\n",
    "    ('imputer', SimpleImputer(strategy='most_frequent')),\n",
    "    ('onehot', OneHotEncoder(handle_unknown='ignore'))\n",
    "])\n",
    "\n",
    "categorical_transformer_other = Pipeline(steps=[\n",
    "    ('onehot', OneHotEncoder(handle_unknown='ignore'))\n",
    "])\n",
    "\n",
    "\n",
    "# Column categories\n",
    "num_col_median = ['LotFrontage','GarageYrBlt']\n",
    "\n",
    "num_col_constant = ['MasVnrArea']\n",
    "\n",
    "cat_col_constant = (['Alley',\n",
    "                         'MasVnrType',\n",
    "                         'BsmtQual',\n",
    "                         'BsmtCond',\n",
    "                         'BsmtExposure',\n",
    "                         'BsmtFinType1',\n",
    "                         'BsmtFinType2',\n",
    "                         'FireplaceQu',\n",
    "                         'GarageType',\n",
    "                         'GarageFinish',\n",
    "                         'GarageQual',\n",
    "                         'GarageCond',\n",
    "                         'PoolQC',\n",
    "                         'Fence'])\n",
    "\n",
    "cat_col_mode = ['Electrical']\n",
    "\n",
    "cat_col_other = (['MSZoning',\n",
    "             'Street',\n",
    "             'LotShape',\n",
    "             'LandContour',\n",
    "             'Utilities',\n",
    "             'LotConfig',\n",
    "             'LandSlope',\n",
    "             'Neighborhood',\n",
    "             'Condition1',\n",
    "             'Condition2',\n",
    "             'BldgType',\n",
    "             'HouseStyle',\n",
    "             'RoofStyle',\n",
    "             'RoofMatl',\n",
    "             'Exterior1st',\n",
    "             'Exterior2nd',\n",
    "             'ExterQual',\n",
    "             'ExterCond',\n",
    "             'Foundation',\n",
    "             'Heating',\n",
    "             'HeatingQC',\n",
    "             'CentralAir',\n",
    "             'KitchenQual',\n",
    "             'Functional',\n",
    "             'PavedDrive',\n",
    "             'SaleType',\n",
    "             'SaleCondition'])"
   ]
  },
  {
   "cell_type": "code",
   "execution_count": 7,
   "metadata": {},
   "outputs": [],
   "source": [
    "# Bundle preprocessing for numerical and categorical data\n",
    "preprocessor = ColumnTransformer(\n",
    "    transformers=[\n",
    "        ('num_median', numerical_transformer_median, num_col_median),\n",
    "        ('num_constant', numerical_transformer_constant, num_col_constant),\n",
    "        ('cat_constant', categorical_transformer_constant, cat_col_constant),\n",
    "        ('cat_mode', categorical_transformer_mode, cat_col_mode),\n",
    "        ('cat_other', categorical_transformer_other, cat_col_other),\n",
    "    ], remainder = 'passthrough' )"
   ]
  },
  {
   "cell_type": "code",
   "execution_count": 9,
   "metadata": {},
   "outputs": [
    {
     "name": "stdout",
     "output_type": "stream",
     "text": [
      "Fitting 5 folds for each of 60 candidates, totalling 300 fits\n"
     ]
    },
    {
     "name": "stderr",
     "output_type": "stream",
     "text": [
      "[Parallel(n_jobs=10)]: Using backend LokyBackend with 10 concurrent workers.\n",
      "[Parallel(n_jobs=10)]: Done   5 tasks      | elapsed:   11.5s\n",
      "[Parallel(n_jobs=10)]: Done  12 tasks      | elapsed:   38.1s\n",
      "[Parallel(n_jobs=10)]: Done  21 tasks      | elapsed:  1.1min\n",
      "[Parallel(n_jobs=10)]: Done  30 tasks      | elapsed:  1.8min\n",
      "[Parallel(n_jobs=10)]: Done  41 tasks      | elapsed:  3.1min\n",
      "[Parallel(n_jobs=10)]: Done  52 tasks      | elapsed:  4.6min\n",
      "[Parallel(n_jobs=10)]: Done  65 tasks      | elapsed:  7.0min\n",
      "[Parallel(n_jobs=10)]: Done  78 tasks      | elapsed:  7.8min\n",
      "[Parallel(n_jobs=10)]: Done  93 tasks      | elapsed:  9.8min\n",
      "[Parallel(n_jobs=10)]: Done 108 tasks      | elapsed: 11.7min\n",
      "[Parallel(n_jobs=10)]: Done 125 tasks      | elapsed: 14.2min\n",
      "[Parallel(n_jobs=10)]: Done 142 tasks      | elapsed: 17.7min\n",
      "[Parallel(n_jobs=10)]: Done 161 tasks      | elapsed: 19.7min\n",
      "[Parallel(n_jobs=10)]: Done 180 tasks      | elapsed: 22.7min\n",
      "[Parallel(n_jobs=10)]: Done 201 tasks      | elapsed: 26.1min\n",
      "[Parallel(n_jobs=10)]: Done 222 tasks      | elapsed: 30.3min\n",
      "[Parallel(n_jobs=10)]: Done 245 tasks      | elapsed: 33.6min\n",
      "[Parallel(n_jobs=10)]: Done 268 tasks      | elapsed: 37.8min\n",
      "[Parallel(n_jobs=10)]: Done 300 out of 300 | elapsed: 46.6min finished\n"
     ]
    }
   ],
   "source": [
    "from sklearn.model_selection import GridSearchCV\n",
    "\n",
    "rfr = RandomForestRegressor(random_state=0)\n",
    "\n",
    "# param grid\n",
    "param_grid = {\n",
    "    'n_estimators': [100,200,500],#[2,4,8,16,32,64,128],\n",
    "    'max_depth' : [2,3,4,5],#,8,10],#[20,10,5], #[200,100,50,20,10],\n",
    "    'criterion' : ['mae'],\n",
    "    'min_samples_split' : [2],#,4,8,16], #[0.1,0.3,0.5,0.75,1.0],\n",
    "    'min_samples_leaf' : [1],#,2,4,8], #np.linspace(0.1,0.5,num=5),\n",
    "    'max_features' : [0.2,0.4,0.6,0.8,1.0]\n",
    "}\n",
    "\n",
    "gscv = GridSearchCV( estimator = rfr, param_grid = param_grid, scoring = 'neg_mean_absolute_error', cv = 5, n_jobs = 10, verbose = 10 )\n",
    "\n",
    "# Bundle preprocessing and modeling code in a pipeline\n",
    "my_pipeline = Pipeline(steps=[('preprocessor', preprocessor),\n",
    "                              ('gscv', gscv)\n",
    "                             ])\n",
    "\n",
    "my_pipeline.fit(X_full_final,y);"
   ]
  },
  {
   "cell_type": "code",
   "execution_count": 10,
   "metadata": {},
   "outputs": [
    {
     "data": {
      "text/plain": [
       "-19645.382488013696"
      ]
     },
     "execution_count": 10,
     "metadata": {},
     "output_type": "execute_result"
    }
   ],
   "source": [
    "gscv.best_score_"
   ]
  },
  {
   "cell_type": "code",
   "execution_count": 11,
   "metadata": {},
   "outputs": [
    {
     "data": {
      "text/plain": [
       "{'criterion': 'mae',\n",
       " 'max_depth': 5,\n",
       " 'max_features': 0.4,\n",
       " 'min_samples_leaf': 1,\n",
       " 'min_samples_split': 2,\n",
       " 'n_estimators': 200}"
      ]
     },
     "execution_count": 11,
     "metadata": {},
     "output_type": "execute_result"
    }
   ],
   "source": [
    "gscv.best_params_"
   ]
  },
  {
   "cell_type": "code",
   "execution_count": null,
   "metadata": {},
   "outputs": [],
   "source": []
  }
 ],
 "metadata": {
  "kernelspec": {
   "display_name": "Python 3",
   "language": "python",
   "name": "python3"
  },
  "language_info": {
   "codemirror_mode": {
    "name": "ipython",
    "version": 3
   },
   "file_extension": ".py",
   "mimetype": "text/x-python",
   "name": "python",
   "nbconvert_exporter": "python",
   "pygments_lexer": "ipython3",
   "version": "3.6.8"
  }
 },
 "nbformat": 4,
 "nbformat_minor": 1
}
