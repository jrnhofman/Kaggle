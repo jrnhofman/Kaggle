{
 "cells": [
  {
   "cell_type": "markdown",
   "metadata": {},
   "source": [
    "Version 1.0.1"
   ]
  },
  {
   "cell_type": "markdown",
   "metadata": {},
   "source": [
    "# Pandas basics "
   ]
  },
  {
   "cell_type": "markdown",
   "metadata": {},
   "source": [
    "Hi! In this programming assignment you need to refresh your `pandas` knowledge. You will need to do several [`groupby`](https://pandas.pydata.org/pandas-docs/stable/generated/pandas.DataFrame.groupby.html)s and [`join`]()`s to solve the task. "
   ]
  },
  {
   "cell_type": "code",
   "execution_count": 2,
   "metadata": {},
   "outputs": [],
   "source": [
    "import pandas as pd\n",
    "import numpy as np\n",
    "import os\n",
    "import matplotlib.pyplot as plt\n",
    "%matplotlib inline \n",
    "\n",
    "from grader import Grader"
   ]
  },
  {
   "cell_type": "code",
   "execution_count": 3,
   "metadata": {},
   "outputs": [],
   "source": [
    "DATA_FOLDER = '../readonly/final_project_data/'\n",
    "\n",
    "transactions    = pd.read_csv(os.path.join(DATA_FOLDER, 'sales_train.csv.gz'))\n",
    "items           = pd.read_csv(os.path.join(DATA_FOLDER, 'items.csv'))\n",
    "item_categories = pd.read_csv(os.path.join(DATA_FOLDER, 'item_categories.csv'))\n",
    "shops           = pd.read_csv(os.path.join(DATA_FOLDER, 'shops.csv'))"
   ]
  },
  {
   "cell_type": "markdown",
   "metadata": {},
   "source": [
    "The dataset we are going to use is taken from the competition, that serves as the final project for this course. You can find complete data description at the [competition web page](https://www.kaggle.com/c/competitive-data-science-final-project/data). To join the competition use [this link](https://www.kaggle.com/t/1ea93815dca248e99221df42ebde3540)."
   ]
  },
  {
   "cell_type": "markdown",
   "metadata": {},
   "source": [
    "## Grading"
   ]
  },
  {
   "cell_type": "markdown",
   "metadata": {},
   "source": [
    "We will create a grader instace below and use it to collect your answers. When function `submit_tag` is called, grader will store your answer *locally*. The answers will *not* be submited to the platform immediately so you can call `submit_tag` function as many times as you need. \n",
    "\n",
    "When you are ready to push your answers to the platform you should fill your credentials and run `submit` function in the <a href=\"#Authorization-&-Submission\">last paragraph</a>  of the assignment."
   ]
  },
  {
   "cell_type": "code",
   "execution_count": 4,
   "metadata": {},
   "outputs": [],
   "source": [
    "grader = Grader()"
   ]
  },
  {
   "cell_type": "markdown",
   "metadata": {},
   "source": [
    "# Task"
   ]
  },
  {
   "cell_type": "markdown",
   "metadata": {},
   "source": [
    "Let's start with a simple task. \n",
    "\n",
    "<ol start=\"0\">\n",
    "  <li><b>Print the shape of the loaded dataframes and use [`df.head`](https://pandas.pydata.org/pandas-docs/stable/generated/pandas.DataFrame.head.html) function to print several rows. Examine the features you are given.</b></li>\n",
    "</ol>"
   ]
  },
  {
   "cell_type": "code",
   "execution_count": 5,
   "metadata": {},
   "outputs": [
    {
     "name": "stdout",
     "output_type": "stream",
     "text": [
      "(2935849, 6)\n",
      "(22170, 3)\n",
      "(84, 2)\n",
      "(60, 2)\n"
     ]
    }
   ],
   "source": [
    "print(transactions.shape)\n",
    "print(items.shape)\n",
    "print(item_categories.shape)\n",
    "print(shops.shape)"
   ]
  },
  {
   "cell_type": "code",
   "execution_count": 6,
   "metadata": {},
   "outputs": [
    {
     "data": {
      "text/html": [
       "<div>\n",
       "<style scoped>\n",
       "    .dataframe tbody tr th:only-of-type {\n",
       "        vertical-align: middle;\n",
       "    }\n",
       "\n",
       "    .dataframe tbody tr th {\n",
       "        vertical-align: top;\n",
       "    }\n",
       "\n",
       "    .dataframe thead th {\n",
       "        text-align: right;\n",
       "    }\n",
       "</style>\n",
       "<table border=\"1\" class=\"dataframe\">\n",
       "  <thead>\n",
       "    <tr style=\"text-align: right;\">\n",
       "      <th></th>\n",
       "      <th>date</th>\n",
       "      <th>date_block_num</th>\n",
       "      <th>shop_id</th>\n",
       "      <th>item_id</th>\n",
       "      <th>item_price</th>\n",
       "      <th>item_cnt_day</th>\n",
       "    </tr>\n",
       "  </thead>\n",
       "  <tbody>\n",
       "    <tr>\n",
       "      <th>0</th>\n",
       "      <td>02.01.2013</td>\n",
       "      <td>0</td>\n",
       "      <td>59</td>\n",
       "      <td>22154</td>\n",
       "      <td>999.00</td>\n",
       "      <td>1.0</td>\n",
       "    </tr>\n",
       "    <tr>\n",
       "      <th>1</th>\n",
       "      <td>03.01.2013</td>\n",
       "      <td>0</td>\n",
       "      <td>25</td>\n",
       "      <td>2552</td>\n",
       "      <td>899.00</td>\n",
       "      <td>1.0</td>\n",
       "    </tr>\n",
       "    <tr>\n",
       "      <th>2</th>\n",
       "      <td>05.01.2013</td>\n",
       "      <td>0</td>\n",
       "      <td>25</td>\n",
       "      <td>2552</td>\n",
       "      <td>899.00</td>\n",
       "      <td>-1.0</td>\n",
       "    </tr>\n",
       "    <tr>\n",
       "      <th>3</th>\n",
       "      <td>06.01.2013</td>\n",
       "      <td>0</td>\n",
       "      <td>25</td>\n",
       "      <td>2554</td>\n",
       "      <td>1709.05</td>\n",
       "      <td>1.0</td>\n",
       "    </tr>\n",
       "    <tr>\n",
       "      <th>4</th>\n",
       "      <td>15.01.2013</td>\n",
       "      <td>0</td>\n",
       "      <td>25</td>\n",
       "      <td>2555</td>\n",
       "      <td>1099.00</td>\n",
       "      <td>1.0</td>\n",
       "    </tr>\n",
       "  </tbody>\n",
       "</table>\n",
       "</div>"
      ],
      "text/plain": [
       "         date  date_block_num  shop_id  item_id  item_price  item_cnt_day\n",
       "0  02.01.2013               0       59    22154      999.00           1.0\n",
       "1  03.01.2013               0       25     2552      899.00           1.0\n",
       "2  05.01.2013               0       25     2552      899.00          -1.0\n",
       "3  06.01.2013               0       25     2554     1709.05           1.0\n",
       "4  15.01.2013               0       25     2555     1099.00           1.0"
      ]
     },
     "execution_count": 6,
     "metadata": {},
     "output_type": "execute_result"
    }
   ],
   "source": [
    "transactions.head()"
   ]
  },
  {
   "cell_type": "code",
   "execution_count": 7,
   "metadata": {},
   "outputs": [
    {
     "data": {
      "text/html": [
       "<div>\n",
       "<style scoped>\n",
       "    .dataframe tbody tr th:only-of-type {\n",
       "        vertical-align: middle;\n",
       "    }\n",
       "\n",
       "    .dataframe tbody tr th {\n",
       "        vertical-align: top;\n",
       "    }\n",
       "\n",
       "    .dataframe thead th {\n",
       "        text-align: right;\n",
       "    }\n",
       "</style>\n",
       "<table border=\"1\" class=\"dataframe\">\n",
       "  <thead>\n",
       "    <tr style=\"text-align: right;\">\n",
       "      <th></th>\n",
       "      <th>item_name</th>\n",
       "      <th>item_id</th>\n",
       "      <th>item_category_id</th>\n",
       "    </tr>\n",
       "  </thead>\n",
       "  <tbody>\n",
       "    <tr>\n",
       "      <th>0</th>\n",
       "      <td>! ВО ВЛАСТИ НАВАЖДЕНИЯ (ПЛАСТ.)         D</td>\n",
       "      <td>0</td>\n",
       "      <td>40</td>\n",
       "    </tr>\n",
       "    <tr>\n",
       "      <th>1</th>\n",
       "      <td>!ABBYY FineReader 12 Professional Edition Full...</td>\n",
       "      <td>1</td>\n",
       "      <td>76</td>\n",
       "    </tr>\n",
       "    <tr>\n",
       "      <th>2</th>\n",
       "      <td>***В ЛУЧАХ СЛАВЫ   (UNV)                    D</td>\n",
       "      <td>2</td>\n",
       "      <td>40</td>\n",
       "    </tr>\n",
       "    <tr>\n",
       "      <th>3</th>\n",
       "      <td>***ГОЛУБАЯ ВОЛНА  (Univ)                      D</td>\n",
       "      <td>3</td>\n",
       "      <td>40</td>\n",
       "    </tr>\n",
       "    <tr>\n",
       "      <th>4</th>\n",
       "      <td>***КОРОБКА (СТЕКЛО)                       D</td>\n",
       "      <td>4</td>\n",
       "      <td>40</td>\n",
       "    </tr>\n",
       "  </tbody>\n",
       "</table>\n",
       "</div>"
      ],
      "text/plain": [
       "                                           item_name  item_id  \\\n",
       "0          ! ВО ВЛАСТИ НАВАЖДЕНИЯ (ПЛАСТ.)         D        0   \n",
       "1  !ABBYY FineReader 12 Professional Edition Full...        1   \n",
       "2      ***В ЛУЧАХ СЛАВЫ   (UNV)                    D        2   \n",
       "3    ***ГОЛУБАЯ ВОЛНА  (Univ)                      D        3   \n",
       "4        ***КОРОБКА (СТЕКЛО)                       D        4   \n",
       "\n",
       "   item_category_id  \n",
       "0                40  \n",
       "1                76  \n",
       "2                40  \n",
       "3                40  \n",
       "4                40  "
      ]
     },
     "execution_count": 7,
     "metadata": {},
     "output_type": "execute_result"
    }
   ],
   "source": [
    "items.head()"
   ]
  },
  {
   "cell_type": "code",
   "execution_count": 8,
   "metadata": {},
   "outputs": [
    {
     "data": {
      "text/html": [
       "<div>\n",
       "<style scoped>\n",
       "    .dataframe tbody tr th:only-of-type {\n",
       "        vertical-align: middle;\n",
       "    }\n",
       "\n",
       "    .dataframe tbody tr th {\n",
       "        vertical-align: top;\n",
       "    }\n",
       "\n",
       "    .dataframe thead th {\n",
       "        text-align: right;\n",
       "    }\n",
       "</style>\n",
       "<table border=\"1\" class=\"dataframe\">\n",
       "  <thead>\n",
       "    <tr style=\"text-align: right;\">\n",
       "      <th></th>\n",
       "      <th>item_category_name</th>\n",
       "      <th>item_category_id</th>\n",
       "    </tr>\n",
       "  </thead>\n",
       "  <tbody>\n",
       "    <tr>\n",
       "      <th>0</th>\n",
       "      <td>PC - Гарнитуры/Наушники</td>\n",
       "      <td>0</td>\n",
       "    </tr>\n",
       "    <tr>\n",
       "      <th>1</th>\n",
       "      <td>Аксессуары - PS2</td>\n",
       "      <td>1</td>\n",
       "    </tr>\n",
       "    <tr>\n",
       "      <th>2</th>\n",
       "      <td>Аксессуары - PS3</td>\n",
       "      <td>2</td>\n",
       "    </tr>\n",
       "    <tr>\n",
       "      <th>3</th>\n",
       "      <td>Аксессуары - PS4</td>\n",
       "      <td>3</td>\n",
       "    </tr>\n",
       "    <tr>\n",
       "      <th>4</th>\n",
       "      <td>Аксессуары - PSP</td>\n",
       "      <td>4</td>\n",
       "    </tr>\n",
       "  </tbody>\n",
       "</table>\n",
       "</div>"
      ],
      "text/plain": [
       "        item_category_name  item_category_id\n",
       "0  PC - Гарнитуры/Наушники                 0\n",
       "1         Аксессуары - PS2                 1\n",
       "2         Аксессуары - PS3                 2\n",
       "3         Аксессуары - PS4                 3\n",
       "4         Аксессуары - PSP                 4"
      ]
     },
     "execution_count": 8,
     "metadata": {},
     "output_type": "execute_result"
    }
   ],
   "source": [
    "item_categories.head()"
   ]
  },
  {
   "cell_type": "code",
   "execution_count": 9,
   "metadata": {},
   "outputs": [
    {
     "data": {
      "text/html": [
       "<div>\n",
       "<style scoped>\n",
       "    .dataframe tbody tr th:only-of-type {\n",
       "        vertical-align: middle;\n",
       "    }\n",
       "\n",
       "    .dataframe tbody tr th {\n",
       "        vertical-align: top;\n",
       "    }\n",
       "\n",
       "    .dataframe thead th {\n",
       "        text-align: right;\n",
       "    }\n",
       "</style>\n",
       "<table border=\"1\" class=\"dataframe\">\n",
       "  <thead>\n",
       "    <tr style=\"text-align: right;\">\n",
       "      <th></th>\n",
       "      <th>shop_name</th>\n",
       "      <th>shop_id</th>\n",
       "    </tr>\n",
       "  </thead>\n",
       "  <tbody>\n",
       "    <tr>\n",
       "      <th>0</th>\n",
       "      <td>!Якутск Орджоникидзе, 56 фран</td>\n",
       "      <td>0</td>\n",
       "    </tr>\n",
       "    <tr>\n",
       "      <th>1</th>\n",
       "      <td>!Якутск ТЦ \"Центральный\" фран</td>\n",
       "      <td>1</td>\n",
       "    </tr>\n",
       "    <tr>\n",
       "      <th>2</th>\n",
       "      <td>Адыгея ТЦ \"Мега\"</td>\n",
       "      <td>2</td>\n",
       "    </tr>\n",
       "    <tr>\n",
       "      <th>3</th>\n",
       "      <td>Балашиха ТРК \"Октябрь-Киномир\"</td>\n",
       "      <td>3</td>\n",
       "    </tr>\n",
       "    <tr>\n",
       "      <th>4</th>\n",
       "      <td>Волжский ТЦ \"Волга Молл\"</td>\n",
       "      <td>4</td>\n",
       "    </tr>\n",
       "  </tbody>\n",
       "</table>\n",
       "</div>"
      ],
      "text/plain": [
       "                        shop_name  shop_id\n",
       "0   !Якутск Орджоникидзе, 56 фран        0\n",
       "1   !Якутск ТЦ \"Центральный\" фран        1\n",
       "2                Адыгея ТЦ \"Мега\"        2\n",
       "3  Балашиха ТРК \"Октябрь-Киномир\"        3\n",
       "4        Волжский ТЦ \"Волга Молл\"        4"
      ]
     },
     "execution_count": 9,
     "metadata": {},
     "output_type": "execute_result"
    }
   ],
   "source": [
    "shops.head()"
   ]
  },
  {
   "cell_type": "markdown",
   "metadata": {},
   "source": [
    "# Now use your `pandas` skills to get answers for the following questions. \n",
    "The first question is:\n",
    "\n",
    "1. ** What was the maximum total revenue among all the shops in September, 2014?** \n",
    "\n",
    "\n",
    "* Hereinafter *revenue* refers to total sales minus value of goods returned.\n",
    "\n",
    "*Hints:*\n",
    "\n",
    "* Sometimes items are returned, find such examples in the dataset. \n",
    "* It is handy to split `date` field into [`day`, `month`, `year`] components and use `df.year == 14` and `df.month == 9` in order to select target subset of dates.\n",
    "* You may work with `date` feature as with srings, or you may first convert it to `pd.datetime` type with `pd.to_datetime` function, but do not forget to set correct `format` argument."
   ]
  },
  {
   "cell_type": "code",
   "execution_count": 10,
   "metadata": {},
   "outputs": [],
   "source": [
    "transactions['year']=transactions['date'].apply(lambda x: x.split('.')[-1])\n",
    "transactions['month']=transactions['date'].apply(lambda x: x.split('.')[-2])"
   ]
  },
  {
   "cell_type": "code",
   "execution_count": 11,
   "metadata": {},
   "outputs": [
    {
     "data": {
      "text/html": [
       "<div>\n",
       "<style scoped>\n",
       "    .dataframe tbody tr th:only-of-type {\n",
       "        vertical-align: middle;\n",
       "    }\n",
       "\n",
       "    .dataframe tbody tr th {\n",
       "        vertical-align: top;\n",
       "    }\n",
       "\n",
       "    .dataframe thead th {\n",
       "        text-align: right;\n",
       "    }\n",
       "</style>\n",
       "<table border=\"1\" class=\"dataframe\">\n",
       "  <thead>\n",
       "    <tr style=\"text-align: right;\">\n",
       "      <th></th>\n",
       "      <th>date</th>\n",
       "      <th>date_block_num</th>\n",
       "      <th>shop_id</th>\n",
       "      <th>item_id</th>\n",
       "      <th>item_price</th>\n",
       "      <th>item_cnt_day</th>\n",
       "      <th>year</th>\n",
       "      <th>month</th>\n",
       "    </tr>\n",
       "  </thead>\n",
       "  <tbody>\n",
       "    <tr>\n",
       "      <th>0</th>\n",
       "      <td>02.01.2013</td>\n",
       "      <td>0</td>\n",
       "      <td>59</td>\n",
       "      <td>22154</td>\n",
       "      <td>999.00</td>\n",
       "      <td>1.0</td>\n",
       "      <td>2013</td>\n",
       "      <td>01</td>\n",
       "    </tr>\n",
       "    <tr>\n",
       "      <th>1</th>\n",
       "      <td>03.01.2013</td>\n",
       "      <td>0</td>\n",
       "      <td>25</td>\n",
       "      <td>2552</td>\n",
       "      <td>899.00</td>\n",
       "      <td>1.0</td>\n",
       "      <td>2013</td>\n",
       "      <td>01</td>\n",
       "    </tr>\n",
       "    <tr>\n",
       "      <th>2</th>\n",
       "      <td>05.01.2013</td>\n",
       "      <td>0</td>\n",
       "      <td>25</td>\n",
       "      <td>2552</td>\n",
       "      <td>899.00</td>\n",
       "      <td>-1.0</td>\n",
       "      <td>2013</td>\n",
       "      <td>01</td>\n",
       "    </tr>\n",
       "    <tr>\n",
       "      <th>3</th>\n",
       "      <td>06.01.2013</td>\n",
       "      <td>0</td>\n",
       "      <td>25</td>\n",
       "      <td>2554</td>\n",
       "      <td>1709.05</td>\n",
       "      <td>1.0</td>\n",
       "      <td>2013</td>\n",
       "      <td>01</td>\n",
       "    </tr>\n",
       "    <tr>\n",
       "      <th>4</th>\n",
       "      <td>15.01.2013</td>\n",
       "      <td>0</td>\n",
       "      <td>25</td>\n",
       "      <td>2555</td>\n",
       "      <td>1099.00</td>\n",
       "      <td>1.0</td>\n",
       "      <td>2013</td>\n",
       "      <td>01</td>\n",
       "    </tr>\n",
       "  </tbody>\n",
       "</table>\n",
       "</div>"
      ],
      "text/plain": [
       "         date  date_block_num  shop_id  item_id  item_price  item_cnt_day  \\\n",
       "0  02.01.2013               0       59    22154      999.00           1.0   \n",
       "1  03.01.2013               0       25     2552      899.00           1.0   \n",
       "2  05.01.2013               0       25     2552      899.00          -1.0   \n",
       "3  06.01.2013               0       25     2554     1709.05           1.0   \n",
       "4  15.01.2013               0       25     2555     1099.00           1.0   \n",
       "\n",
       "   year month  \n",
       "0  2013    01  \n",
       "1  2013    01  \n",
       "2  2013    01  \n",
       "3  2013    01  \n",
       "4  2013    01  "
      ]
     },
     "execution_count": 11,
     "metadata": {},
     "output_type": "execute_result"
    }
   ],
   "source": [
    "transactions.head()"
   ]
  },
  {
   "cell_type": "code",
   "execution_count": 12,
   "metadata": {},
   "outputs": [
    {
     "data": {
      "text/plain": [
       "77354881.15571226"
      ]
     },
     "execution_count": 12,
     "metadata": {},
     "output_type": "execute_result"
    }
   ],
   "source": [
    "transactions[(transactions.year=='2014') & (transactions.month=='09')]['item_price'].sum()"
   ]
  },
  {
   "cell_type": "code",
   "execution_count": 29,
   "metadata": {},
   "outputs": [
    {
     "data": {
      "text/html": [
       "<div>\n",
       "<style scoped>\n",
       "    .dataframe tbody tr th:only-of-type {\n",
       "        vertical-align: middle;\n",
       "    }\n",
       "\n",
       "    .dataframe tbody tr th {\n",
       "        vertical-align: top;\n",
       "    }\n",
       "\n",
       "    .dataframe thead th {\n",
       "        text-align: right;\n",
       "    }\n",
       "</style>\n",
       "<table border=\"1\" class=\"dataframe\">\n",
       "  <thead>\n",
       "    <tr style=\"text-align: right;\">\n",
       "      <th></th>\n",
       "      <th>date</th>\n",
       "      <th>date_block_num</th>\n",
       "      <th>shop_id</th>\n",
       "      <th>item_id</th>\n",
       "      <th>item_price</th>\n",
       "      <th>item_cnt_day</th>\n",
       "      <th>year</th>\n",
       "      <th>month</th>\n",
       "      <th>revenue</th>\n",
       "    </tr>\n",
       "  </thead>\n",
       "  <tbody>\n",
       "    <tr>\n",
       "      <th>0</th>\n",
       "      <td>02.01.2013</td>\n",
       "      <td>0</td>\n",
       "      <td>59</td>\n",
       "      <td>22154</td>\n",
       "      <td>999.00</td>\n",
       "      <td>1.0</td>\n",
       "      <td>2013</td>\n",
       "      <td>01</td>\n",
       "      <td>999.00</td>\n",
       "    </tr>\n",
       "    <tr>\n",
       "      <th>1</th>\n",
       "      <td>03.01.2013</td>\n",
       "      <td>0</td>\n",
       "      <td>25</td>\n",
       "      <td>2552</td>\n",
       "      <td>899.00</td>\n",
       "      <td>1.0</td>\n",
       "      <td>2013</td>\n",
       "      <td>01</td>\n",
       "      <td>899.00</td>\n",
       "    </tr>\n",
       "    <tr>\n",
       "      <th>2</th>\n",
       "      <td>05.01.2013</td>\n",
       "      <td>0</td>\n",
       "      <td>25</td>\n",
       "      <td>2552</td>\n",
       "      <td>899.00</td>\n",
       "      <td>-1.0</td>\n",
       "      <td>2013</td>\n",
       "      <td>01</td>\n",
       "      <td>-899.00</td>\n",
       "    </tr>\n",
       "    <tr>\n",
       "      <th>3</th>\n",
       "      <td>06.01.2013</td>\n",
       "      <td>0</td>\n",
       "      <td>25</td>\n",
       "      <td>2554</td>\n",
       "      <td>1709.05</td>\n",
       "      <td>1.0</td>\n",
       "      <td>2013</td>\n",
       "      <td>01</td>\n",
       "      <td>1709.05</td>\n",
       "    </tr>\n",
       "    <tr>\n",
       "      <th>4</th>\n",
       "      <td>15.01.2013</td>\n",
       "      <td>0</td>\n",
       "      <td>25</td>\n",
       "      <td>2555</td>\n",
       "      <td>1099.00</td>\n",
       "      <td>1.0</td>\n",
       "      <td>2013</td>\n",
       "      <td>01</td>\n",
       "      <td>1099.00</td>\n",
       "    </tr>\n",
       "    <tr>\n",
       "      <th>...</th>\n",
       "      <td>...</td>\n",
       "      <td>...</td>\n",
       "      <td>...</td>\n",
       "      <td>...</td>\n",
       "      <td>...</td>\n",
       "      <td>...</td>\n",
       "      <td>...</td>\n",
       "      <td>...</td>\n",
       "      <td>...</td>\n",
       "    </tr>\n",
       "    <tr>\n",
       "      <th>2935844</th>\n",
       "      <td>10.10.2015</td>\n",
       "      <td>33</td>\n",
       "      <td>25</td>\n",
       "      <td>7409</td>\n",
       "      <td>299.00</td>\n",
       "      <td>1.0</td>\n",
       "      <td>2015</td>\n",
       "      <td>10</td>\n",
       "      <td>299.00</td>\n",
       "    </tr>\n",
       "    <tr>\n",
       "      <th>2935845</th>\n",
       "      <td>09.10.2015</td>\n",
       "      <td>33</td>\n",
       "      <td>25</td>\n",
       "      <td>7460</td>\n",
       "      <td>299.00</td>\n",
       "      <td>1.0</td>\n",
       "      <td>2015</td>\n",
       "      <td>10</td>\n",
       "      <td>299.00</td>\n",
       "    </tr>\n",
       "    <tr>\n",
       "      <th>2935846</th>\n",
       "      <td>14.10.2015</td>\n",
       "      <td>33</td>\n",
       "      <td>25</td>\n",
       "      <td>7459</td>\n",
       "      <td>349.00</td>\n",
       "      <td>1.0</td>\n",
       "      <td>2015</td>\n",
       "      <td>10</td>\n",
       "      <td>349.00</td>\n",
       "    </tr>\n",
       "    <tr>\n",
       "      <th>2935847</th>\n",
       "      <td>22.10.2015</td>\n",
       "      <td>33</td>\n",
       "      <td>25</td>\n",
       "      <td>7440</td>\n",
       "      <td>299.00</td>\n",
       "      <td>1.0</td>\n",
       "      <td>2015</td>\n",
       "      <td>10</td>\n",
       "      <td>299.00</td>\n",
       "    </tr>\n",
       "    <tr>\n",
       "      <th>2935848</th>\n",
       "      <td>03.10.2015</td>\n",
       "      <td>33</td>\n",
       "      <td>25</td>\n",
       "      <td>7460</td>\n",
       "      <td>299.00</td>\n",
       "      <td>1.0</td>\n",
       "      <td>2015</td>\n",
       "      <td>10</td>\n",
       "      <td>299.00</td>\n",
       "    </tr>\n",
       "  </tbody>\n",
       "</table>\n",
       "<p>2935849 rows × 9 columns</p>\n",
       "</div>"
      ],
      "text/plain": [
       "               date  date_block_num  shop_id  item_id  item_price  \\\n",
       "0        02.01.2013               0       59    22154      999.00   \n",
       "1        03.01.2013               0       25     2552      899.00   \n",
       "2        05.01.2013               0       25     2552      899.00   \n",
       "3        06.01.2013               0       25     2554     1709.05   \n",
       "4        15.01.2013               0       25     2555     1099.00   \n",
       "...             ...             ...      ...      ...         ...   \n",
       "2935844  10.10.2015              33       25     7409      299.00   \n",
       "2935845  09.10.2015              33       25     7460      299.00   \n",
       "2935846  14.10.2015              33       25     7459      349.00   \n",
       "2935847  22.10.2015              33       25     7440      299.00   \n",
       "2935848  03.10.2015              33       25     7460      299.00   \n",
       "\n",
       "         item_cnt_day  year month  revenue  \n",
       "0                 1.0  2013    01   999.00  \n",
       "1                 1.0  2013    01   899.00  \n",
       "2                -1.0  2013    01  -899.00  \n",
       "3                 1.0  2013    01  1709.05  \n",
       "4                 1.0  2013    01  1099.00  \n",
       "...               ...   ...   ...      ...  \n",
       "2935844           1.0  2015    10   299.00  \n",
       "2935845           1.0  2015    10   299.00  \n",
       "2935846           1.0  2015    10   349.00  \n",
       "2935847           1.0  2015    10   299.00  \n",
       "2935848           1.0  2015    10   299.00  \n",
       "\n",
       "[2935849 rows x 9 columns]"
      ]
     },
     "execution_count": 29,
     "metadata": {},
     "output_type": "execute_result"
    }
   ],
   "source": [
    "transactions"
   ]
  },
  {
   "cell_type": "code",
   "execution_count": 31,
   "metadata": {},
   "outputs": [
    {
     "data": {
      "text/plain": [
       "214"
      ]
     },
     "execution_count": 31,
     "metadata": {},
     "output_type": "execute_result"
    }
   ],
   "source": [
    "sum(transactions[(transactions.year=='2014') & (transactions.month=='09')]['revenue'] < 0)"
   ]
  },
  {
   "cell_type": "code",
   "execution_count": 41,
   "metadata": {},
   "outputs": [
    {
     "data": {
      "text/plain": [
       "7982852.199999956"
      ]
     },
     "execution_count": 41,
     "metadata": {},
     "output_type": "execute_result"
    }
   ],
   "source": [
    "transactions[(transactions.year=='2014') & (transactions.month=='09')].groupby('shop_id').sum()['revenue'].sort_values().max()"
   ]
  },
  {
   "cell_type": "code",
   "execution_count": 50,
   "metadata": {},
   "outputs": [
    {
     "data": {
      "text/plain": [
       "7982852.199999956"
      ]
     },
     "execution_count": 50,
     "metadata": {},
     "output_type": "execute_result"
    }
   ],
   "source": [
    "transactions['Revenue'] = transactions['item_price'] * transactions['item_cnt_day']\n",
    "\n",
    "sub_df = transactions[(transactions.year=='2014') & (transactions.month=='09')]\n",
    "\n",
    "trans_grp_shop = sub_df.groupby('shop_id')\n",
    "\n",
    "total_revenue = trans_grp_shop.Revenue.sum()\n",
    "\n",
    "max_revenue = max(total_revenue)\n",
    "\n",
    "max_revenue"
   ]
  },
  {
   "cell_type": "code",
   "execution_count": 51,
   "metadata": {},
   "outputs": [
    {
     "name": "stdout",
     "output_type": "stream",
     "text": [
      "Current answer for task max_revenue is: 7982852.199999956\n"
     ]
    }
   ],
   "source": [
    "# YOUR CODE GOES HERE\n",
    "\n",
    "transactions['revenue'] = transactions.item_price*transactions.item_cnt_day\n",
    "\n",
    "max_revenue = max_revenue\n",
    "grader.submit_tag('max_revenue', max_revenue)"
   ]
  },
  {
   "cell_type": "markdown",
   "metadata": {},
   "source": [
    "Great! Let's move on and answer another question:\n",
    "\n",
    "<ol start=\"2\">\n",
    "  <li><b>What item category generated the highest revenue in summer 2014?</b></li>\n",
    "</ol>\n",
    "\n",
    "* Submit `id` of the category found.\n",
    "    \n",
    "* Here we call \"summer\" the period from June to August.\n",
    "\n",
    "*Hints:*\n",
    "\n",
    "* Note, that for an object `x` of type `pd.Series`: `x.argmax()` returns **index** of the maximum element. `pd.Series` can have non-trivial index (not `[1, 2, 3, ... ]`)."
   ]
  },
  {
   "cell_type": "code",
   "execution_count": 14,
   "metadata": {},
   "outputs": [
    {
     "data": {
      "text/plain": [
       "item_category_id\n",
       "2      2755520.00\n",
       "3      6854669.80\n",
       "4        38833.20\n",
       "5       418233.10\n",
       "6      3360382.50\n",
       "8       433200.00\n",
       "9       291426.84\n",
       "11     4970925.00\n",
       "12    31385229.70\n",
       "13        4686.00\n",
       "14     2337794.30\n",
       "15     5047875.80\n",
       "16      191141.00\n",
       "17      167175.00\n",
       "19    26237112.15\n",
       "Name: revenue, dtype: float64"
      ]
     },
     "execution_count": 14,
     "metadata": {},
     "output_type": "execute_result"
    }
   ],
   "source": [
    "transactions[(transactions.year=='2014') & (transactions.month.isin(['06','07','08']))].merge(items,on='item_id').groupby('item_category_id').agg({'revenue':'sum'})['revenue'].head(15)"
   ]
  },
  {
   "cell_type": "code",
   "execution_count": 15,
   "metadata": {},
   "outputs": [
    {
     "name": "stdout",
     "output_type": "stream",
     "text": [
      "Current answer for task category_id_with_max_revenue is: 20\n"
     ]
    },
    {
     "name": "stderr",
     "output_type": "stream",
     "text": [
      "/home/jhofman/Documents/tf_env/lib/python3.7/site-packages/ipykernel_launcher.py:3: FutureWarning: \n",
      "The current behaviour of 'Series.argmax' is deprecated, use 'idxmax'\n",
      "instead.\n",
      "The behavior of 'argmax' will be corrected to return the positional\n",
      "maximum in the future. For now, use 'series.values.argmax' or\n",
      "'np.argmax(np.array(values))' to get the position of the maximum\n",
      "row.\n",
      "  This is separate from the ipykernel package so we can avoid doing imports until\n"
     ]
    }
   ],
   "source": [
    "# YOUR CODE GOES HERE\n",
    "\n",
    "category_id_with_max_revenue = transactions[(transactions.year=='2014') & (transactions.month.isin(['06','07','08']))].merge(items,on='item_id').groupby('item_category_id').agg({'revenue':'sum'})['revenue'].argmax()\n",
    "grader.submit_tag('category_id_with_max_revenue', category_id_with_max_revenue)"
   ]
  },
  {
   "cell_type": "markdown",
   "metadata": {},
   "source": [
    "<ol start=\"3\">\n",
    "  <li><b>How many items are there, such that their price stays constant (to the best of our knowledge) during the whole period of time?</b></li>\n",
    "</ol>\n",
    "\n",
    "* Let's assume, that the items are returned for the same price as they had been sold."
   ]
  },
  {
   "cell_type": "code",
   "execution_count": 16,
   "metadata": {},
   "outputs": [
    {
     "data": {
      "text/plain": [
       "5926"
      ]
     },
     "execution_count": 16,
     "metadata": {},
     "output_type": "execute_result"
    }
   ],
   "source": [
    "tmp = transactions[['item_id','item_price']].groupby('item_id').agg([max,min])\n",
    "tmp.columns = tmp.columns.droplevel(0)\n",
    "tmp['equal'] = tmp.apply(lambda x: x['max'] == x['min'],axis=1)\n",
    "tmp.equal.sum()"
   ]
  },
  {
   "cell_type": "code",
   "execution_count": 17,
   "metadata": {},
   "outputs": [
    {
     "name": "stdout",
     "output_type": "stream",
     "text": [
      "Current answer for task num_items_constant_price is: 5926\n"
     ]
    }
   ],
   "source": [
    "# YOUR CODE GOES HERE\n",
    "\n",
    "num_items_constant_price = 5926\n",
    "grader.submit_tag('num_items_constant_price', num_items_constant_price)"
   ]
  },
  {
   "cell_type": "markdown",
   "metadata": {},
   "source": [
    "Remember, the data can sometimes be noisy."
   ]
  },
  {
   "cell_type": "markdown",
   "metadata": {},
   "source": [
    "<ol start=\"4\">\n",
    "  <li><b>What was the variance of the number of sold items per day sequence for the shop with `shop_id = 25` in December, 2014?</b></li>\n",
    "</ol>\n",
    "\n",
    "* Fill `total_num_items_sold` and `days` arrays, and plot the sequence with the code below.\n",
    "* Then compute variance. Remember, there can be differences in how you normalize variance (biased or unbiased estimate, see [link](https://math.stackexchange.com/questions/496627/the-difference-between-unbiased-biased-estimator-variance)). Compute ***unbiased*** estimate (use the right value for `ddof` argument in `pd.var` or `np.var`)."
   ]
  },
  {
   "cell_type": "code",
   "execution_count": 24,
   "metadata": {},
   "outputs": [],
   "source": [
    "trans_dec = transactions[(transactions.year=='2014') & (transactions.month.isin(['12'])) & (transactions.shop_id==25)].groupby('date').sum()\n",
    "days = trans_dec.index.values\n",
    "total_num_items_sold = trans_dec.item_cnt_day.values"
   ]
  },
  {
   "cell_type": "code",
   "execution_count": 25,
   "metadata": {},
   "outputs": [
    {
     "data": {
      "text/html": [
       "<div>\n",
       "<style scoped>\n",
       "    .dataframe tbody tr th:only-of-type {\n",
       "        vertical-align: middle;\n",
       "    }\n",
       "\n",
       "    .dataframe tbody tr th {\n",
       "        vertical-align: top;\n",
       "    }\n",
       "\n",
       "    .dataframe thead th {\n",
       "        text-align: right;\n",
       "    }\n",
       "</style>\n",
       "<table border=\"1\" class=\"dataframe\">\n",
       "  <thead>\n",
       "    <tr style=\"text-align: right;\">\n",
       "      <th></th>\n",
       "      <th>date_block_num</th>\n",
       "      <th>shop_id</th>\n",
       "      <th>item_id</th>\n",
       "      <th>item_price</th>\n",
       "      <th>item_cnt_day</th>\n",
       "      <th>revenue</th>\n",
       "    </tr>\n",
       "    <tr>\n",
       "      <th>date</th>\n",
       "      <th></th>\n",
       "      <th></th>\n",
       "      <th></th>\n",
       "      <th></th>\n",
       "      <th></th>\n",
       "      <th></th>\n",
       "    </tr>\n",
       "  </thead>\n",
       "  <tbody>\n",
       "    <tr>\n",
       "      <th>01.12.2014</th>\n",
       "      <td>2829</td>\n",
       "      <td>3075</td>\n",
       "      <td>1242306</td>\n",
       "      <td>1.847352e+05</td>\n",
       "      <td>153.0</td>\n",
       "      <td>209894.0</td>\n",
       "    </tr>\n",
       "    <tr>\n",
       "      <th>02.12.2014</th>\n",
       "      <td>2645</td>\n",
       "      <td>2875</td>\n",
       "      <td>1102409</td>\n",
       "      <td>1.338240e+05</td>\n",
       "      <td>169.0</td>\n",
       "      <td>213936.0</td>\n",
       "    </tr>\n",
       "    <tr>\n",
       "      <th>03.12.2014</th>\n",
       "      <td>3473</td>\n",
       "      <td>3775</td>\n",
       "      <td>1633215</td>\n",
       "      <td>1.740468e+05</td>\n",
       "      <td>195.0</td>\n",
       "      <td>232803.0</td>\n",
       "    </tr>\n",
       "    <tr>\n",
       "      <th>04.12.2014</th>\n",
       "      <td>2944</td>\n",
       "      <td>3200</td>\n",
       "      <td>1341594</td>\n",
       "      <td>2.022497e+05</td>\n",
       "      <td>164.0</td>\n",
       "      <td>279488.0</td>\n",
       "    </tr>\n",
       "    <tr>\n",
       "      <th>05.12.2014</th>\n",
       "      <td>5221</td>\n",
       "      <td>5675</td>\n",
       "      <td>2451915</td>\n",
       "      <td>3.012961e+05</td>\n",
       "      <td>300.0</td>\n",
       "      <td>410842.0</td>\n",
       "    </tr>\n",
       "    <tr>\n",
       "      <th>06.12.2014</th>\n",
       "      <td>6463</td>\n",
       "      <td>7025</td>\n",
       "      <td>2829641</td>\n",
       "      <td>3.725073e+05</td>\n",
       "      <td>350.0</td>\n",
       "      <td>434163.0</td>\n",
       "    </tr>\n",
       "    <tr>\n",
       "      <th>07.12.2014</th>\n",
       "      <td>5497</td>\n",
       "      <td>5975</td>\n",
       "      <td>2755155</td>\n",
       "      <td>2.144351e+05</td>\n",
       "      <td>325.0</td>\n",
       "      <td>295904.0</td>\n",
       "    </tr>\n",
       "    <tr>\n",
       "      <th>08.12.2014</th>\n",
       "      <td>4117</td>\n",
       "      <td>4475</td>\n",
       "      <td>2013915</td>\n",
       "      <td>2.293687e+05</td>\n",
       "      <td>209.0</td>\n",
       "      <td>300700.0</td>\n",
       "    </tr>\n",
       "    <tr>\n",
       "      <th>09.12.2014</th>\n",
       "      <td>3795</td>\n",
       "      <td>4125</td>\n",
       "      <td>1774737</td>\n",
       "      <td>2.341010e+05</td>\n",
       "      <td>204.0</td>\n",
       "      <td>333415.0</td>\n",
       "    </tr>\n",
       "    <tr>\n",
       "      <th>10.12.2014</th>\n",
       "      <td>2668</td>\n",
       "      <td>2900</td>\n",
       "      <td>1302728</td>\n",
       "      <td>1.752210e+05</td>\n",
       "      <td>143.0</td>\n",
       "      <td>215889.0</td>\n",
       "    </tr>\n",
       "    <tr>\n",
       "      <th>11.12.2014</th>\n",
       "      <td>4002</td>\n",
       "      <td>4350</td>\n",
       "      <td>1944152</td>\n",
       "      <td>2.015953e+05</td>\n",
       "      <td>214.0</td>\n",
       "      <td>241415.0</td>\n",
       "    </tr>\n",
       "    <tr>\n",
       "      <th>12.12.2014</th>\n",
       "      <td>5313</td>\n",
       "      <td>5775</td>\n",
       "      <td>2619892</td>\n",
       "      <td>2.889149e+05</td>\n",
       "      <td>297.0</td>\n",
       "      <td>363289.0</td>\n",
       "    </tr>\n",
       "    <tr>\n",
       "      <th>13.12.2014</th>\n",
       "      <td>7245</td>\n",
       "      <td>7875</td>\n",
       "      <td>3508022</td>\n",
       "      <td>3.492485e+05</td>\n",
       "      <td>432.0</td>\n",
       "      <td>465195.0</td>\n",
       "    </tr>\n",
       "    <tr>\n",
       "      <th>14.12.2014</th>\n",
       "      <td>5658</td>\n",
       "      <td>6150</td>\n",
       "      <td>2894524</td>\n",
       "      <td>1.850150e+05</td>\n",
       "      <td>305.0</td>\n",
       "      <td>214693.0</td>\n",
       "    </tr>\n",
       "    <tr>\n",
       "      <th>15.12.2014</th>\n",
       "      <td>4163</td>\n",
       "      <td>4525</td>\n",
       "      <td>1948055</td>\n",
       "      <td>2.267640e+05</td>\n",
       "      <td>225.0</td>\n",
       "      <td>381360.0</td>\n",
       "    </tr>\n",
       "    <tr>\n",
       "      <th>16.12.2014</th>\n",
       "      <td>3473</td>\n",
       "      <td>3775</td>\n",
       "      <td>1503326</td>\n",
       "      <td>2.383071e+05</td>\n",
       "      <td>192.0</td>\n",
       "      <td>328975.0</td>\n",
       "    </tr>\n",
       "    <tr>\n",
       "      <th>17.12.2014</th>\n",
       "      <td>5267</td>\n",
       "      <td>5725</td>\n",
       "      <td>2277227</td>\n",
       "      <td>3.363303e+05</td>\n",
       "      <td>285.0</td>\n",
       "      <td>511381.0</td>\n",
       "    </tr>\n",
       "    <tr>\n",
       "      <th>18.12.2014</th>\n",
       "      <td>5382</td>\n",
       "      <td>5850</td>\n",
       "      <td>2527855</td>\n",
       "      <td>3.331751e+05</td>\n",
       "      <td>325.0</td>\n",
       "      <td>551843.0</td>\n",
       "    </tr>\n",
       "    <tr>\n",
       "      <th>19.12.2014</th>\n",
       "      <td>7245</td>\n",
       "      <td>7875</td>\n",
       "      <td>3379456</td>\n",
       "      <td>4.439543e+05</td>\n",
       "      <td>418.0</td>\n",
       "      <td>735544.0</td>\n",
       "    </tr>\n",
       "    <tr>\n",
       "      <th>20.12.2014</th>\n",
       "      <td>9177</td>\n",
       "      <td>9975</td>\n",
       "      <td>4317072</td>\n",
       "      <td>4.960584e+05</td>\n",
       "      <td>579.0</td>\n",
       "      <td>854269.0</td>\n",
       "    </tr>\n",
       "    <tr>\n",
       "      <th>21.12.2014</th>\n",
       "      <td>6762</td>\n",
       "      <td>7350</td>\n",
       "      <td>3177220</td>\n",
       "      <td>2.815853e+05</td>\n",
       "      <td>379.0</td>\n",
       "      <td>330897.0</td>\n",
       "    </tr>\n",
       "    <tr>\n",
       "      <th>22.12.2014</th>\n",
       "      <td>5497</td>\n",
       "      <td>5975</td>\n",
       "      <td>2406500</td>\n",
       "      <td>3.687065e+05</td>\n",
       "      <td>318.0</td>\n",
       "      <td>558783.0</td>\n",
       "    </tr>\n",
       "    <tr>\n",
       "      <th>23.12.2014</th>\n",
       "      <td>6739</td>\n",
       "      <td>7325</td>\n",
       "      <td>3345050</td>\n",
       "      <td>3.789302e+05</td>\n",
       "      <td>371.0</td>\n",
       "      <td>521898.0</td>\n",
       "    </tr>\n",
       "    <tr>\n",
       "      <th>24.12.2014</th>\n",
       "      <td>7682</td>\n",
       "      <td>8350</td>\n",
       "      <td>3675324</td>\n",
       "      <td>3.518756e+05</td>\n",
       "      <td>433.0</td>\n",
       "      <td>433214.0</td>\n",
       "    </tr>\n",
       "    <tr>\n",
       "      <th>25.12.2014</th>\n",
       "      <td>8648</td>\n",
       "      <td>9400</td>\n",
       "      <td>3936616</td>\n",
       "      <td>4.249676e+05</td>\n",
       "      <td>505.0</td>\n",
       "      <td>659148.0</td>\n",
       "    </tr>\n",
       "    <tr>\n",
       "      <th>26.12.2014</th>\n",
       "      <td>9706</td>\n",
       "      <td>10550</td>\n",
       "      <td>4691522</td>\n",
       "      <td>5.406695e+05</td>\n",
       "      <td>620.0</td>\n",
       "      <td>791629.0</td>\n",
       "    </tr>\n",
       "    <tr>\n",
       "      <th>27.12.2014</th>\n",
       "      <td>12466</td>\n",
       "      <td>13550</td>\n",
       "      <td>6143083</td>\n",
       "      <td>6.782312e+05</td>\n",
       "      <td>743.0</td>\n",
       "      <td>899268.0</td>\n",
       "    </tr>\n",
       "    <tr>\n",
       "      <th>28.12.2014</th>\n",
       "      <td>10258</td>\n",
       "      <td>11150</td>\n",
       "      <td>5055477</td>\n",
       "      <td>4.925051e+05</td>\n",
       "      <td>662.0</td>\n",
       "      <td>758546.0</td>\n",
       "    </tr>\n",
       "    <tr>\n",
       "      <th>30.12.2014</th>\n",
       "      <td>23506</td>\n",
       "      <td>25550</td>\n",
       "      <td>11223944</td>\n",
       "      <td>1.095884e+06</td>\n",
       "      <td>1966.0</td>\n",
       "      <td>2268520.0</td>\n",
       "    </tr>\n",
       "    <tr>\n",
       "      <th>31.12.2014</th>\n",
       "      <td>11891</td>\n",
       "      <td>12925</td>\n",
       "      <td>5777503</td>\n",
       "      <td>5.997225e+05</td>\n",
       "      <td>776.0</td>\n",
       "      <td>910965.0</td>\n",
       "    </tr>\n",
       "  </tbody>\n",
       "</table>\n",
       "</div>"
      ],
      "text/plain": [
       "            date_block_num  shop_id   item_id    item_price  item_cnt_day  \\\n",
       "date                                                                        \n",
       "01.12.2014            2829     3075   1242306  1.847352e+05         153.0   \n",
       "02.12.2014            2645     2875   1102409  1.338240e+05         169.0   \n",
       "03.12.2014            3473     3775   1633215  1.740468e+05         195.0   \n",
       "04.12.2014            2944     3200   1341594  2.022497e+05         164.0   \n",
       "05.12.2014            5221     5675   2451915  3.012961e+05         300.0   \n",
       "06.12.2014            6463     7025   2829641  3.725073e+05         350.0   \n",
       "07.12.2014            5497     5975   2755155  2.144351e+05         325.0   \n",
       "08.12.2014            4117     4475   2013915  2.293687e+05         209.0   \n",
       "09.12.2014            3795     4125   1774737  2.341010e+05         204.0   \n",
       "10.12.2014            2668     2900   1302728  1.752210e+05         143.0   \n",
       "11.12.2014            4002     4350   1944152  2.015953e+05         214.0   \n",
       "12.12.2014            5313     5775   2619892  2.889149e+05         297.0   \n",
       "13.12.2014            7245     7875   3508022  3.492485e+05         432.0   \n",
       "14.12.2014            5658     6150   2894524  1.850150e+05         305.0   \n",
       "15.12.2014            4163     4525   1948055  2.267640e+05         225.0   \n",
       "16.12.2014            3473     3775   1503326  2.383071e+05         192.0   \n",
       "17.12.2014            5267     5725   2277227  3.363303e+05         285.0   \n",
       "18.12.2014            5382     5850   2527855  3.331751e+05         325.0   \n",
       "19.12.2014            7245     7875   3379456  4.439543e+05         418.0   \n",
       "20.12.2014            9177     9975   4317072  4.960584e+05         579.0   \n",
       "21.12.2014            6762     7350   3177220  2.815853e+05         379.0   \n",
       "22.12.2014            5497     5975   2406500  3.687065e+05         318.0   \n",
       "23.12.2014            6739     7325   3345050  3.789302e+05         371.0   \n",
       "24.12.2014            7682     8350   3675324  3.518756e+05         433.0   \n",
       "25.12.2014            8648     9400   3936616  4.249676e+05         505.0   \n",
       "26.12.2014            9706    10550   4691522  5.406695e+05         620.0   \n",
       "27.12.2014           12466    13550   6143083  6.782312e+05         743.0   \n",
       "28.12.2014           10258    11150   5055477  4.925051e+05         662.0   \n",
       "30.12.2014           23506    25550  11223944  1.095884e+06        1966.0   \n",
       "31.12.2014           11891    12925   5777503  5.997225e+05         776.0   \n",
       "\n",
       "              revenue  \n",
       "date                   \n",
       "01.12.2014   209894.0  \n",
       "02.12.2014   213936.0  \n",
       "03.12.2014   232803.0  \n",
       "04.12.2014   279488.0  \n",
       "05.12.2014   410842.0  \n",
       "06.12.2014   434163.0  \n",
       "07.12.2014   295904.0  \n",
       "08.12.2014   300700.0  \n",
       "09.12.2014   333415.0  \n",
       "10.12.2014   215889.0  \n",
       "11.12.2014   241415.0  \n",
       "12.12.2014   363289.0  \n",
       "13.12.2014   465195.0  \n",
       "14.12.2014   214693.0  \n",
       "15.12.2014   381360.0  \n",
       "16.12.2014   328975.0  \n",
       "17.12.2014   511381.0  \n",
       "18.12.2014   551843.0  \n",
       "19.12.2014   735544.0  \n",
       "20.12.2014   854269.0  \n",
       "21.12.2014   330897.0  \n",
       "22.12.2014   558783.0  \n",
       "23.12.2014   521898.0  \n",
       "24.12.2014   433214.0  \n",
       "25.12.2014   659148.0  \n",
       "26.12.2014   791629.0  \n",
       "27.12.2014   899268.0  \n",
       "28.12.2014   758546.0  \n",
       "30.12.2014  2268520.0  \n",
       "31.12.2014   910965.0  "
      ]
     },
     "execution_count": 25,
     "metadata": {},
     "output_type": "execute_result"
    }
   ],
   "source": [
    "trans_dec"
   ]
  },
  {
   "cell_type": "code",
   "execution_count": 26,
   "metadata": {},
   "outputs": [
    {
     "data": {
      "image/png": "[encoded data removed]",
      "text/plain": [
       "<Figure size 432x288 with 1 Axes>"
      ]
     },
     "metadata": {
      "needs_background": "light"
     },
     "output_type": "display_data"
    },
    {
     "name": "stdout",
     "output_type": "stream",
     "text": [
      "Current answer for task total_num_items_sold_var is: 117167.70229885059\n"
     ]
    }
   ],
   "source": [
    "shop_id = 25\n",
    "\n",
    "\n",
    "\n",
    "days = days\n",
    "total_num_items_sold = total_num_items_sold\n",
    "\n",
    "# Plot it\n",
    "plt.plot(days, total_num_items_sold)\n",
    "plt.ylabel('Num items')\n",
    "plt.xlabel('Day')\n",
    "plt.title(\"Daily revenue for shop_id = 25\")\n",
    "plt.show()\n",
    "\n",
    "total_num_items_sold_var = np.var(trans_dec.item_cnt_day.values,ddof=1)\n",
    "grader.submit_tag('total_num_items_sold_var', total_num_items_sold_var)"
   ]
  },
  {
   "cell_type": "markdown",
   "metadata": {},
   "source": [
    "## Authorization & Submission\n",
    "To submit assignment to Cousera platform, please, enter your e-mail and token into the variables below. You can generate token on the programming assignment page. *Note:* Token expires 30 minutes after generation."
   ]
  },
  {
   "cell_type": "code",
   "execution_count": 52,
   "metadata": {},
   "outputs": [
    {
     "name": "stdout",
     "output_type": "stream",
     "text": [
      "You want to submit these numbers:\n",
      "Task max_revenue: 7982852.199999956\n",
      "Task category_id_with_max_revenue: 20\n",
      "Task num_items_constant_price: 5926\n",
      "Task total_num_items_sold_var: 117167.70229885059\n"
     ]
    }
   ],
   "source": [
    "STUDENT_EMAIL = 'jeroen.hofman@booking.com'\n",
    "STUDENT_TOKEN = 'Y1722IxkKVGHMYwC'\n",
    "grader.status()"
   ]
  },
  {
   "cell_type": "code",
   "execution_count": 53,
   "metadata": {},
   "outputs": [
    {
     "name": "stdout",
     "output_type": "stream",
     "text": [
      "Submitted to Coursera platform. See results on assignment page!\n"
     ]
    }
   ],
   "source": [
    "grader.submit(STUDENT_EMAIL, STUDENT_TOKEN)"
   ]
  },
  {
   "cell_type": "markdown",
   "metadata": {},
   "source": [
    "Well done! :)"
   ]
  }
 ],
 "metadata": {
  "hw_version": "1.0.0",
  "kernelspec": {
   "display_name": "Python 3",
   "language": "python",
   "name": "python3"
  },
  "language_info": {
   "codemirror_mode": {
    "name": "ipython",
    "version": 3
   },
   "file_extension": ".py",
   "mimetype": "text/x-python",
   "name": "python",
   "nbconvert_exporter": "python",
   "pygments_lexer": "ipython3",
   "version": "3.7.5"
  }
 },
 "nbformat": 4,
 "nbformat_minor": 4
}
