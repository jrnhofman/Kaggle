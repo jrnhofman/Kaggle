{
 "nbformat": 4,
 "nbformat_minor": 2,
 "metadata": {
  "language_info": {
   "name": "python",
   "codemirror_mode": {
    "name": "ipython",
    "version": 3
   },
   "version": "3.7.5-final"
  },
  "orig_nbformat": 2,
  "file_extension": ".py",
  "mimetype": "text/x-python",
  "name": "python",
  "npconvert_exporter": "python",
  "pygments_lexer": "ipython3",
  "version": 3,
  "kernelspec": {
   "name": "python37564bitdce661b04f5a4a6596dbede3d1d36922",
   "display_name": "Python 3.7.5 64-bit"
  }
 },
 "cells": [
  {
   "cell_type": "code",
   "execution_count": 1,
   "metadata": {},
   "outputs": [],
   "source": [
    "import pandas as pd\n",
    "from sklearn.linear_model import LinearRegression\n",
    "\n",
    "%config IPCompleter.greedy=True"
   ]
  },
  {
   "cell_type": "markdown",
   "execution_count": 1,
   "metadata": {},
   "outputs": [
    {
     "ename": "NameError",
     "evalue": "name 'adfasfdasf' is not defined",
     "output_type": "error",
     "traceback": [
      "\u001b[0;31m---------------------------------------------------------------------------\u001b[0m",
      "\u001b[0;31mNameError\u001b[0m                                 Traceback (most recent call last)",
      "\u001b[0;32m<ipython-input-1-fa62d7db8b4e>\u001b[0m in \u001b[0;36m<module>\u001b[0;34m\u001b[0m\n\u001b[0;32m----> 1\u001b[0;31m \u001b[0madfasfdasf\u001b[0m\u001b[0;34m\u001b[0m\u001b[0;34m\u001b[0m\u001b[0m\n\u001b[0m",
      "\u001b[0;31mNameError\u001b[0m: name 'adfasfdasf' is not defined"
     ]
    }
   ],
   "source": [
    "# Data"
   ]
  },
  {
   "cell_type": "code",
   "execution_count": 2,
   "metadata": {},
   "outputs": [],
   "source": [
    "item_categories = pd.read_csv(\"item_categories.csv\")\n",
    "items = pd.read_csv(\"items.csv\")\n",
    "sales_train = pd.read_csv(\"sales_train.csv\")\n",
    "shops = pd.read_csv(\"shops.csv\")\n",
    "test = pd.read_csv(\"test.csv\")"
   ]
  },
  {
   "cell_type": "markdown",
   "execution_count": null,
   "metadata": {},
   "outputs": [],
   "source": [
    "\n",
    "### Items"
   ]
  },
  {
   "cell_type": "code",
   "execution_count": 35,
   "metadata": {},
   "outputs": [],
   "source": [
    "def get_descriptive_stats(df):\n",
    "    print(\"SHAPE:\")\n",
    "    print(df.shape)\n",
    "    print(\"\\n\\n\")\n",
    "    print(\"SAMPLE:\")\n",
    "    print(df.head(5))\n",
    "    print(\"\\n\\n\")\n",
    "    print(\"#UNIQUE:\")\n",
    "    print(df.nunique())\n",
    "    print(\"\\n\\n\")\n",
    "    print(\"MISSING VALUES:\")\n",
    "    print(df.isnull().sum())\n",
    "    print(\"\\n\\n\")\n",
    "    print(\"DESCRIPTIVES:\")\n",
    "    print(df.describe())"
   ]
  },
  {
   "cell_type": "code",
   "execution_count": 36,
   "metadata": {},
   "outputs": [
    {
     "name": "stdout",
     "output_type": "stream",
     "text": "SHAPE:\n(22170, 3)\n\n\n\nSAMPLE:\n                                           item_name  item_id  \\\n0          ! ВО ВЛАСТИ НАВАЖДЕНИЯ (ПЛАСТ.)         D        0   \n1  !ABBYY FineReader 12 Professional Edition Full...        1   \n2      ***В ЛУЧАХ СЛАВЫ   (UNV)                    D        2   \n3    ***ГОЛУБАЯ ВОЛНА  (Univ)                      D        3   \n4        ***КОРОБКА (СТЕКЛО)                       D        4   \n\n   item_category_id  \n0                40  \n1                76  \n2                40  \n3                40  \n4                40  \n\n\n\n#UNIQUE:\nitem_name           22170\nitem_id             22170\nitem_category_id       84\ndtype: int64\n\n\n\nMISSING VALUES:\nitem_name           0\nitem_id             0\nitem_category_id    0\ndtype: int64\n\n\n\nDESCRIPTIVES:\n           item_id  item_category_id\ncount  22170.00000      22170.000000\nmean   11084.50000         46.290753\nstd     6400.07207         15.941486\nmin        0.00000          0.000000\n25%     5542.25000         37.000000\n50%    11084.50000         40.000000\n75%    16626.75000         58.000000\nmax    22169.00000         83.000000\n"
    }
   ],
   "source": [
    "get_descriptive_stats(items)"
   ]
  },
  {
   "cell_type": "code",
   "execution_count": 37,
   "metadata": {},
   "outputs": [
    {
     "name": "stdout",
     "output_type": "stream",
     "text": "SHAPE:\n(84, 2)\n\n\n\nSAMPLE:\n        item_category_name  item_category_id\n0  PC - Гарнитуры/Наушники                 0\n1         Аксессуары - PS2                 1\n2         Аксессуары - PS3                 2\n3         Аксессуары - PS4                 3\n4         Аксессуары - PSP                 4\n\n\n\n#UNIQUE:\nitem_category_name    84\nitem_category_id      84\ndtype: int64\n\n\n\nMISSING VALUES:\nitem_category_name    0\nitem_category_id      0\ndtype: int64\n\n\n\nDESCRIPTIVES:\n       item_category_id\ncount         84.000000\nmean          41.500000\nstd           24.392622\nmin            0.000000\n25%           20.750000\n50%           41.500000\n75%           62.250000\nmax           83.000000\n"
    }
   ],
   "source": [
    "get_descriptive_stats(item_categories)"
   ]
  },
  {
   "cell_type": "code",
   "execution_count": 38,
   "metadata": {},
   "outputs": [
    {
     "name": "stdout",
     "output_type": "stream",
     "text": "SHAPE:\n(60, 2)\n\n\n\nSAMPLE:\n                        shop_name  shop_id\n0   !Якутск Орджоникидзе, 56 фран        0\n1   !Якутск ТЦ \"Центральный\" фран        1\n2                Адыгея ТЦ \"Мега\"        2\n3  Балашиха ТРК \"Октябрь-Киномир\"        3\n4        Волжский ТЦ \"Волга Молл\"        4\n\n\n\n#UNIQUE:\nshop_name    60\nshop_id      60\ndtype: int64\n\n\n\nMISSING VALUES:\nshop_name    0\nshop_id      0\ndtype: int64\n\n\n\nDESCRIPTIVES:\n         shop_id\ncount  60.000000\nmean   29.500000\nstd    17.464249\nmin     0.000000\n25%    14.750000\n50%    29.500000\n75%    44.250000\nmax    59.000000\n"
    }
   ],
   "source": [
    "get_descriptive_stats(shops)"
   ]
  },
  {
   "cell_type": "code",
   "execution_count": 39,
   "metadata": {},
   "outputs": [
    {
     "name": "stdout",
     "output_type": "stream",
     "text": "SHAPE:\n(2935849, 8)\n\n\n\nSAMPLE:\n         date  date_block_num  shop_id  item_id  item_price  item_cnt_day  \\\n0  02.01.2013               0       59    22154      999.00           1.0   \n1  03.01.2013               0       25     2552      899.00           1.0   \n2  05.01.2013               0       25     2552      899.00          -1.0   \n3  06.01.2013               0       25     2554     1709.05           1.0   \n4  15.01.2013               0       25     2555     1099.00           1.0   \n\n  month  year  \n0    01  2013  \n1    01  2013  \n2    01  2013  \n3    01  2013  \n4    01  2013  \n\n\n\n#UNIQUE:\ndate               1034\ndate_block_num       34\nshop_id              60\nitem_id           21807\nitem_price        19993\nitem_cnt_day        198\nmonth                12\nyear                  3\ndtype: int64\n\n\n\nMISSING VALUES:\ndate              0\ndate_block_num    0\nshop_id           0\nitem_id           0\nitem_price        0\nitem_cnt_day      0\nmonth             0\nyear              0\ndtype: int64\n\n\n\nDESCRIPTIVES:\n       date_block_num       shop_id       item_id    item_price  item_cnt_day\ncount    2.935849e+06  2.935849e+06  2.935849e+06  2.935849e+06  2.935849e+06\nmean     1.456991e+01  3.300173e+01  1.019723e+04  8.908532e+02  1.242641e+00\nstd      9.422988e+00  1.622697e+01  6.324297e+03  1.729800e+03  2.618834e+00\nmin      0.000000e+00  0.000000e+00  0.000000e+00 -1.000000e+00 -2.200000e+01\n25%      7.000000e+00  2.200000e+01  4.476000e+03  2.490000e+02  1.000000e+00\n50%      1.400000e+01  3.100000e+01  9.343000e+03  3.990000e+02  1.000000e+00\n75%      2.300000e+01  4.700000e+01  1.568400e+04  9.990000e+02  1.000000e+00\nmax      3.300000e+01  5.900000e+01  2.216900e+04  3.079800e+05  2.169000e+03\n"
    }
   ],
   "source": [
    "get_descriptive_stats(sales_train)"
   ]
  },
  {
   "cell_type": "markdown",
   "execution_count": null,
   "metadata": {},
   "outputs": [],
   "source": [
    "# Simple baseline"
   ]
  },
  {
   "cell_type": "code",
   "execution_count": 23,
   "metadata": {},
   "outputs": [],
   "source": [
    "# Simple baseline 1: compute average sales per shop+item in November 2013/2014 and average over the 2 years.\n",
    "sales_train['month'] = sales_train['date'].apply(lambda x: x.split('.')[-2])\n",
    "sales_train['year'] = sales_train['date'].apply(lambda x: x.split('.')[-1])\n",
    "november_only = sales_train[sales_train.month=='11']\n",
    "\n",
    "avg_grouped = november_only.groupby(['shop_id','item_id']).agg({'item_cnt_day':'sum'})\n",
    "avg_grouped['item_cnt_day'] /= 2. # number of novembers in training set\n",
    "\n",
    "merged_with_test = test.merge(avg_grouped,on=['shop_id','item_id'],how='left').fillna(0) # if no sales predict 0\n",
    "\n",
    "submission_file = merged_with_test.reset_index()[['ID','item_cnt_day']]\n",
    "submission_file = submission_file.rename(mapper={'item_cnt_day':'item_cnt_month'},axis=1)\n",
    "submission_file.to_csv(\"submissions/november_average.csv\",index=False)"
   ]
  },
  {
   "cell_type": "code",
   "execution_count": 24,
   "metadata": {},
   "outputs": [],
   "source": [
    "# Simple baseline 2: compute average sales per shop+item in each month of the training period and predict the average.\n",
    "all_sales = sales_train.copy()\n",
    "\n",
    "avg_grouped = all_sales.groupby(['shop_id','item_id']).agg({'item_cnt_day':'sum'})\n",
    "avg_grouped['item_cnt_day'] /= 34. # number of months in training set\n",
    "\n",
    "merged_with_test = test.merge(avg_grouped,on=['shop_id','item_id'],how='left').fillna(0) # if no sales predict 0\n",
    "\n",
    "submission_file = merged_with_test.reset_index()[['ID','item_cnt_day']]\n",
    "submission_file = submission_file.rename(mapper={'item_cnt_day':'item_cnt_month'},axis=1)\n",
    "submission_file.to_csv(\"submissions/monthly_average.csv\",index=False)"
   ]
  },
  {
   "cell_type": "code",
   "execution_count": null,
   "metadata": {},
   "outputs": [],
   "source": []
  }
 ]
}