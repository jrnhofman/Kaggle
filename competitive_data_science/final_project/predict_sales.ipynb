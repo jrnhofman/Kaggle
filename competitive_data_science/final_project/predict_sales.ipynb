{
 "nbformat": 4,
 "nbformat_minor": 2,
 "metadata": {
  "language_info": {
   "name": "python",
   "codemirror_mode": {
    "name": "ipython",
    "version": 3
   },
   "version": "3.7.5-final"
  },
  "orig_nbformat": 2,
  "file_extension": ".py",
  "mimetype": "text/x-python",
  "name": "python",
  "npconvert_exporter": "python",
  "pygments_lexer": "ipython3",
  "version": 3,
  "kernelspec": {
   "name": "python37564bitdce661b04f5a4a6596dbede3d1d36922",
   "display_name": "Python 3.7.5 64-bit"
  }
 },
 "cells": [
  {
   "cell_type": "code",
   "execution_count": 2,
   "metadata": {},
   "outputs": [],
   "source": [
    "import pandas as pd\n",
    "import matplotlib.pyplot as plt\n",
    "\n",
    "%config IPCompleter.greedy=True"
   ]
  },
  {
   "cell_type": "markdown",
   "execution_count": 1,
   "metadata": {},
   "outputs": [
    {
     "ename": "NameError",
     "evalue": "name 'adfasfdasf' is not defined",
     "output_type": "error",
     "traceback": [
      "\u001b[0;31m---------------------------------------------------------------------------\u001b[0m",
      "\u001b[0;31mNameError\u001b[0m                                 Traceback (most recent call last)",
      "\u001b[0;32m<ipython-input-1-fa62d7db8b4e>\u001b[0m in \u001b[0;36m<module>\u001b[0;34m\u001b[0m\n\u001b[0;32m----> 1\u001b[0;31m \u001b[0madfasfdasf\u001b[0m\u001b[0;34m\u001b[0m\u001b[0;34m\u001b[0m\u001b[0m\n\u001b[0m",
      "\u001b[0;31mNameError\u001b[0m: name 'adfasfdasf' is not defined"
     ]
    }
   ],
   "source": [
    "# Data"
   ]
  },
  {
   "cell_type": "code",
   "execution_count": 3,
   "metadata": {},
   "outputs": [],
   "source": [
    "item_categories = pd.read_csv(\"item_categories.csv\")\n",
    "items = pd.read_csv(\"items.csv\")\n",
    "sales_train = pd.read_csv(\"sales_train.csv\")\n",
    "shops = pd.read_csv(\"shops.csv\")\n",
    "test = pd.read_csv(\"test.csv\")"
   ]
  },
  {
   "cell_type": "markdown",
   "execution_count": null,
   "metadata": {},
   "outputs": [],
   "source": [
    "### Descriptive stats"
   ]
  },
  {
   "cell_type": "code",
   "execution_count": 4,
   "metadata": {},
   "outputs": [],
   "source": [
    "def get_descriptive_stats(df):\n",
    "    print(\"SHAPE:\")\n",
    "    print(df.shape)\n",
    "    print(\"\\n\\n\")\n",
    "    print(\"SAMPLE:\")\n",
    "    print(df.head(5))\n",
    "    print(\"\\n\\n\")\n",
    "    print(\"#UNIQUE:\")\n",
    "    print(df.nunique())\n",
    "    print(\"\\n\\n\")\n",
    "    print(\"MISSING VALUES:\")\n",
    "    print(df.isnull().sum())\n",
    "    print(\"\\n\\n\")\n",
    "    print(\"DESCRIPTIVES:\")\n",
    "    print(df.describe())"
   ]
  },
  {
   "cell_type": "code",
   "execution_count": 5,
   "metadata": {},
   "outputs": [
    {
     "output_type": "stream",
     "name": "stdout",
     "text": "SHAPE:\n(22170, 3)\n\n\n\nSAMPLE:\n                                           item_name  item_id  \\\n0          ! ВО ВЛАСТИ НАВАЖДЕНИЯ (ПЛАСТ.)         D        0   \n1  !ABBYY FineReader 12 Professional Edition Full...        1   \n2      ***В ЛУЧАХ СЛАВЫ   (UNV)                    D        2   \n3    ***ГОЛУБАЯ ВОЛНА  (Univ)                      D        3   \n4        ***КОРОБКА (СТЕКЛО)                       D        4   \n\n   item_category_id  \n0                40  \n1                76  \n2                40  \n3                40  \n4                40  \n\n\n\n#UNIQUE:\nitem_name           22170\nitem_id             22170\nitem_category_id       84\ndtype: int64\n\n\n\nMISSING VALUES:\nitem_name           0\nitem_id             0\nitem_category_id    0\ndtype: int64\n\n\n\nDESCRIPTIVES:\n           item_id  item_category_id\ncount  22170.00000      22170.000000\nmean   11084.50000         46.290753\nstd     6400.07207         15.941486\nmin        0.00000          0.000000\n25%     5542.25000         37.000000\n50%    11084.50000         40.000000\n75%    16626.75000         58.000000\nmax    22169.00000         83.000000\n"
    }
   ],
   "source": [
    "get_descriptive_stats(items)"
   ]
  },
  {
   "cell_type": "code",
   "execution_count": 6,
   "metadata": {},
   "outputs": [
    {
     "output_type": "stream",
     "name": "stdout",
     "text": "SHAPE:\n(84, 2)\n\n\n\nSAMPLE:\n        item_category_name  item_category_id\n0  PC - Гарнитуры/Наушники                 0\n1         Аксессуары - PS2                 1\n2         Аксессуары - PS3                 2\n3         Аксессуары - PS4                 3\n4         Аксессуары - PSP                 4\n\n\n\n#UNIQUE:\nitem_category_name    84\nitem_category_id      84\ndtype: int64\n\n\n\nMISSING VALUES:\nitem_category_name    0\nitem_category_id      0\ndtype: int64\n\n\n\nDESCRIPTIVES:\n       item_category_id\ncount         84.000000\nmean          41.500000\nstd           24.392622\nmin            0.000000\n25%           20.750000\n50%           41.500000\n75%           62.250000\nmax           83.000000\n"
    }
   ],
   "source": [
    "get_descriptive_stats(item_categories)"
   ]
  },
  {
   "cell_type": "code",
   "execution_count": 7,
   "metadata": {},
   "outputs": [
    {
     "output_type": "stream",
     "name": "stdout",
     "text": "SHAPE:\n(60, 2)\n\n\n\nSAMPLE:\n                        shop_name  shop_id\n0   !Якутск Орджоникидзе, 56 фран        0\n1   !Якутск ТЦ \"Центральный\" фран        1\n2                Адыгея ТЦ \"Мега\"        2\n3  Балашиха ТРК \"Октябрь-Киномир\"        3\n4        Волжский ТЦ \"Волга Молл\"        4\n\n\n\n#UNIQUE:\nshop_name    60\nshop_id      60\ndtype: int64\n\n\n\nMISSING VALUES:\nshop_name    0\nshop_id      0\ndtype: int64\n\n\n\nDESCRIPTIVES:\n         shop_id\ncount  60.000000\nmean   29.500000\nstd    17.464249\nmin     0.000000\n25%    14.750000\n50%    29.500000\n75%    44.250000\nmax    59.000000\n"
    }
   ],
   "source": [
    "get_descriptive_stats(shops)"
   ]
  },
  {
   "cell_type": "code",
   "execution_count": 8,
   "metadata": {},
   "outputs": [
    {
     "output_type": "stream",
     "name": "stdout",
     "text": "SHAPE:\n(2935849, 6)\n\n\n\nSAMPLE:\n         date  date_block_num  shop_id  item_id  item_price  item_cnt_day\n0  02.01.2013               0       59    22154      999.00           1.0\n1  03.01.2013               0       25     2552      899.00           1.0\n2  05.01.2013               0       25     2552      899.00          -1.0\n3  06.01.2013               0       25     2554     1709.05           1.0\n4  15.01.2013               0       25     2555     1099.00           1.0\n\n\n\n#UNIQUE:\ndate               1034\ndate_block_num       34\nshop_id              60\nitem_id           21807\nitem_price        19993\nitem_cnt_day        198\ndtype: int64\n\n\n\nMISSING VALUES:\ndate              0\ndate_block_num    0\nshop_id           0\nitem_id           0\nitem_price        0\nitem_cnt_day      0\ndtype: int64\n\n\n\nDESCRIPTIVES:\n       date_block_num       shop_id       item_id    item_price  item_cnt_day\ncount    2.935849e+06  2.935849e+06  2.935849e+06  2.935849e+06  2.935849e+06\nmean     1.456991e+01  3.300173e+01  1.019723e+04  8.908532e+02  1.242641e+00\nstd      9.422988e+00  1.622697e+01  6.324297e+03  1.729800e+03  2.618834e+00\nmin      0.000000e+00  0.000000e+00  0.000000e+00 -1.000000e+00 -2.200000e+01\n25%      7.000000e+00  2.200000e+01  4.476000e+03  2.490000e+02  1.000000e+00\n50%      1.400000e+01  3.100000e+01  9.343000e+03  3.990000e+02  1.000000e+00\n75%      2.300000e+01  4.700000e+01  1.568400e+04  9.990000e+02  1.000000e+00\nmax      3.300000e+01  5.900000e+01  2.216900e+04  3.079800e+05  2.169000e+03\n"
    }
   ],
   "source": [
    "get_descriptive_stats(sales_train)"
   ]
  },
  {
   "cell_type": "markdown",
   "execution_count": null,
   "metadata": {},
   "outputs": [],
   "source": [
    "# Simple baseline"
   ]
  },
  {
   "cell_type": "markdown",
   "metadata": {},
   "source": [
    "We first create 2 simple baselines."
   ]
  },
  {
   "cell_type": "code",
   "execution_count": 9,
   "metadata": {},
   "outputs": [],
   "source": [
    "# Simple baseline 1: compute average sales per shop+item in November 2013/2014 and average over the 2 years.\n",
    "sales_train['month'] = sales_train['date'].apply(lambda x: x.split('.')[-2])\n",
    "sales_train['year'] = sales_train['date'].apply(lambda x: x.split('.')[-1])\n",
    "november_only = sales_train[sales_train.month=='11']\n",
    "\n",
    "avg_grouped = november_only.groupby(['shop_id','item_id']).agg({'item_cnt_day':'sum'})\n",
    "avg_grouped['item_cnt_day'] /= 2. # number of novembers in training set\n",
    "\n",
    "merged_with_test = test.merge(avg_grouped,on=['shop_id','item_id'],how='left').fillna(0) # if no sales predict 0\n",
    "\n",
    "submission_file = merged_with_test.reset_index()[['ID','item_cnt_day']]\n",
    "submission_file = submission_file.rename(mapper={'item_cnt_day':'item_cnt_month'},axis=1)\n",
    "submission_file.to_csv(\"submissions/november_average.csv\",index=False)\n",
    "\n",
    "#### Score: 3.14800"
   ]
  },
  {
   "cell_type": "code",
   "execution_count": 10,
   "metadata": {},
   "outputs": [],
   "source": [
    "# Simple baseline 2: compute average sales per shop+item in each month of the training period and predict the average.\n",
    "all_sales = sales_train.copy()\n",
    "\n",
    "avg_grouped = all_sales.groupby(['shop_id','item_id']).agg({'item_cnt_day':'sum'})\n",
    "avg_grouped['item_cnt_day'] /= 34. # number of months in training set\n",
    "\n",
    "merged_with_test = test.merge(avg_grouped,on=['shop_id','item_id'],how='left').fillna(0) # if no sales predict 0\n",
    "\n",
    "submission_file = merged_with_test.reset_index()[['ID','item_cnt_day']]\n",
    "submission_file = submission_file.rename(mapper={'item_cnt_day':'item_cnt_month'},axis=1)\n",
    "submission_file.to_csv(\"submissions/monthly_average.csv\",index=False)\n",
    "\n",
    "#### Score: 2.04648"
   ]
  },
  {
   "cell_type": "markdown",
   "metadata": {},
   "source": [
    "# EDA"
   ]
  },
  {
   "cell_type": "markdown",
   "metadata": {},
   "source": [
    "## Items"
   ]
  },
  {
   "cell_type": "code",
   "execution_count": 11,
   "metadata": {},
   "outputs": [
    {
     "output_type": "stream",
     "name": "stdout",
     "text": "SHAPE:\n(22170, 3)\n\n\n\nSAMPLE:\n                                           item_name  item_id  \\\n0          ! ВО ВЛАСТИ НАВАЖДЕНИЯ (ПЛАСТ.)         D        0   \n1  !ABBYY FineReader 12 Professional Edition Full...        1   \n2      ***В ЛУЧАХ СЛАВЫ   (UNV)                    D        2   \n3    ***ГОЛУБАЯ ВОЛНА  (Univ)                      D        3   \n4        ***КОРОБКА (СТЕКЛО)                       D        4   \n\n   item_category_id  \n0                40  \n1                76  \n2                40  \n3                40  \n4                40  \n\n\n\n#UNIQUE:\nitem_name           22170\nitem_id             22170\nitem_category_id       84\ndtype: int64\n\n\n\nMISSING VALUES:\nitem_name           0\nitem_id             0\nitem_category_id    0\ndtype: int64\n\n\n\nDESCRIPTIVES:\n           item_id  item_category_id\ncount  22170.00000      22170.000000\nmean   11084.50000         46.290753\nstd     6400.07207         15.941486\nmin        0.00000          0.000000\n25%     5542.25000         37.000000\n50%    11084.50000         40.000000\n75%    16626.75000         58.000000\nmax    22169.00000         83.000000\n"
    }
   ],
   "source": [
    "get_descriptive_stats(items)"
   ]
  },
  {
   "cell_type": "code",
   "execution_count": 12,
   "metadata": {},
   "outputs": [
    {
     "output_type": "execute_result",
     "data": {
      "text/plain": "0            ! ВО ВЛАСТИ НАВАЖДЕНИЯ (ПЛАСТ.)         D\n1    !ABBYY FineReader 12 Professional Edition Full...\n2        ***В ЛУЧАХ СЛАВЫ   (UNV)                    D\n3      ***ГОЛУБАЯ ВОЛНА  (Univ)                      D\n4          ***КОРОБКА (СТЕКЛО)                       D\n5    ***НОВЫЕ АМЕРИКАНСКИЕ ГРАФФИТИ  (UNI)         ...\n6             ***УДАР ПО ВОРОТАМ (UNI)               D\n7           ***УДАР ПО ВОРОТАМ-2 (UNI)               D\n8             ***ЧАЙ С МУССОЛИНИ                     D\n9        ***ШУГАРЛЭНДСКИЙ ЭКСПРЕСС (UNI)             D\nName: item_name, dtype: object"
     },
     "metadata": {},
     "execution_count": 12
    }
   ],
   "source": [
    "items['item_name'].head(10)"
   ]
  },
  {
   "cell_type": "markdown",
   "metadata": {},
   "source": [
    "* The items seem to have an indication of the type of item after the product name in either square '[]' or round '()' brackets. Are those correlated with the category id?"
   ]
  },
  {
   "cell_type": "code",
   "execution_count": 13,
   "metadata": {},
   "outputs": [
    {
     "output_type": "execute_result",
     "data": {
      "text/plain": "0                     ПЛАСТ.\n1        PC, Цифровая версия\n2                        UNV\n3                       Univ\n4                     СТЕКЛО\n                ...         \n22165    PC, Цифровая версия\n22166        Цифровая версия\n22167                    +CD\n22168                       \n22169         Игра престолов\nName: item_name_bracketed, Length: 22170, dtype: object"
     },
     "metadata": {},
     "execution_count": 13
    }
   ],
   "source": [
    "items['item_name_bracketed'] = items['item_name'].apply(lambda x:  x[x.find(\"(\")+1:x.find(\")\")] if x.find('(')>0 else (x[x.find(\"[\")+1:x.find(\"]\")] if x.find('[')>0 else ''))\n",
    "items['item_name_bracketed']"
   ]
  },
  {
   "cell_type": "code",
   "execution_count": 14,
   "metadata": {},
   "outputs": [
    {
     "output_type": "execute_result",
     "data": {
      "text/plain": "          item_name_bracketed  item_category_id\n0                      ПЛАСТ.                40\n1         PC, Цифровая версия                76\n2                         UNV                40\n3                        Univ                40\n4                      СТЕКЛО                40\n5                         UNI                40\n6                         UNI                40\n7                         UNI                40\n8                                            40\n9                         UNI                40\n10                                           40\n11                                           40\n12                                           55\n13                                           40\n14                                           40\n15                     Регион                40\n16                     Регион                40\n17                     Регион                40\n18                                           40\n19                                           40\n20                                           40\n21                                           40\n22                                           40\n23                                           40\n24                                           40\n25                                           40\n26                    сер.3-4                40\n27        PS3, русская версия                19\n28  PС, Jewel, русская версия                30\n29   Xbox 360, русская версия                23",
      "text/html": "<div>\n<style scoped>\n    .dataframe tbody tr th:only-of-type {\n        vertical-align: middle;\n    }\n\n    .dataframe tbody tr th {\n        vertical-align: top;\n    }\n\n    .dataframe thead th {\n        text-align: right;\n    }\n</style>\n<table border=\"1\" class=\"dataframe\">\n  <thead>\n    <tr style=\"text-align: right;\">\n      <th></th>\n      <th>item_name_bracketed</th>\n      <th>item_category_id</th>\n    </tr>\n  </thead>\n  <tbody>\n    <tr>\n      <th>0</th>\n      <td>ПЛАСТ.</td>\n      <td>40</td>\n    </tr>\n    <tr>\n      <th>1</th>\n      <td>PC, Цифровая версия</td>\n      <td>76</td>\n    </tr>\n    <tr>\n      <th>2</th>\n      <td>UNV</td>\n      <td>40</td>\n    </tr>\n    <tr>\n      <th>3</th>\n      <td>Univ</td>\n      <td>40</td>\n    </tr>\n    <tr>\n      <th>4</th>\n      <td>СТЕКЛО</td>\n      <td>40</td>\n    </tr>\n    <tr>\n      <th>5</th>\n      <td>UNI</td>\n      <td>40</td>\n    </tr>\n    <tr>\n      <th>6</th>\n      <td>UNI</td>\n      <td>40</td>\n    </tr>\n    <tr>\n      <th>7</th>\n      <td>UNI</td>\n      <td>40</td>\n    </tr>\n    <tr>\n      <th>8</th>\n      <td></td>\n      <td>40</td>\n    </tr>\n    <tr>\n      <th>9</th>\n      <td>UNI</td>\n      <td>40</td>\n    </tr>\n    <tr>\n      <th>10</th>\n      <td></td>\n      <td>40</td>\n    </tr>\n    <tr>\n      <th>11</th>\n      <td></td>\n      <td>40</td>\n    </tr>\n    <tr>\n      <th>12</th>\n      <td></td>\n      <td>55</td>\n    </tr>\n    <tr>\n      <th>13</th>\n      <td></td>\n      <td>40</td>\n    </tr>\n    <tr>\n      <th>14</th>\n      <td></td>\n      <td>40</td>\n    </tr>\n    <tr>\n      <th>15</th>\n      <td>Регион</td>\n      <td>40</td>\n    </tr>\n    <tr>\n      <th>16</th>\n      <td>Регион</td>\n      <td>40</td>\n    </tr>\n    <tr>\n      <th>17</th>\n      <td>Регион</td>\n      <td>40</td>\n    </tr>\n    <tr>\n      <th>18</th>\n      <td></td>\n      <td>40</td>\n    </tr>\n    <tr>\n      <th>19</th>\n      <td></td>\n      <td>40</td>\n    </tr>\n    <tr>\n      <th>20</th>\n      <td></td>\n      <td>40</td>\n    </tr>\n    <tr>\n      <th>21</th>\n      <td></td>\n      <td>40</td>\n    </tr>\n    <tr>\n      <th>22</th>\n      <td></td>\n      <td>40</td>\n    </tr>\n    <tr>\n      <th>23</th>\n      <td></td>\n      <td>40</td>\n    </tr>\n    <tr>\n      <th>24</th>\n      <td></td>\n      <td>40</td>\n    </tr>\n    <tr>\n      <th>25</th>\n      <td></td>\n      <td>40</td>\n    </tr>\n    <tr>\n      <th>26</th>\n      <td>сер.3-4</td>\n      <td>40</td>\n    </tr>\n    <tr>\n      <th>27</th>\n      <td>PS3, русская версия</td>\n      <td>19</td>\n    </tr>\n    <tr>\n      <th>28</th>\n      <td>PС, Jewel, русская версия</td>\n      <td>30</td>\n    </tr>\n    <tr>\n      <th>29</th>\n      <td>Xbox 360, русская версия</td>\n      <td>23</td>\n    </tr>\n  </tbody>\n</table>\n</div>"
     },
     "metadata": {},
     "execution_count": 14
    }
   ],
   "source": [
    "items[['item_name_bracketed','item_category_id']].head(30)"
   ]
  },
  {
   "cell_type": "markdown",
   "metadata": {},
   "source": [
    "* Doesn't seem to be the case so probably we can get more information by also processing this"
   ]
  },
  {
   "cell_type": "code",
   "execution_count": 15,
   "metadata": {},
   "outputs": [
    {
     "output_type": "display_data",
     "data": {
      "text/plain": "<Figure size 432x288 with 1 Axes>",
      "image/svg+xml": "<?xml version=\"1.0\" encoding=\"utf-8\" standalone=\"no\"?>\n<!DOCTYPE svg PUBLIC \"-//W3C//DTD SVG 1.1//EN\"\n  \"http://www.w3.org/Graphics/SVG/1.1/DTD/svg11.dtd\">\n<!-- Created with matplotlib (https://matplotlib.org/) -->\n<svg height=\"248.518125pt\" version=\"1.1\" viewBox=\"0 0 381.65 248.518125\" width=\"381.65pt\" xmlns=\"http://www.w3.org/2000/svg\" xmlns:xlink=\"http://www.w3.org/1999/xlink\">\n <defs>\n  <style type=\"text/css\">\n*{stroke-linecap:butt;stroke-linejoin:round;}\n  </style>\n </defs>\n <g id=\"figure_1\">\n  <g id=\"patch_1\">\n   <path d=\"M -0 248.518125 \nL 381.65 248.518125 \nL 381.65 0 \nL -0 0 \nz\n\" style=\"fill:none;\"/>\n  </g>\n  <g id=\"axes_1\">\n   <g id=\"patch_2\">\n    <path d=\"M 39.65 224.64 \nL 374.45 224.64 \nL 374.45 7.2 \nL 39.65 7.2 \nz\n\" style=\"fill:#ffffff;\"/>\n   </g>\n   <g id=\"patch_3\">\n    <path clip-path=\"url(#pd0e3ced01b)\" d=\"M 54.868182 224.64 \nL 58.491558 224.64 \nL 58.491558 224.475483 \nL 54.868182 224.475483 \nz\n\" style=\"fill:#1f77b4;\"/>\n   </g>\n   <g id=\"patch_4\">\n    <path clip-path=\"url(#pd0e3ced01b)\" d=\"M 58.491558 224.64 \nL 62.114935 224.64 \nL 62.114935 224.557742 \nL 58.491558 224.557742 \nz\n\" style=\"fill:#1f77b4;\"/>\n   </g>\n   <g id=\"patch_5\">\n    <path clip-path=\"url(#pd0e3ced01b)\" d=\"M 62.114935 224.64 \nL 65.738312 224.64 \nL 65.738312 221.555307 \nL 62.114935 221.555307 \nz\n\" style=\"fill:#1f77b4;\"/>\n   </g>\n   <g id=\"patch_6\">\n    <path clip-path=\"url(#pd0e3ced01b)\" d=\"M 65.738312 224.64 \nL 69.361688 224.64 \nL 69.361688 223.241606 \nL 65.738312 223.241606 \nz\n\" style=\"fill:#1f77b4;\"/>\n   </g>\n   <g id=\"patch_7\">\n    <path clip-path=\"url(#pd0e3ced01b)\" d=\"M 69.361688 224.64 \nL 72.985065 224.64 \nL 72.985065 224.023061 \nL 69.361688 224.023061 \nz\n\" style=\"fill:#1f77b4;\"/>\n   </g>\n   <g id=\"patch_8\">\n    <path clip-path=\"url(#pd0e3ced01b)\" d=\"M 72.985065 224.64 \nL 76.608442 224.64 \nL 76.608442 223.447252 \nL 72.985065 223.447252 \nz\n\" style=\"fill:#1f77b4;\"/>\n   </g>\n   <g id=\"patch_9\">\n    <path clip-path=\"url(#pd0e3ced01b)\" d=\"M 76.608442 224.64 \nL 80.231818 224.64 \nL 80.231818 222.99483 \nL 76.608442 222.99483 \nz\n\" style=\"fill:#1f77b4;\"/>\n   </g>\n   <g id=\"patch_10\">\n    <path clip-path=\"url(#pd0e3ced01b)\" d=\"M 80.231818 224.64 \nL 83.855195 224.64 \nL 83.855195 223.652898 \nL 80.231818 223.652898 \nz\n\" style=\"fill:#1f77b4;\"/>\n   </g>\n   <g id=\"patch_11\">\n    <path clip-path=\"url(#pd0e3ced01b)\" d=\"M 83.855195 224.64 \nL 87.478571 224.64 \nL 87.478571 224.269837 \nL 83.855195 224.269837 \nz\n\" style=\"fill:#1f77b4;\"/>\n   </g>\n   <g id=\"patch_12\">\n    <path clip-path=\"url(#pd0e3ced01b)\" d=\"M 87.478571 224.64 \nL 91.101948 224.64 \nL 91.101948 224.146449 \nL 87.478571 224.146449 \nz\n\" style=\"fill:#1f77b4;\"/>\n   </g>\n   <g id=\"patch_13\">\n    <path clip-path=\"url(#pd0e3ced01b)\" d=\"M 91.101948 224.64 \nL 94.725325 224.64 \nL 94.725325 224.598871 \nL 91.101948 224.598871 \nz\n\" style=\"fill:#1f77b4;\"/>\n   </g>\n   <g id=\"patch_14\">\n    <path clip-path=\"url(#pd0e3ced01b)\" d=\"M 94.725325 224.64 \nL 98.348701 224.64 \nL 98.348701 222.953701 \nL 94.725325 222.953701 \nz\n\" style=\"fill:#1f77b4;\"/>\n   </g>\n   <g id=\"patch_15\">\n    <path clip-path=\"url(#pd0e3ced01b)\" d=\"M 98.348701 224.64 \nL 101.972078 224.64 \nL 101.972078 223.817415 \nL 98.348701 223.817415 \nz\n\" style=\"fill:#1f77b4;\"/>\n   </g>\n   <g id=\"patch_16\">\n    <path clip-path=\"url(#pd0e3ced01b)\" d=\"M 101.972078 224.64 \nL 105.595455 224.64 \nL 105.595455 224.393225 \nL 101.972078 224.393225 \nz\n\" style=\"fill:#1f77b4;\"/>\n   </g>\n   <g id=\"patch_17\">\n    <path clip-path=\"url(#pd0e3ced01b)\" d=\"M 105.595455 224.64 \nL 109.218831 224.64 \nL 109.218831 223.899674 \nL 105.595455 223.899674 \nz\n\" style=\"fill:#1f77b4;\"/>\n   </g>\n   <g id=\"patch_18\">\n    <path clip-path=\"url(#pd0e3ced01b)\" d=\"M 109.218831 224.64 \nL 112.842208 224.64 \nL 112.842208 223.118218 \nL 109.218831 223.118218 \nz\n\" style=\"fill:#1f77b4;\"/>\n   </g>\n   <g id=\"patch_19\">\n    <path clip-path=\"url(#pd0e3ced01b)\" d=\"M 112.842208 224.64 \nL 116.465584 224.64 \nL 116.465584 223.817415 \nL 112.842208 223.817415 \nz\n\" style=\"fill:#1f77b4;\"/>\n   </g>\n   <g id=\"patch_20\">\n    <path clip-path=\"url(#pd0e3ced01b)\" d=\"M 116.465584 224.64 \nL 120.088961 224.64 \nL 120.088961 224.352095 \nL 116.465584 224.352095 \nz\n\" style=\"fill:#1f77b4;\"/>\n   </g>\n   <g id=\"patch_21\">\n    <path clip-path=\"url(#pd0e3ced01b)\" d=\"M 120.088961 224.64 \nL 123.712338 224.64 \nL 123.712338 224.393225 \nL 120.088961 224.393225 \nz\n\" style=\"fill:#1f77b4;\"/>\n   </g>\n   <g id=\"patch_22\">\n    <path clip-path=\"url(#pd0e3ced01b)\" d=\"M 123.712338 224.64 \nL 127.335714 224.64 \nL 127.335714 198.810838 \nL 123.712338 198.810838 \nz\n\" style=\"fill:#1f77b4;\"/>\n   </g>\n   <g id=\"patch_23\">\n    <path clip-path=\"url(#pd0e3ced01b)\" d=\"M 127.335714 224.64 \nL 130.959091 224.64 \nL 130.959091 217.442383 \nL 127.335714 217.442383 \nz\n\" style=\"fill:#1f77b4;\"/>\n   </g>\n   <g id=\"patch_24\">\n    <path clip-path=\"url(#pd0e3ced01b)\" d=\"M 130.959091 224.64 \nL 134.582468 224.64 \nL 134.582468 219.498845 \nL 130.959091 219.498845 \nz\n\" style=\"fill:#1f77b4;\"/>\n   </g>\n   <g id=\"patch_25\">\n    <path clip-path=\"url(#pd0e3ced01b)\" d=\"M 134.582468 224.64 \nL 138.205844 224.64 \nL 138.205844 221.39079 \nL 134.582468 221.39079 \nz\n\" style=\"fill:#1f77b4;\"/>\n   </g>\n   <g id=\"patch_26\">\n    <path clip-path=\"url(#pd0e3ced01b)\" d=\"M 138.205844 224.64 \nL 141.829221 224.64 \nL 141.829221 204.034252 \nL 138.205844 204.034252 \nz\n\" style=\"fill:#1f77b4;\"/>\n   </g>\n   <g id=\"patch_27\">\n    <path clip-path=\"url(#pd0e3ced01b)\" d=\"M 141.829221 224.64 \nL 145.452597 224.64 \nL 145.452597 219.581104 \nL 141.829221 219.581104 \nz\n\" style=\"fill:#1f77b4;\"/>\n   </g>\n   <g id=\"patch_28\">\n    <path clip-path=\"url(#pd0e3ced01b)\" d=\"M 145.452597 224.64 \nL 149.075974 224.64 \nL 149.075974 218.881907 \nL 145.452597 218.881907 \nz\n\" style=\"fill:#1f77b4;\"/>\n   </g>\n   <g id=\"patch_29\">\n    <path clip-path=\"url(#pd0e3ced01b)\" d=\"M 149.075974 224.64 \nL 152.699351 224.64 \nL 152.699351 224.516612 \nL 149.075974 224.516612 \nz\n\" style=\"fill:#1f77b4;\"/>\n   </g>\n   <g id=\"patch_30\">\n    <path clip-path=\"url(#pd0e3ced01b)\" d=\"M 152.699351 224.64 \nL 156.322727 224.64 \nL 156.322727 224.310966 \nL 152.699351 224.310966 \nz\n\" style=\"fill:#1f77b4;\"/>\n   </g>\n   <g id=\"patch_31\">\n    <path clip-path=\"url(#pd0e3ced01b)\" d=\"M 156.322727 224.64 \nL 159.946104 224.64 \nL 159.946104 214.768983 \nL 156.322727 214.768983 \nz\n\" style=\"fill:#1f77b4;\"/>\n   </g>\n   <g id=\"patch_32\">\n    <path clip-path=\"url(#pd0e3ced01b)\" d=\"M 159.946104 224.64 \nL 163.569481 224.64 \nL 163.569481 222.748055 \nL 159.946104 222.748055 \nz\n\" style=\"fill:#1f77b4;\"/>\n   </g>\n   <g id=\"patch_33\">\n    <path clip-path=\"url(#pd0e3ced01b)\" d=\"M 163.569481 224.64 \nL 167.192857 224.64 \nL 167.192857 193.546296 \nL 163.569481 193.546296 \nz\n\" style=\"fill:#1f77b4;\"/>\n   </g>\n   <g id=\"patch_34\">\n    <path clip-path=\"url(#pd0e3ced01b)\" d=\"M 167.192857 224.64 \nL 170.816234 224.64 \nL 170.816234 178.369607 \nL 167.192857 178.369607 \nz\n\" style=\"fill:#1f77b4;\"/>\n   </g>\n   <g id=\"patch_35\">\n    <path clip-path=\"url(#pd0e3ced01b)\" d=\"M 170.816234 224.64 \nL 174.43961 224.64 \nL 174.43961 224.393225 \nL 170.816234 224.393225 \nz\n\" style=\"fill:#1f77b4;\"/>\n   </g>\n   <g id=\"patch_36\">\n    <path clip-path=\"url(#pd0e3ced01b)\" d=\"M 174.43961 224.64 \nL 178.062987 224.64 \nL 178.062987 223.899674 \nL 174.43961 223.899674 \nz\n\" style=\"fill:#1f77b4;\"/>\n   </g>\n   <g id=\"patch_37\">\n    <path clip-path=\"url(#pd0e3ced01b)\" d=\"M 178.062987 224.64 \nL 181.686364 224.64 \nL 181.686364 224.310966 \nL 178.062987 224.310966 \nz\n\" style=\"fill:#1f77b4;\"/>\n   </g>\n   <g id=\"patch_38\">\n    <path clip-path=\"url(#pd0e3ced01b)\" d=\"M 181.686364 224.64 \nL 185.30974 224.64 \nL 185.30974 224.475483 \nL 181.686364 224.475483 \nz\n\" style=\"fill:#1f77b4;\"/>\n   </g>\n   <g id=\"patch_39\">\n    <path clip-path=\"url(#pd0e3ced01b)\" d=\"M 185.30974 224.64 \nL 188.933117 224.64 \nL 188.933117 224.393225 \nL 185.30974 224.393225 \nz\n\" style=\"fill:#1f77b4;\"/>\n   </g>\n   <g id=\"patch_40\">\n    <path clip-path=\"url(#pd0e3ced01b)\" d=\"M 188.933117 224.64 \nL 192.556494 224.64 \nL 192.556494 151.429956 \nL 188.933117 151.429956 \nz\n\" style=\"fill:#1f77b4;\"/>\n   </g>\n   <g id=\"patch_41\">\n    <path clip-path=\"url(#pd0e3ced01b)\" d=\"M 192.556494 224.64 \nL 196.17987 224.64 \nL 196.17987 211.889936 \nL 192.556494 211.889936 \nz\n\" style=\"fill:#1f77b4;\"/>\n   </g>\n   <g id=\"patch_42\">\n    <path clip-path=\"url(#pd0e3ced01b)\" d=\"M 196.17987 224.64 \nL 199.803247 224.64 \nL 199.803247 224.352095 \nL 196.17987 224.352095 \nz\n\" style=\"fill:#1f77b4;\"/>\n   </g>\n   <g id=\"patch_43\">\n    <path clip-path=\"url(#pd0e3ced01b)\" d=\"M 199.803247 224.64 \nL 203.426623 224.64 \nL 203.426623 17.554286 \nL 199.803247 17.554286 \nz\n\" style=\"fill:#1f77b4;\"/>\n   </g>\n   <g id=\"patch_44\">\n    <path clip-path=\"url(#pd0e3ced01b)\" d=\"M 203.426623 224.64 \nL 207.05 224.64 \nL 207.05 210.985093 \nL 203.426623 210.985093 \nz\n\" style=\"fill:#1f77b4;\"/>\n   </g>\n   <g id=\"patch_45\">\n    <path clip-path=\"url(#pd0e3ced01b)\" d=\"M 207.05 224.64 \nL 210.673377 224.64 \nL 210.673377 224.146449 \nL 207.05 224.146449 \nz\n\" style=\"fill:#1f77b4;\"/>\n   </g>\n   <g id=\"patch_46\">\n    <path clip-path=\"url(#pd0e3ced01b)\" d=\"M 210.673377 224.64 \nL 214.296753 224.64 \nL 214.296753 205.268129 \nL 210.673377 205.268129 \nz\n\" style=\"fill:#1f77b4;\"/>\n   </g>\n   <g id=\"patch_47\">\n    <path clip-path=\"url(#pd0e3ced01b)\" d=\"M 214.296753 224.64 \nL 217.92013 224.64 \nL 217.92013 218.018193 \nL 214.296753 218.018193 \nz\n\" style=\"fill:#1f77b4;\"/>\n   </g>\n   <g id=\"patch_48\">\n    <path clip-path=\"url(#pd0e3ced01b)\" d=\"M 217.92013 224.64 \nL 221.543506 224.64 \nL 221.543506 216.619799 \nL 217.92013 216.619799 \nz\n\" style=\"fill:#1f77b4;\"/>\n   </g>\n   <g id=\"patch_49\">\n    <path clip-path=\"url(#pd0e3ced01b)\" d=\"M 221.543506 224.64 \nL 225.166883 224.64 \nL 225.166883 224.146449 \nL 221.543506 224.146449 \nz\n\" style=\"fill:#1f77b4;\"/>\n   </g>\n   <g id=\"patch_50\">\n    <path clip-path=\"url(#pd0e3ced01b)\" d=\"M 225.166883 224.64 \nL 228.79026 224.64 \nL 228.79026 218.429485 \nL 225.166883 218.429485 \nz\n\" style=\"fill:#1f77b4;\"/>\n   </g>\n   <g id=\"patch_51\">\n    <path clip-path=\"url(#pd0e3ced01b)\" d=\"M 228.79026 224.64 \nL 232.413636 224.64 \nL 232.413636 224.434354 \nL 228.79026 224.434354 \nz\n\" style=\"fill:#1f77b4;\"/>\n   </g>\n   <g id=\"patch_52\">\n    <path clip-path=\"url(#pd0e3ced01b)\" d=\"M 232.413636 224.64 \nL 236.037013 224.64 \nL 236.037013 217.771417 \nL 232.413636 217.771417 \nz\n\" style=\"fill:#1f77b4;\"/>\n   </g>\n   <g id=\"patch_53\">\n    <path clip-path=\"url(#pd0e3ced01b)\" d=\"M 236.037013 224.64 \nL 239.66039 224.64 \nL 239.66039 224.557742 \nL 236.037013 224.557742 \nz\n\" style=\"fill:#1f77b4;\"/>\n   </g>\n   <g id=\"patch_54\">\n    <path clip-path=\"url(#pd0e3ced01b)\" d=\"M 239.66039 224.64 \nL 243.283766 224.64 \nL 243.283766 224.598871 \nL 239.66039 224.598871 \nz\n\" style=\"fill:#1f77b4;\"/>\n   </g>\n   <g id=\"patch_55\">\n    <path clip-path=\"url(#pd0e3ced01b)\" d=\"M 243.283766 224.64 \nL 246.907143 224.64 \nL 246.907143 224.516612 \nL 243.283766 224.516612 \nz\n\" style=\"fill:#1f77b4;\"/>\n   </g>\n   <g id=\"patch_56\">\n    <path clip-path=\"url(#pd0e3ced01b)\" d=\"M 246.907143 224.64 \nL 250.530519 224.64 \nL 250.530519 224.516612 \nL 246.907143 224.516612 \nz\n\" style=\"fill:#1f77b4;\"/>\n   </g>\n   <g id=\"patch_57\">\n    <path clip-path=\"url(#pd0e3ced01b)\" d=\"M 250.530519 224.64 \nL 254.153896 224.64 \nL 254.153896 220.938369 \nL 250.530519 220.938369 \nz\n\" style=\"fill:#1f77b4;\"/>\n   </g>\n   <g id=\"patch_58\">\n    <path clip-path=\"url(#pd0e3ced01b)\" d=\"M 254.153896 224.64 \nL 257.777273 224.64 \nL 257.777273 127.369352 \nL 254.153896 127.369352 \nz\n\" style=\"fill:#1f77b4;\"/>\n   </g>\n   <g id=\"patch_59\">\n    <path clip-path=\"url(#pd0e3ced01b)\" d=\"M 257.777273 224.64 \nL 261.400649 224.64 \nL 261.400649 208.311692 \nL 257.777273 208.311692 \nz\n\" style=\"fill:#1f77b4;\"/>\n   </g>\n   <g id=\"patch_60\">\n    <path clip-path=\"url(#pd0e3ced01b)\" d=\"M 261.400649 224.64 \nL 265.024026 224.64 \nL 265.024026 207.077815 \nL 261.400649 207.077815 \nz\n\" style=\"fill:#1f77b4;\"/>\n   </g>\n   <g id=\"patch_61\">\n    <path clip-path=\"url(#pd0e3ced01b)\" d=\"M 265.024026 224.64 \nL 268.647403 224.64 \nL 268.647403 192.147902 \nL 265.024026 192.147902 \nz\n\" style=\"fill:#1f77b4;\"/>\n   </g>\n   <g id=\"patch_62\">\n    <path clip-path=\"url(#pd0e3ced01b)\" d=\"M 268.647403 224.64 \nL 272.270779 224.64 \nL 272.270779 212.548004 \nL 268.647403 212.548004 \nz\n\" style=\"fill:#1f77b4;\"/>\n   </g>\n   <g id=\"patch_63\">\n    <path clip-path=\"url(#pd0e3ced01b)\" d=\"M 272.270779 224.64 \nL 275.894156 224.64 \nL 275.894156 222.50128 \nL 272.270779 222.50128 \nz\n\" style=\"fill:#1f77b4;\"/>\n   </g>\n   <g id=\"patch_64\">\n    <path clip-path=\"url(#pd0e3ced01b)\" d=\"M 275.894156 224.64 \nL 279.517532 224.64 \nL 279.517532 200.044716 \nL 275.894156 200.044716 \nz\n\" style=\"fill:#1f77b4;\"/>\n   </g>\n   <g id=\"patch_65\">\n    <path clip-path=\"url(#pd0e3ced01b)\" d=\"M 279.517532 224.64 \nL 283.140909 224.64 \nL 283.140909 212.506875 \nL 279.517532 212.506875 \nz\n\" style=\"fill:#1f77b4;\"/>\n   </g>\n   <g id=\"patch_66\">\n    <path clip-path=\"url(#pd0e3ced01b)\" d=\"M 283.140909 224.64 \nL 286.764286 224.64 \nL 286.764286 209.586699 \nL 283.140909 209.586699 \nz\n\" style=\"fill:#1f77b4;\"/>\n   </g>\n   <g id=\"patch_67\">\n    <path clip-path=\"url(#pd0e3ced01b)\" d=\"M 286.764286 224.64 \nL 290.387662 224.64 \nL 290.387662 212.712521 \nL 286.764286 212.712521 \nz\n\" style=\"fill:#1f77b4;\"/>\n   </g>\n   <g id=\"patch_68\">\n    <path clip-path=\"url(#pd0e3ced01b)\" d=\"M 290.387662 224.64 \nL 294.011039 224.64 \nL 294.011039 217.935934 \nL 290.387662 217.935934 \nz\n\" style=\"fill:#1f77b4;\"/>\n   </g>\n   <g id=\"patch_69\">\n    <path clip-path=\"url(#pd0e3ced01b)\" d=\"M 294.011039 224.64 \nL 297.634416 224.64 \nL 297.634416 217.318996 \nL 294.011039 217.318996 \nz\n\" style=\"fill:#1f77b4;\"/>\n   </g>\n   <g id=\"patch_70\">\n    <path clip-path=\"url(#pd0e3ced01b)\" d=\"M 297.634416 224.64 \nL 301.257792 224.64 \nL 301.257792 208.43508 \nL 297.634416 208.43508 \nz\n\" style=\"fill:#1f77b4;\"/>\n   </g>\n   <g id=\"patch_71\">\n    <path clip-path=\"url(#pd0e3ced01b)\" d=\"M 301.257792 224.64 \nL 304.881169 224.64 \nL 304.881169 223.529511 \nL 301.257792 223.529511 \nz\n\" style=\"fill:#1f77b4;\"/>\n   </g>\n   <g id=\"patch_72\">\n    <path clip-path=\"url(#pd0e3ced01b)\" d=\"M 304.881169 224.64 \nL 308.504545 224.64 \nL 308.504545 211.602031 \nL 304.881169 211.602031 \nz\n\" style=\"fill:#1f77b4;\"/>\n   </g>\n   <g id=\"patch_73\">\n    <path clip-path=\"url(#pd0e3ced01b)\" d=\"M 308.504545 224.64 \nL 312.127922 224.64 \nL 312.127922 215.262534 \nL 308.504545 215.262534 \nz\n\" style=\"fill:#1f77b4;\"/>\n   </g>\n   <g id=\"patch_74\">\n    <path clip-path=\"url(#pd0e3ced01b)\" d=\"M 312.127922 224.64 \nL 315.751299 224.64 \nL 315.751299 224.393225 \nL 312.127922 224.393225 \nz\n\" style=\"fill:#1f77b4;\"/>\n   </g>\n   <g id=\"patch_75\">\n    <path clip-path=\"url(#pd0e3ced01b)\" d=\"M 315.751299 224.64 \nL 319.374675 224.64 \nL 319.374675 197.247927 \nL 315.751299 197.247927 \nz\n\" style=\"fill:#1f77b4;\"/>\n   </g>\n   <g id=\"patch_76\">\n    <path clip-path=\"url(#pd0e3ced01b)\" d=\"M 319.374675 224.64 \nL 322.998052 224.64 \nL 322.998052 223.159347 \nL 319.374675 223.159347 \nz\n\" style=\"fill:#1f77b4;\"/>\n   </g>\n   <g id=\"patch_77\">\n    <path clip-path=\"url(#pd0e3ced01b)\" d=\"M 322.998052 224.64 \nL 326.621429 224.64 \nL 326.621429 224.310966 \nL 322.998052 224.310966 \nz\n\" style=\"fill:#1f77b4;\"/>\n   </g>\n   <g id=\"patch_78\">\n    <path clip-path=\"url(#pd0e3ced01b)\" d=\"M 326.621429 224.64 \nL 330.244805 224.64 \nL 330.244805 213.247201 \nL 326.621429 213.247201 \nz\n\" style=\"fill:#1f77b4;\"/>\n   </g>\n   <g id=\"patch_79\">\n    <path clip-path=\"url(#pd0e3ced01b)\" d=\"M 330.244805 224.64 \nL 333.868182 224.64 \nL 333.868182 210.943964 \nL 330.244805 210.943964 \nz\n\" style=\"fill:#1f77b4;\"/>\n   </g>\n   <g id=\"patch_80\">\n    <path clip-path=\"url(#pd0e3ced01b)\" d=\"M 333.868182 224.64 \nL 337.491558 224.64 \nL 337.491558 215.591568 \nL 333.868182 215.591568 \nz\n\" style=\"fill:#1f77b4;\"/>\n   </g>\n   <g id=\"patch_81\">\n    <path clip-path=\"url(#pd0e3ced01b)\" d=\"M 337.491558 224.64 \nL 341.114935 224.64 \nL 341.114935 213.206072 \nL 337.491558 213.206072 \nz\n\" style=\"fill:#1f77b4;\"/>\n   </g>\n   <g id=\"patch_82\">\n    <path clip-path=\"url(#pd0e3ced01b)\" d=\"M 341.114935 224.64 \nL 344.738312 224.64 \nL 344.738312 224.598871 \nL 341.114935 224.598871 \nz\n\" style=\"fill:#1f77b4;\"/>\n   </g>\n   <g id=\"patch_83\">\n    <path clip-path=\"url(#pd0e3ced01b)\" d=\"M 344.738312 224.64 \nL 348.361688 224.64 \nL 348.361688 224.393225 \nL 344.738312 224.393225 \nz\n\" style=\"fill:#1f77b4;\"/>\n   </g>\n   <g id=\"patch_84\">\n    <path clip-path=\"url(#pd0e3ced01b)\" d=\"M 348.361688 224.64 \nL 351.985065 224.64 \nL 351.985065 224.352095 \nL 348.361688 224.352095 \nz\n\" style=\"fill:#1f77b4;\"/>\n   </g>\n   <g id=\"patch_85\">\n    <path clip-path=\"url(#pd0e3ced01b)\" d=\"M 351.985065 224.64 \nL 355.608442 224.64 \nL 355.608442 224.310966 \nL 351.985065 224.310966 \nz\n\" style=\"fill:#1f77b4;\"/>\n   </g>\n   <g id=\"patch_86\">\n    <path clip-path=\"url(#pd0e3ced01b)\" d=\"M 355.608442 224.64 \nL 359.231818 224.64 \nL 359.231818 224.023061 \nL 355.608442 224.023061 \nz\n\" style=\"fill:#1f77b4;\"/>\n   </g>\n   <g id=\"matplotlib.axis_1\">\n    <g id=\"xtick_1\">\n     <g id=\"line2d_1\">\n      <defs>\n       <path d=\"M 0 0 \nL 0 3.5 \n\" id=\"ma9f6a4630d\" style=\"stroke:#000000;stroke-width:0.8;\"/>\n      </defs>\n      <g>\n       <use style=\"stroke:#000000;stroke-width:0.8;\" x=\"54.868182\" xlink:href=\"#ma9f6a4630d\" y=\"224.64\"/>\n      </g>\n     </g>\n     <g id=\"text_1\">\n      <!-- 0 -->\n      <defs>\n       <path d=\"M 31.78125 66.40625 \nQ 24.171875 66.40625 20.328125 58.90625 \nQ 16.5 51.421875 16.5 36.375 \nQ 16.5 21.390625 20.328125 13.890625 \nQ 24.171875 6.390625 31.78125 6.390625 \nQ 39.453125 6.390625 43.28125 13.890625 \nQ 47.125 21.390625 47.125 36.375 \nQ 47.125 51.421875 43.28125 58.90625 \nQ 39.453125 66.40625 31.78125 66.40625 \nz\nM 31.78125 74.21875 \nQ 44.046875 74.21875 50.515625 64.515625 \nQ 56.984375 54.828125 56.984375 36.375 \nQ 56.984375 17.96875 50.515625 8.265625 \nQ 44.046875 -1.421875 31.78125 -1.421875 \nQ 19.53125 -1.421875 13.0625 8.265625 \nQ 6.59375 17.96875 6.59375 36.375 \nQ 6.59375 54.828125 13.0625 64.515625 \nQ 19.53125 74.21875 31.78125 74.21875 \nz\n\" id=\"DejaVuSans-48\"/>\n      </defs>\n      <g transform=\"translate(51.686932 239.238438)scale(0.1 -0.1)\">\n       <use xlink:href=\"#DejaVuSans-48\"/>\n      </g>\n     </g>\n    </g>\n    <g id=\"xtick_2\">\n     <g id=\"line2d_2\">\n      <g>\n       <use style=\"stroke:#000000;stroke-width:0.8;\" x=\"128.208817\" xlink:href=\"#ma9f6a4630d\" y=\"224.64\"/>\n      </g>\n     </g>\n     <g id=\"text_2\">\n      <!-- 20 -->\n      <defs>\n       <path d=\"M 19.1875 8.296875 \nL 53.609375 8.296875 \nL 53.609375 0 \nL 7.328125 0 \nL 7.328125 8.296875 \nQ 12.9375 14.109375 22.625 23.890625 \nQ 32.328125 33.6875 34.8125 36.53125 \nQ 39.546875 41.84375 41.421875 45.53125 \nQ 43.3125 49.21875 43.3125 52.78125 \nQ 43.3125 58.59375 39.234375 62.25 \nQ 35.15625 65.921875 28.609375 65.921875 \nQ 23.96875 65.921875 18.8125 64.3125 \nQ 13.671875 62.703125 7.8125 59.421875 \nL 7.8125 69.390625 \nQ 13.765625 71.78125 18.9375 73 \nQ 24.125 74.21875 28.421875 74.21875 \nQ 39.75 74.21875 46.484375 68.546875 \nQ 53.21875 62.890625 53.21875 53.421875 \nQ 53.21875 48.921875 51.53125 44.890625 \nQ 49.859375 40.875 45.40625 35.40625 \nQ 44.1875 33.984375 37.640625 27.21875 \nQ 31.109375 20.453125 19.1875 8.296875 \nz\n\" id=\"DejaVuSans-50\"/>\n      </defs>\n      <g transform=\"translate(121.846317 239.238438)scale(0.1 -0.1)\">\n       <use xlink:href=\"#DejaVuSans-50\"/>\n       <use x=\"63.623047\" xlink:href=\"#DejaVuSans-48\"/>\n      </g>\n     </g>\n    </g>\n    <g id=\"xtick_3\">\n     <g id=\"line2d_3\">\n      <g>\n       <use style=\"stroke:#000000;stroke-width:0.8;\" x=\"201.549452\" xlink:href=\"#ma9f6a4630d\" y=\"224.64\"/>\n      </g>\n     </g>\n     <g id=\"text_3\">\n      <!-- 40 -->\n      <defs>\n       <path d=\"M 37.796875 64.3125 \nL 12.890625 25.390625 \nL 37.796875 25.390625 \nz\nM 35.203125 72.90625 \nL 47.609375 72.90625 \nL 47.609375 25.390625 \nL 58.015625 25.390625 \nL 58.015625 17.1875 \nL 47.609375 17.1875 \nL 47.609375 0 \nL 37.796875 0 \nL 37.796875 17.1875 \nL 4.890625 17.1875 \nL 4.890625 26.703125 \nz\n\" id=\"DejaVuSans-52\"/>\n      </defs>\n      <g transform=\"translate(195.186952 239.238438)scale(0.1 -0.1)\">\n       <use xlink:href=\"#DejaVuSans-52\"/>\n       <use x=\"63.623047\" xlink:href=\"#DejaVuSans-48\"/>\n      </g>\n     </g>\n    </g>\n    <g id=\"xtick_4\">\n     <g id=\"line2d_4\">\n      <g>\n       <use style=\"stroke:#000000;stroke-width:0.8;\" x=\"274.890088\" xlink:href=\"#ma9f6a4630d\" y=\"224.64\"/>\n      </g>\n     </g>\n     <g id=\"text_4\">\n      <!-- 60 -->\n      <defs>\n       <path d=\"M 33.015625 40.375 \nQ 26.375 40.375 22.484375 35.828125 \nQ 18.609375 31.296875 18.609375 23.390625 \nQ 18.609375 15.53125 22.484375 10.953125 \nQ 26.375 6.390625 33.015625 6.390625 \nQ 39.65625 6.390625 43.53125 10.953125 \nQ 47.40625 15.53125 47.40625 23.390625 \nQ 47.40625 31.296875 43.53125 35.828125 \nQ 39.65625 40.375 33.015625 40.375 \nz\nM 52.59375 71.296875 \nL 52.59375 62.3125 \nQ 48.875 64.0625 45.09375 64.984375 \nQ 41.3125 65.921875 37.59375 65.921875 \nQ 27.828125 65.921875 22.671875 59.328125 \nQ 17.53125 52.734375 16.796875 39.40625 \nQ 19.671875 43.65625 24.015625 45.921875 \nQ 28.375 48.1875 33.59375 48.1875 \nQ 44.578125 48.1875 50.953125 41.515625 \nQ 57.328125 34.859375 57.328125 23.390625 \nQ 57.328125 12.15625 50.6875 5.359375 \nQ 44.046875 -1.421875 33.015625 -1.421875 \nQ 20.359375 -1.421875 13.671875 8.265625 \nQ 6.984375 17.96875 6.984375 36.375 \nQ 6.984375 53.65625 15.1875 63.9375 \nQ 23.390625 74.21875 37.203125 74.21875 \nQ 40.921875 74.21875 44.703125 73.484375 \nQ 48.484375 72.75 52.59375 71.296875 \nz\n\" id=\"DejaVuSans-54\"/>\n      </defs>\n      <g transform=\"translate(268.527588 239.238438)scale(0.1 -0.1)\">\n       <use xlink:href=\"#DejaVuSans-54\"/>\n       <use x=\"63.623047\" xlink:href=\"#DejaVuSans-48\"/>\n      </g>\n     </g>\n    </g>\n    <g id=\"xtick_5\">\n     <g id=\"line2d_5\">\n      <g>\n       <use style=\"stroke:#000000;stroke-width:0.8;\" x=\"348.230723\" xlink:href=\"#ma9f6a4630d\" y=\"224.64\"/>\n      </g>\n     </g>\n     <g id=\"text_5\">\n      <!-- 80 -->\n      <defs>\n       <path d=\"M 31.78125 34.625 \nQ 24.75 34.625 20.71875 30.859375 \nQ 16.703125 27.09375 16.703125 20.515625 \nQ 16.703125 13.921875 20.71875 10.15625 \nQ 24.75 6.390625 31.78125 6.390625 \nQ 38.8125 6.390625 42.859375 10.171875 \nQ 46.921875 13.96875 46.921875 20.515625 \nQ 46.921875 27.09375 42.890625 30.859375 \nQ 38.875 34.625 31.78125 34.625 \nz\nM 21.921875 38.8125 \nQ 15.578125 40.375 12.03125 44.71875 \nQ 8.5 49.078125 8.5 55.328125 \nQ 8.5 64.0625 14.71875 69.140625 \nQ 20.953125 74.21875 31.78125 74.21875 \nQ 42.671875 74.21875 48.875 69.140625 \nQ 55.078125 64.0625 55.078125 55.328125 \nQ 55.078125 49.078125 51.53125 44.71875 \nQ 48 40.375 41.703125 38.8125 \nQ 48.828125 37.15625 52.796875 32.3125 \nQ 56.78125 27.484375 56.78125 20.515625 \nQ 56.78125 9.90625 50.3125 4.234375 \nQ 43.84375 -1.421875 31.78125 -1.421875 \nQ 19.734375 -1.421875 13.25 4.234375 \nQ 6.78125 9.90625 6.78125 20.515625 \nQ 6.78125 27.484375 10.78125 32.3125 \nQ 14.796875 37.15625 21.921875 38.8125 \nz\nM 18.3125 54.390625 \nQ 18.3125 48.734375 21.84375 45.5625 \nQ 25.390625 42.390625 31.78125 42.390625 \nQ 38.140625 42.390625 41.71875 45.5625 \nQ 45.3125 48.734375 45.3125 54.390625 \nQ 45.3125 60.0625 41.71875 63.234375 \nQ 38.140625 66.40625 31.78125 66.40625 \nQ 25.390625 66.40625 21.84375 63.234375 \nQ 18.3125 60.0625 18.3125 54.390625 \nz\n\" id=\"DejaVuSans-56\"/>\n      </defs>\n      <g transform=\"translate(341.868223 239.238438)scale(0.1 -0.1)\">\n       <use xlink:href=\"#DejaVuSans-56\"/>\n       <use x=\"63.623047\" xlink:href=\"#DejaVuSans-48\"/>\n      </g>\n     </g>\n    </g>\n   </g>\n   <g id=\"matplotlib.axis_2\">\n    <g id=\"ytick_1\">\n     <g id=\"line2d_6\">\n      <defs>\n       <path d=\"M 0 0 \nL -3.5 0 \n\" id=\"mf0b83e201d\" style=\"stroke:#000000;stroke-width:0.8;\"/>\n      </defs>\n      <g>\n       <use style=\"stroke:#000000;stroke-width:0.8;\" x=\"39.65\" xlink:href=\"#mf0b83e201d\" y=\"224.64\"/>\n      </g>\n     </g>\n     <g id=\"text_6\">\n      <!-- 0 -->\n      <g transform=\"translate(26.2875 228.439219)scale(0.1 -0.1)\">\n       <use xlink:href=\"#DejaVuSans-48\"/>\n      </g>\n     </g>\n    </g>\n    <g id=\"ytick_2\">\n     <g id=\"line2d_7\">\n      <g>\n       <use style=\"stroke:#000000;stroke-width:0.8;\" x=\"39.65\" xlink:href=\"#mf0b83e201d\" y=\"183.510762\"/>\n      </g>\n     </g>\n     <g id=\"text_7\">\n      <!-- 1000 -->\n      <defs>\n       <path d=\"M 12.40625 8.296875 \nL 28.515625 8.296875 \nL 28.515625 63.921875 \nL 10.984375 60.40625 \nL 10.984375 69.390625 \nL 28.421875 72.90625 \nL 38.28125 72.90625 \nL 38.28125 8.296875 \nL 54.390625 8.296875 \nL 54.390625 0 \nL 12.40625 0 \nz\n\" id=\"DejaVuSans-49\"/>\n      </defs>\n      <g transform=\"translate(7.2 187.309981)scale(0.1 -0.1)\">\n       <use xlink:href=\"#DejaVuSans-49\"/>\n       <use x=\"63.623047\" xlink:href=\"#DejaVuSans-48\"/>\n       <use x=\"127.246094\" xlink:href=\"#DejaVuSans-48\"/>\n       <use x=\"190.869141\" xlink:href=\"#DejaVuSans-48\"/>\n      </g>\n     </g>\n    </g>\n    <g id=\"ytick_3\">\n     <g id=\"line2d_8\">\n      <g>\n       <use style=\"stroke:#000000;stroke-width:0.8;\" x=\"39.65\" xlink:href=\"#mf0b83e201d\" y=\"142.381524\"/>\n      </g>\n     </g>\n     <g id=\"text_8\">\n      <!-- 2000 -->\n      <g transform=\"translate(7.2 146.180742)scale(0.1 -0.1)\">\n       <use xlink:href=\"#DejaVuSans-50\"/>\n       <use x=\"63.623047\" xlink:href=\"#DejaVuSans-48\"/>\n       <use x=\"127.246094\" xlink:href=\"#DejaVuSans-48\"/>\n       <use x=\"190.869141\" xlink:href=\"#DejaVuSans-48\"/>\n      </g>\n     </g>\n    </g>\n    <g id=\"ytick_4\">\n     <g id=\"line2d_9\">\n      <g>\n       <use style=\"stroke:#000000;stroke-width:0.8;\" x=\"39.65\" xlink:href=\"#mf0b83e201d\" y=\"101.252285\"/>\n      </g>\n     </g>\n     <g id=\"text_9\">\n      <!-- 3000 -->\n      <defs>\n       <path d=\"M 40.578125 39.3125 \nQ 47.65625 37.796875 51.625 33 \nQ 55.609375 28.21875 55.609375 21.1875 \nQ 55.609375 10.40625 48.1875 4.484375 \nQ 40.765625 -1.421875 27.09375 -1.421875 \nQ 22.515625 -1.421875 17.65625 -0.515625 \nQ 12.796875 0.390625 7.625 2.203125 \nL 7.625 11.71875 \nQ 11.71875 9.328125 16.59375 8.109375 \nQ 21.484375 6.890625 26.8125 6.890625 \nQ 36.078125 6.890625 40.9375 10.546875 \nQ 45.796875 14.203125 45.796875 21.1875 \nQ 45.796875 27.640625 41.28125 31.265625 \nQ 36.765625 34.90625 28.71875 34.90625 \nL 20.21875 34.90625 \nL 20.21875 43.015625 \nL 29.109375 43.015625 \nQ 36.375 43.015625 40.234375 45.921875 \nQ 44.09375 48.828125 44.09375 54.296875 \nQ 44.09375 59.90625 40.109375 62.90625 \nQ 36.140625 65.921875 28.71875 65.921875 \nQ 24.65625 65.921875 20.015625 65.03125 \nQ 15.375 64.15625 9.8125 62.3125 \nL 9.8125 71.09375 \nQ 15.4375 72.65625 20.34375 73.4375 \nQ 25.25 74.21875 29.59375 74.21875 \nQ 40.828125 74.21875 47.359375 69.109375 \nQ 53.90625 64.015625 53.90625 55.328125 \nQ 53.90625 49.265625 50.4375 45.09375 \nQ 46.96875 40.921875 40.578125 39.3125 \nz\n\" id=\"DejaVuSans-51\"/>\n      </defs>\n      <g transform=\"translate(7.2 105.051504)scale(0.1 -0.1)\">\n       <use xlink:href=\"#DejaVuSans-51\"/>\n       <use x=\"63.623047\" xlink:href=\"#DejaVuSans-48\"/>\n       <use x=\"127.246094\" xlink:href=\"#DejaVuSans-48\"/>\n       <use x=\"190.869141\" xlink:href=\"#DejaVuSans-48\"/>\n      </g>\n     </g>\n    </g>\n    <g id=\"ytick_5\">\n     <g id=\"line2d_10\">\n      <g>\n       <use style=\"stroke:#000000;stroke-width:0.8;\" x=\"39.65\" xlink:href=\"#mf0b83e201d\" y=\"60.123047\"/>\n      </g>\n     </g>\n     <g id=\"text_10\">\n      <!-- 4000 -->\n      <g transform=\"translate(7.2 63.922266)scale(0.1 -0.1)\">\n       <use xlink:href=\"#DejaVuSans-52\"/>\n       <use x=\"63.623047\" xlink:href=\"#DejaVuSans-48\"/>\n       <use x=\"127.246094\" xlink:href=\"#DejaVuSans-48\"/>\n       <use x=\"190.869141\" xlink:href=\"#DejaVuSans-48\"/>\n      </g>\n     </g>\n    </g>\n    <g id=\"ytick_6\">\n     <g id=\"line2d_11\">\n      <g>\n       <use style=\"stroke:#000000;stroke-width:0.8;\" x=\"39.65\" xlink:href=\"#mf0b83e201d\" y=\"18.993809\"/>\n      </g>\n     </g>\n     <g id=\"text_11\">\n      <!-- 5000 -->\n      <defs>\n       <path d=\"M 10.796875 72.90625 \nL 49.515625 72.90625 \nL 49.515625 64.59375 \nL 19.828125 64.59375 \nL 19.828125 46.734375 \nQ 21.96875 47.46875 24.109375 47.828125 \nQ 26.265625 48.1875 28.421875 48.1875 \nQ 40.625 48.1875 47.75 41.5 \nQ 54.890625 34.8125 54.890625 23.390625 \nQ 54.890625 11.625 47.5625 5.09375 \nQ 40.234375 -1.421875 26.90625 -1.421875 \nQ 22.3125 -1.421875 17.546875 -0.640625 \nQ 12.796875 0.140625 7.71875 1.703125 \nL 7.71875 11.625 \nQ 12.109375 9.234375 16.796875 8.0625 \nQ 21.484375 6.890625 26.703125 6.890625 \nQ 35.15625 6.890625 40.078125 11.328125 \nQ 45.015625 15.765625 45.015625 23.390625 \nQ 45.015625 31 40.078125 35.4375 \nQ 35.15625 39.890625 26.703125 39.890625 \nQ 22.75 39.890625 18.8125 39.015625 \nQ 14.890625 38.140625 10.796875 36.28125 \nz\n\" id=\"DejaVuSans-53\"/>\n      </defs>\n      <g transform=\"translate(7.2 22.793028)scale(0.1 -0.1)\">\n       <use xlink:href=\"#DejaVuSans-53\"/>\n       <use x=\"63.623047\" xlink:href=\"#DejaVuSans-48\"/>\n       <use x=\"127.246094\" xlink:href=\"#DejaVuSans-48\"/>\n       <use x=\"190.869141\" xlink:href=\"#DejaVuSans-48\"/>\n      </g>\n     </g>\n    </g>\n   </g>\n   <g id=\"patch_87\">\n    <path d=\"M 39.65 224.64 \nL 39.65 7.2 \n\" style=\"fill:none;stroke:#000000;stroke-linecap:square;stroke-linejoin:miter;stroke-width:0.8;\"/>\n   </g>\n   <g id=\"patch_88\">\n    <path d=\"M 374.45 224.64 \nL 374.45 7.2 \n\" style=\"fill:none;stroke:#000000;stroke-linecap:square;stroke-linejoin:miter;stroke-width:0.8;\"/>\n   </g>\n   <g id=\"patch_89\">\n    <path d=\"M 39.65 224.64 \nL 374.45 224.64 \n\" style=\"fill:none;stroke:#000000;stroke-linecap:square;stroke-linejoin:miter;stroke-width:0.8;\"/>\n   </g>\n   <g id=\"patch_90\">\n    <path d=\"M 39.65 7.2 \nL 374.45 7.2 \n\" style=\"fill:none;stroke:#000000;stroke-linecap:square;stroke-linejoin:miter;stroke-width:0.8;\"/>\n   </g>\n  </g>\n </g>\n <defs>\n  <clipPath id=\"pd0e3ced01b\">\n   <rect height=\"217.44\" width=\"334.8\" x=\"39.65\" y=\"7.2\"/>\n  </clipPath>\n </defs>\n</svg>\n",
      "image/png": "[encoded data removed]"
     },
     "metadata": {
      "needs_background": "light"
     }
    }
   ],
   "source": [
    "plt.hist(items['item_category_id'],bins=items['item_category_id'].nunique());"
   ]
  },
  {
   "cell_type": "markdown",
   "metadata": {},
   "source": [
    "## Shops"
   ]
  },
  {
   "cell_type": "code",
   "execution_count": 16,
   "metadata": {},
   "outputs": [
    {
     "output_type": "stream",
     "name": "stdout",
     "text": "SHAPE:\n(60, 2)\n\n\n\nSAMPLE:\n                        shop_name  shop_id\n0   !Якутск Орджоникидзе, 56 фран        0\n1   !Якутск ТЦ \"Центральный\" фран        1\n2                Адыгея ТЦ \"Мега\"        2\n3  Балашиха ТРК \"Октябрь-Киномир\"        3\n4        Волжский ТЦ \"Волга Молл\"        4\n\n\n\n#UNIQUE:\nshop_name    60\nshop_id      60\ndtype: int64\n\n\n\nMISSING VALUES:\nshop_name    0\nshop_id      0\ndtype: int64\n\n\n\nDESCRIPTIVES:\n         shop_id\ncount  60.000000\nmean   29.500000\nstd    17.464249\nmin     0.000000\n25%    14.750000\n50%    29.500000\n75%    44.250000\nmax    59.000000\n"
    }
   ],
   "source": [
    "get_descriptive_stats(shops)"
   ]
  },
  {
   "cell_type": "code",
   "execution_count": 17,
   "metadata": {},
   "outputs": [
    {
     "output_type": "execute_result",
     "data": {
      "text/plain": "                                          shop_name  shop_id\n0                     !Якутск Орджоникидзе, 56 фран        0\n1                     !Якутск ТЦ \"Центральный\" фран        1\n2                                  Адыгея ТЦ \"Мега\"        2\n3                    Балашиха ТРК \"Октябрь-Киномир\"        3\n4                          Волжский ТЦ \"Волга Молл\"        4\n5                            Вологда ТРЦ \"Мармелад\"        5\n6                        Воронеж (Плехановская, 13)        6\n7                            Воронеж ТРЦ \"Максимир\"        7\n8                      Воронеж ТРЦ Сити-Парк \"Град\"        8\n9                                 Выездная Торговля        9\n10                       Жуковский ул. Чкалова 39м?       10\n11                       Жуковский ул. Чкалова 39м²       11\n12                              Интернет-магазин ЧС       12\n13                              Казань ТЦ \"Бехетле\"       13\n14                          Казань ТЦ \"ПаркХаус\" II       14\n15                             Калуга ТРЦ \"XXI век\"       15\n16                                 Коломна ТЦ \"Рио\"       16\n17                    Красноярск ТЦ \"Взлетка Плаза\"       17\n18                             Красноярск ТЦ \"Июнь\"       18\n19                            Курск ТЦ \"Пушкинский\"       19\n20                              Москва \"Распродажа\"       20\n21                           Москва МТРЦ \"Афи Молл\"       21\n22                               Москва Магазин С21       22\n23                 Москва ТК \"Буденовский\" (пав.А2)       23\n24                 Москва ТК \"Буденовский\" (пав.К7)       24\n25                              Москва ТРК \"Атриум\"       25\n26                      Москва ТЦ \"Ареал\" (Беляево)       26\n27                   Москва ТЦ \"МЕГА Белая Дача II\"       27\n28                  Москва ТЦ \"МЕГА Теплый Стан\" II       28\n29               Москва ТЦ \"Новый век\" (Новокосино)       29\n30                           Москва ТЦ \"Перловский\"       30\n31                          Москва ТЦ \"Семеновский\"       31\n32                       Москва ТЦ \"Серебряный Дом\"       32\n33                                Мытищи ТРК \"XL-3\"       33\n34                             Н.Новгород ТРЦ \"РИО\"       34\n35                      Н.Новгород ТРЦ \"Фантастика\"       35\n36            Новосибирск ТРЦ \"Галерея Новосибирск\"       36\n37                            Новосибирск ТЦ \"Мега\"       37\n38                                   Омск ТЦ \"Мега\"       38\n39            РостовНаДону ТРК \"Мегацентр Горизонт\"       39\n40  РостовНаДону ТРК \"Мегацентр Горизонт\" Островной       40\n41                           РостовНаДону ТЦ \"Мега\"       41\n42                           СПб ТК \"Невский Центр\"       42\n43                                  СПб ТК \"Сенная\"       43\n44                              Самара ТЦ \"Мелодия\"       44\n45                             Самара ТЦ \"ПаркХаус\"       45\n46                            Сергиев Посад ТЦ \"7Я\"       46\n47                           Сургут ТРЦ \"Сити Молл\"       47\n48                     Томск ТРЦ \"Изумрудный Город\"       48\n49                            Тюмень ТРЦ \"Кристалл\"       49\n50                               Тюмень ТЦ \"Гудвин\"       50\n51                        Тюмень ТЦ \"Зеленый Берег\"       51\n52                             Уфа ТК \"Центральный\"       52\n53                                 Уфа ТЦ \"Семья\" 2       53\n54                                  Химки ТЦ \"Мега\"       54\n55                         Цифровой склад 1С-Онлайн       55\n56                             Чехов ТРЦ \"Карнавал\"       56\n57                          Якутск Орджоникидзе, 56       57\n58                          Якутск ТЦ \"Центральный\"       58\n59                           Ярославль ТЦ \"Альтаир\"       59",
      "text/html": "<div>\n<style scoped>\n    .dataframe tbody tr th:only-of-type {\n        vertical-align: middle;\n    }\n\n    .dataframe tbody tr th {\n        vertical-align: top;\n    }\n\n    .dataframe thead th {\n        text-align: right;\n    }\n</style>\n<table border=\"1\" class=\"dataframe\">\n  <thead>\n    <tr style=\"text-align: right;\">\n      <th></th>\n      <th>shop_name</th>\n      <th>shop_id</th>\n    </tr>\n  </thead>\n  <tbody>\n    <tr>\n      <th>0</th>\n      <td>!Якутск Орджоникидзе, 56 фран</td>\n      <td>0</td>\n    </tr>\n    <tr>\n      <th>1</th>\n      <td>!Якутск ТЦ \"Центральный\" фран</td>\n      <td>1</td>\n    </tr>\n    <tr>\n      <th>2</th>\n      <td>Адыгея ТЦ \"Мега\"</td>\n      <td>2</td>\n    </tr>\n    <tr>\n      <th>3</th>\n      <td>Балашиха ТРК \"Октябрь-Киномир\"</td>\n      <td>3</td>\n    </tr>\n    <tr>\n      <th>4</th>\n      <td>Волжский ТЦ \"Волга Молл\"</td>\n      <td>4</td>\n    </tr>\n    <tr>\n      <th>5</th>\n      <td>Вологда ТРЦ \"Мармелад\"</td>\n      <td>5</td>\n    </tr>\n    <tr>\n      <th>6</th>\n      <td>Воронеж (Плехановская, 13)</td>\n      <td>6</td>\n    </tr>\n    <tr>\n      <th>7</th>\n      <td>Воронеж ТРЦ \"Максимир\"</td>\n      <td>7</td>\n    </tr>\n    <tr>\n      <th>8</th>\n      <td>Воронеж ТРЦ Сити-Парк \"Град\"</td>\n      <td>8</td>\n    </tr>\n    <tr>\n      <th>9</th>\n      <td>Выездная Торговля</td>\n      <td>9</td>\n    </tr>\n    <tr>\n      <th>10</th>\n      <td>Жуковский ул. Чкалова 39м?</td>\n      <td>10</td>\n    </tr>\n    <tr>\n      <th>11</th>\n      <td>Жуковский ул. Чкалова 39м²</td>\n      <td>11</td>\n    </tr>\n    <tr>\n      <th>12</th>\n      <td>Интернет-магазин ЧС</td>\n      <td>12</td>\n    </tr>\n    <tr>\n      <th>13</th>\n      <td>Казань ТЦ \"Бехетле\"</td>\n      <td>13</td>\n    </tr>\n    <tr>\n      <th>14</th>\n      <td>Казань ТЦ \"ПаркХаус\" II</td>\n      <td>14</td>\n    </tr>\n    <tr>\n      <th>15</th>\n      <td>Калуга ТРЦ \"XXI век\"</td>\n      <td>15</td>\n    </tr>\n    <tr>\n      <th>16</th>\n      <td>Коломна ТЦ \"Рио\"</td>\n      <td>16</td>\n    </tr>\n    <tr>\n      <th>17</th>\n      <td>Красноярск ТЦ \"Взлетка Плаза\"</td>\n      <td>17</td>\n    </tr>\n    <tr>\n      <th>18</th>\n      <td>Красноярск ТЦ \"Июнь\"</td>\n      <td>18</td>\n    </tr>\n    <tr>\n      <th>19</th>\n      <td>Курск ТЦ \"Пушкинский\"</td>\n      <td>19</td>\n    </tr>\n    <tr>\n      <th>20</th>\n      <td>Москва \"Распродажа\"</td>\n      <td>20</td>\n    </tr>\n    <tr>\n      <th>21</th>\n      <td>Москва МТРЦ \"Афи Молл\"</td>\n      <td>21</td>\n    </tr>\n    <tr>\n      <th>22</th>\n      <td>Москва Магазин С21</td>\n      <td>22</td>\n    </tr>\n    <tr>\n      <th>23</th>\n      <td>Москва ТК \"Буденовский\" (пав.А2)</td>\n      <td>23</td>\n    </tr>\n    <tr>\n      <th>24</th>\n      <td>Москва ТК \"Буденовский\" (пав.К7)</td>\n      <td>24</td>\n    </tr>\n    <tr>\n      <th>25</th>\n      <td>Москва ТРК \"Атриум\"</td>\n      <td>25</td>\n    </tr>\n    <tr>\n      <th>26</th>\n      <td>Москва ТЦ \"Ареал\" (Беляево)</td>\n      <td>26</td>\n    </tr>\n    <tr>\n      <th>27</th>\n      <td>Москва ТЦ \"МЕГА Белая Дача II\"</td>\n      <td>27</td>\n    </tr>\n    <tr>\n      <th>28</th>\n      <td>Москва ТЦ \"МЕГА Теплый Стан\" II</td>\n      <td>28</td>\n    </tr>\n    <tr>\n      <th>29</th>\n      <td>Москва ТЦ \"Новый век\" (Новокосино)</td>\n      <td>29</td>\n    </tr>\n    <tr>\n      <th>30</th>\n      <td>Москва ТЦ \"Перловский\"</td>\n      <td>30</td>\n    </tr>\n    <tr>\n      <th>31</th>\n      <td>Москва ТЦ \"Семеновский\"</td>\n      <td>31</td>\n    </tr>\n    <tr>\n      <th>32</th>\n      <td>Москва ТЦ \"Серебряный Дом\"</td>\n      <td>32</td>\n    </tr>\n    <tr>\n      <th>33</th>\n      <td>Мытищи ТРК \"XL-3\"</td>\n      <td>33</td>\n    </tr>\n    <tr>\n      <th>34</th>\n      <td>Н.Новгород ТРЦ \"РИО\"</td>\n      <td>34</td>\n    </tr>\n    <tr>\n      <th>35</th>\n      <td>Н.Новгород ТРЦ \"Фантастика\"</td>\n      <td>35</td>\n    </tr>\n    <tr>\n      <th>36</th>\n      <td>Новосибирск ТРЦ \"Галерея Новосибирск\"</td>\n      <td>36</td>\n    </tr>\n    <tr>\n      <th>37</th>\n      <td>Новосибирск ТЦ \"Мега\"</td>\n      <td>37</td>\n    </tr>\n    <tr>\n      <th>38</th>\n      <td>Омск ТЦ \"Мега\"</td>\n      <td>38</td>\n    </tr>\n    <tr>\n      <th>39</th>\n      <td>РостовНаДону ТРК \"Мегацентр Горизонт\"</td>\n      <td>39</td>\n    </tr>\n    <tr>\n      <th>40</th>\n      <td>РостовНаДону ТРК \"Мегацентр Горизонт\" Островной</td>\n      <td>40</td>\n    </tr>\n    <tr>\n      <th>41</th>\n      <td>РостовНаДону ТЦ \"Мега\"</td>\n      <td>41</td>\n    </tr>\n    <tr>\n      <th>42</th>\n      <td>СПб ТК \"Невский Центр\"</td>\n      <td>42</td>\n    </tr>\n    <tr>\n      <th>43</th>\n      <td>СПб ТК \"Сенная\"</td>\n      <td>43</td>\n    </tr>\n    <tr>\n      <th>44</th>\n      <td>Самара ТЦ \"Мелодия\"</td>\n      <td>44</td>\n    </tr>\n    <tr>\n      <th>45</th>\n      <td>Самара ТЦ \"ПаркХаус\"</td>\n      <td>45</td>\n    </tr>\n    <tr>\n      <th>46</th>\n      <td>Сергиев Посад ТЦ \"7Я\"</td>\n      <td>46</td>\n    </tr>\n    <tr>\n      <th>47</th>\n      <td>Сургут ТРЦ \"Сити Молл\"</td>\n      <td>47</td>\n    </tr>\n    <tr>\n      <th>48</th>\n      <td>Томск ТРЦ \"Изумрудный Город\"</td>\n      <td>48</td>\n    </tr>\n    <tr>\n      <th>49</th>\n      <td>Тюмень ТРЦ \"Кристалл\"</td>\n      <td>49</td>\n    </tr>\n    <tr>\n      <th>50</th>\n      <td>Тюмень ТЦ \"Гудвин\"</td>\n      <td>50</td>\n    </tr>\n    <tr>\n      <th>51</th>\n      <td>Тюмень ТЦ \"Зеленый Берег\"</td>\n      <td>51</td>\n    </tr>\n    <tr>\n      <th>52</th>\n      <td>Уфа ТК \"Центральный\"</td>\n      <td>52</td>\n    </tr>\n    <tr>\n      <th>53</th>\n      <td>Уфа ТЦ \"Семья\" 2</td>\n      <td>53</td>\n    </tr>\n    <tr>\n      <th>54</th>\n      <td>Химки ТЦ \"Мега\"</td>\n      <td>54</td>\n    </tr>\n    <tr>\n      <th>55</th>\n      <td>Цифровой склад 1С-Онлайн</td>\n      <td>55</td>\n    </tr>\n    <tr>\n      <th>56</th>\n      <td>Чехов ТРЦ \"Карнавал\"</td>\n      <td>56</td>\n    </tr>\n    <tr>\n      <th>57</th>\n      <td>Якутск Орджоникидзе, 56</td>\n      <td>57</td>\n    </tr>\n    <tr>\n      <th>58</th>\n      <td>Якутск ТЦ \"Центральный\"</td>\n      <td>58</td>\n    </tr>\n    <tr>\n      <th>59</th>\n      <td>Ярославль ТЦ \"Альтаир\"</td>\n      <td>59</td>\n    </tr>\n  </tbody>\n</table>\n</div>"
     },
     "metadata": {},
     "execution_count": 17
    }
   ],
   "source": [
    "shops.head(100)"
   ]
  },
  {
   "cell_type": "markdown",
   "metadata": {},
   "source": [
    "* Google tells me 'Москва' means 'Moscow', so probably the first word is the city, we can extract this as a feature.\n"
   ]
  },
  {
   "cell_type": "markdown",
   "metadata": {},
   "source": [
    "## Item Categories"
   ]
  },
  {
   "cell_type": "code",
   "execution_count": 18,
   "metadata": {},
   "outputs": [
    {
     "output_type": "stream",
     "name": "stdout",
     "text": "SHAPE:\n(84, 2)\n\n\n\nSAMPLE:\n        item_category_name  item_category_id\n0  PC - Гарнитуры/Наушники                 0\n1         Аксессуары - PS2                 1\n2         Аксессуары - PS3                 2\n3         Аксессуары - PS4                 3\n4         Аксессуары - PSP                 4\n\n\n\n#UNIQUE:\nitem_category_name    84\nitem_category_id      84\ndtype: int64\n\n\n\nMISSING VALUES:\nitem_category_name    0\nitem_category_id      0\ndtype: int64\n\n\n\nDESCRIPTIVES:\n       item_category_id\ncount         84.000000\nmean          41.500000\nstd           24.392622\nmin            0.000000\n25%           20.750000\n50%           41.500000\n75%           62.250000\nmax           83.000000\n"
    }
   ],
   "source": [
    "get_descriptive_stats(item_categories)"
   ]
  },
  {
   "cell_type": "code",
   "execution_count": 19,
   "metadata": {},
   "outputs": [
    {
     "output_type": "execute_result",
     "data": {
      "text/plain": "                   item_category_name  item_category_id\n0             PC - Гарнитуры/Наушники                 0\n1                    Аксессуары - PS2                 1\n2                    Аксессуары - PS3                 2\n3                    Аксессуары - PS4                 3\n4                    Аксессуары - PSP                 4\n5                 Аксессуары - PSVita                 5\n6               Аксессуары - XBOX 360                 6\n7               Аксессуары - XBOX ONE                 7\n8                      Билеты (Цифра)                 8\n9                     Доставка товара                 9\n10              Игровые консоли - PS2                10\n11              Игровые консоли - PS3                11\n12              Игровые консоли - PS4                12\n13              Игровые консоли - PSP                13\n14           Игровые консоли - PSVita                14\n15         Игровые консоли - XBOX 360                15\n16         Игровые консоли - XBOX ONE                16\n17           Игровые консоли - Прочие                17\n18                         Игры - PS2                18\n19                         Игры - PS3                19\n20                         Игры - PS4                20\n21                         Игры - PSP                21\n22                      Игры - PSVita                22\n23                    Игры - XBOX 360                23\n24                    Игры - XBOX ONE                24\n25          Игры - Аксессуары для игр                25\n26               Игры Android - Цифра                26\n27                   Игры MAC - Цифра                27\n28   Игры PC - Дополнительные издания                28\n29    Игры PC - Коллекционные издания                29\n30      Игры PC - Стандартные издания                30\n31                    Игры PC - Цифра                31\n32  Карты оплаты (Кино, Музыка, Игры)                32\n33               Карты оплаты - Live!                33\n34       Карты оплаты - Live! (Цифра)                34\n35                 Карты оплаты - PSN                35\n36     Карты оплаты - Windows (Цифра)                36\n37                     Кино - Blu-Ray                37\n38                  Кино - Blu-Ray 3D                38\n39                  Кино - Blu-Ray 4K                39\n40                         Кино - DVD                40\n41               Кино - Коллекционное                41\n42      Книги - Артбуки, энциклопедии                42\n43                 Книги - Аудиокниги                43\n44         Книги - Аудиокниги (Цифра)                44\n45              Книги - Аудиокниги 1С                45\n46          Книги - Бизнес литература                46\n47             Книги - Комиксы, манга                47\n48    Книги - Компьютерная литература                48\n49  Книги - Методические материалы 1С                49",
      "text/html": "<div>\n<style scoped>\n    .dataframe tbody tr th:only-of-type {\n        vertical-align: middle;\n    }\n\n    .dataframe tbody tr th {\n        vertical-align: top;\n    }\n\n    .dataframe thead th {\n        text-align: right;\n    }\n</style>\n<table border=\"1\" class=\"dataframe\">\n  <thead>\n    <tr style=\"text-align: right;\">\n      <th></th>\n      <th>item_category_name</th>\n      <th>item_category_id</th>\n    </tr>\n  </thead>\n  <tbody>\n    <tr>\n      <th>0</th>\n      <td>PC - Гарнитуры/Наушники</td>\n      <td>0</td>\n    </tr>\n    <tr>\n      <th>1</th>\n      <td>Аксессуары - PS2</td>\n      <td>1</td>\n    </tr>\n    <tr>\n      <th>2</th>\n      <td>Аксессуары - PS3</td>\n      <td>2</td>\n    </tr>\n    <tr>\n      <th>3</th>\n      <td>Аксессуары - PS4</td>\n      <td>3</td>\n    </tr>\n    <tr>\n      <th>4</th>\n      <td>Аксессуары - PSP</td>\n      <td>4</td>\n    </tr>\n    <tr>\n      <th>5</th>\n      <td>Аксессуары - PSVita</td>\n      <td>5</td>\n    </tr>\n    <tr>\n      <th>6</th>\n      <td>Аксессуары - XBOX 360</td>\n      <td>6</td>\n    </tr>\n    <tr>\n      <th>7</th>\n      <td>Аксессуары - XBOX ONE</td>\n      <td>7</td>\n    </tr>\n    <tr>\n      <th>8</th>\n      <td>Билеты (Цифра)</td>\n      <td>8</td>\n    </tr>\n    <tr>\n      <th>9</th>\n      <td>Доставка товара</td>\n      <td>9</td>\n    </tr>\n    <tr>\n      <th>10</th>\n      <td>Игровые консоли - PS2</td>\n      <td>10</td>\n    </tr>\n    <tr>\n      <th>11</th>\n      <td>Игровые консоли - PS3</td>\n      <td>11</td>\n    </tr>\n    <tr>\n      <th>12</th>\n      <td>Игровые консоли - PS4</td>\n      <td>12</td>\n    </tr>\n    <tr>\n      <th>13</th>\n      <td>Игровые консоли - PSP</td>\n      <td>13</td>\n    </tr>\n    <tr>\n      <th>14</th>\n      <td>Игровые консоли - PSVita</td>\n      <td>14</td>\n    </tr>\n    <tr>\n      <th>15</th>\n      <td>Игровые консоли - XBOX 360</td>\n      <td>15</td>\n    </tr>\n    <tr>\n      <th>16</th>\n      <td>Игровые консоли - XBOX ONE</td>\n      <td>16</td>\n    </tr>\n    <tr>\n      <th>17</th>\n      <td>Игровые консоли - Прочие</td>\n      <td>17</td>\n    </tr>\n    <tr>\n      <th>18</th>\n      <td>Игры - PS2</td>\n      <td>18</td>\n    </tr>\n    <tr>\n      <th>19</th>\n      <td>Игры - PS3</td>\n      <td>19</td>\n    </tr>\n    <tr>\n      <th>20</th>\n      <td>Игры - PS4</td>\n      <td>20</td>\n    </tr>\n    <tr>\n      <th>21</th>\n      <td>Игры - PSP</td>\n      <td>21</td>\n    </tr>\n    <tr>\n      <th>22</th>\n      <td>Игры - PSVita</td>\n      <td>22</td>\n    </tr>\n    <tr>\n      <th>23</th>\n      <td>Игры - XBOX 360</td>\n      <td>23</td>\n    </tr>\n    <tr>\n      <th>24</th>\n      <td>Игры - XBOX ONE</td>\n      <td>24</td>\n    </tr>\n    <tr>\n      <th>25</th>\n      <td>Игры - Аксессуары для игр</td>\n      <td>25</td>\n    </tr>\n    <tr>\n      <th>26</th>\n      <td>Игры Android - Цифра</td>\n      <td>26</td>\n    </tr>\n    <tr>\n      <th>27</th>\n      <td>Игры MAC - Цифра</td>\n      <td>27</td>\n    </tr>\n    <tr>\n      <th>28</th>\n      <td>Игры PC - Дополнительные издания</td>\n      <td>28</td>\n    </tr>\n    <tr>\n      <th>29</th>\n      <td>Игры PC - Коллекционные издания</td>\n      <td>29</td>\n    </tr>\n    <tr>\n      <th>30</th>\n      <td>Игры PC - Стандартные издания</td>\n      <td>30</td>\n    </tr>\n    <tr>\n      <th>31</th>\n      <td>Игры PC - Цифра</td>\n      <td>31</td>\n    </tr>\n    <tr>\n      <th>32</th>\n      <td>Карты оплаты (Кино, Музыка, Игры)</td>\n      <td>32</td>\n    </tr>\n    <tr>\n      <th>33</th>\n      <td>Карты оплаты - Live!</td>\n      <td>33</td>\n    </tr>\n    <tr>\n      <th>34</th>\n      <td>Карты оплаты - Live! (Цифра)</td>\n      <td>34</td>\n    </tr>\n    <tr>\n      <th>35</th>\n      <td>Карты оплаты - PSN</td>\n      <td>35</td>\n    </tr>\n    <tr>\n      <th>36</th>\n      <td>Карты оплаты - Windows (Цифра)</td>\n      <td>36</td>\n    </tr>\n    <tr>\n      <th>37</th>\n      <td>Кино - Blu-Ray</td>\n      <td>37</td>\n    </tr>\n    <tr>\n      <th>38</th>\n      <td>Кино - Blu-Ray 3D</td>\n      <td>38</td>\n    </tr>\n    <tr>\n      <th>39</th>\n      <td>Кино - Blu-Ray 4K</td>\n      <td>39</td>\n    </tr>\n    <tr>\n      <th>40</th>\n      <td>Кино - DVD</td>\n      <td>40</td>\n    </tr>\n    <tr>\n      <th>41</th>\n      <td>Кино - Коллекционное</td>\n      <td>41</td>\n    </tr>\n    <tr>\n      <th>42</th>\n      <td>Книги - Артбуки, энциклопедии</td>\n      <td>42</td>\n    </tr>\n    <tr>\n      <th>43</th>\n      <td>Книги - Аудиокниги</td>\n      <td>43</td>\n    </tr>\n    <tr>\n      <th>44</th>\n      <td>Книги - Аудиокниги (Цифра)</td>\n      <td>44</td>\n    </tr>\n    <tr>\n      <th>45</th>\n      <td>Книги - Аудиокниги 1С</td>\n      <td>45</td>\n    </tr>\n    <tr>\n      <th>46</th>\n      <td>Книги - Бизнес литература</td>\n      <td>46</td>\n    </tr>\n    <tr>\n      <th>47</th>\n      <td>Книги - Комиксы, манга</td>\n      <td>47</td>\n    </tr>\n    <tr>\n      <th>48</th>\n      <td>Книги - Компьютерная литература</td>\n      <td>48</td>\n    </tr>\n    <tr>\n      <th>49</th>\n      <td>Книги - Методические материалы 1С</td>\n      <td>49</td>\n    </tr>\n  </tbody>\n</table>\n</div>"
     },
     "metadata": {},
     "execution_count": 19
    }
   ],
   "source": [
    "item_categories.head(50)"
   ]
  },
  {
   "cell_type": "markdown",
   "metadata": {},
   "source": [
    "We can extract a few things here:\n",
    "* There seems to be a lot of information about the device, for example 'PC' or 'PSN'.\n",
    "* There are also more broader categories hidden here, for example 'Кино' means 'film', so all categories containing 'Кино' are about film sales."
   ]
  },
  {
   "cell_type": "markdown",
   "metadata": {},
   "source": [
    "# Data Leakage"
   ]
  },
  {
   "cell_type": "markdown",
   "metadata": {},
   "source": [
    "Data leakage in this case could happen if information about the test set is present in the training data. However the train and test set in this case are strictly split on time, where the training set stops in october 2015 (and we need to predict for November 2015):"
   ]
  },
  {
   "cell_type": "code",
   "execution_count": 34,
   "metadata": {},
   "outputs": [
    {
     "output_type": "execute_result",
     "data": {
      "text/plain": "'2015-10'"
     },
     "metadata": {},
     "execution_count": 34
    }
   ],
   "source": [
    "sales_train['year_month'] = sales_train['year'].astype(str) + '-' + sales_train['month'].astype(str)\n",
    "sales_train.year_month.max()"
   ]
  },
  {
   "cell_type": "markdown",
   "metadata": {},
   "source": [
    "However what could happen is that some of the shops are closed or some of the products are not being sold anymore, in which case the future sales of the shop/item will be 0. To estimate if this happens let's look at the last time a shop sold any item or the last time a specific item was sold. "
   ]
  },
  {
   "cell_type": "code",
   "execution_count": 21,
   "metadata": {},
   "outputs": [
    {
     "output_type": "execute_result",
     "data": {
      "text/plain": "array([23, 27, 29,  0,  1,  8, 13, 30, 32, 54, 43, 51, 17, 40, 33, 11])"
     },
     "metadata": {},
     "execution_count": 21
    }
   ],
   "source": [
    "closed_shops = sales_train[sales_train.groupby('shop_id')['year_month'].transform('max')<'2015-10'].shop_id.unique()\n",
    "closed_shops"
   ]
  },
  {
   "cell_type": "markdown",
   "metadata": {},
   "source": [
    "It seems a couple of shops haven't sold anything in a few years! So they are most likely closed. However this is only directly useful if we need to predict stuff for those shops. Let's see which shops are in the test set:"
   ]
  },
  {
   "cell_type": "code",
   "execution_count": 22,
   "metadata": {},
   "outputs": [
    {
     "output_type": "execute_result",
     "data": {
      "text/plain": "set()"
     },
     "metadata": {},
     "execution_count": 22
    }
   ],
   "source": [
    "set(test.shop_id.unique()).intersection(closed_shops)"
   ]
  },
  {
   "cell_type": "markdown",
   "metadata": {},
   "source": [
    "No shops are closed in the test set, so we can't use this information. How about the items?"
   ]
  },
  {
   "cell_type": "code",
   "execution_count": 44,
   "metadata": {},
   "outputs": [
    {
     "output_type": "execute_result",
     "data": {
      "text/plain": "array([2554, 2565, 2572, ..., 5696, 5705, 6381])"
     },
     "metadata": {},
     "execution_count": 44
    }
   ],
   "source": [
    "closed_items = sales_train[sales_train.groupby('item_id')['year_month'].transform('max')<'2014-10'].item_id.unique()\n",
    "closed_items"
   ]
  },
  {
   "cell_type": "code",
   "execution_count": 45,
   "metadata": {},
   "outputs": [],
   "source": [
    "overlap = set(test.item_id.unique()).intersection(closed_items)"
   ]
  },
  {
   "cell_type": "markdown",
   "metadata": {},
   "source": [
    "We have some items that were not sold after 2014-10 but appear in the test set! I'm looking further back then in the case of shops since we can imagine every shop to have at lesat 1 sale in a month but for items it could esaily happen that some months no sales for a particular item were made. Let's say if the item hasn't been sold in a year (hence the 2014-10) it's most likely not going to be sold as well in 2015-11. Let's have a look to confirm we did it correctly."
   ]
  },
  {
   "cell_type": "code",
   "execution_count": 47,
   "metadata": {
    "tags": [
     "outputPrepend",
     "outputPrepend"
    ]
   },
   "outputs": [
    {
     "output_type": "stream",
     "name": "stdout",
     "text": "   1.0\n2014-02              2.0\n2014-03              1.0\n2014-04              1.0\n9800\n            item_cnt_day\nyear_month              \n2013-01             23.0\n2013-02             29.0\n2013-03             29.0\n2013-04             14.0\n2013-05              9.0\n2013-06              8.0\n2013-07             12.0\n2013-08             10.0\n2013-09             15.0\n2013-10              5.0\n2013-11              5.0\n2013-12              2.0\n2014-01              6.0\n2014-02              2.0\n2014-04              2.0\n2014-05              1.0\n88\n            item_cnt_day\nyear_month              \n2013-01              7.0\n2013-02              7.0\n2013-03              4.0\n2013-04              4.0\n2013-05              1.0\n2013-06              3.0\n2013-07              4.0\n2013-09              1.0\n2013-10              1.0\n2013-11              2.0\n2013-12              4.0\n2014-01              1.0\n2014-02              1.0\n2014-03              1.0\n2014-04              1.0\n2014-07              1.0\n16986\n            item_cnt_day\nyear_month              \n2013-01             13.0\n2013-02              4.0\n2013-03              9.0\n2013-04              2.0\n2013-05              6.0\n2013-06              3.0\n2013-07             12.0\n2013-08             15.0\n2013-09             82.0\n2013-10             33.0\n2013-11             22.0\n2013-12             28.0\n2014-01             10.0\n2014-02              3.0\n2014-03              4.0\n2014-04              1.0\n2014-05              1.0\n2014-06              3.0\n15451\n            item_cnt_day\nyear_month              \n2013-08              1.0\n2014-02              1.0\n2014-06              1.0\n2014-08              1.0\n8287\n            item_cnt_day\nyear_month              \n2013-01              4.0\n2013-02              1.0\n2013-03              3.0\n2013-04              4.0\n2013-05              2.0\n2013-06              2.0\n2013-07              1.0\n2013-08              2.0\n2013-10              1.0\n2013-11              1.0\n22007\n            item_cnt_day\nyear_month              \n2014-03              1.0\n2014-05              1.0\n2014-06              3.0\n2014-08              2.0\n22008\n            item_cnt_day\nyear_month              \n2014-03              1.0\n2014-05              2.0\n2014-06              2.0\n2014-08              2.0\n2014-09              1.0\n663\n            item_cnt_day\nyear_month              \n2013-09              1.0\n2014-03              1.0\n2014-06              1.0\n676\n            item_cnt_day\nyear_month              \n2013-05              1.0\n2013-09              1.0\n2014-02              1.0\n2014-03              1.0\n19110\n            item_cnt_day\nyear_month              \n2013-01              5.0\n2013-02              6.0\n2013-03              1.0\n2013-04              3.0\n2013-05              1.0\n2013-06              1.0\n2013-07              2.0\n2013-08              1.0\n2013-09              3.0\n2013-10              1.0\n2013-11              6.0\n2014-01              2.0\n2014-03              1.0\n2014-04              1.0\n2014-07              1.0\n2014-09              1.0\n680\n            item_cnt_day\nyear_month              \n2013-07              1.0\n2013-09              1.0\n2013-11              1.0\n2014-03              1.0\n2014-07              2.0\n2014-09              1.0\n11947\n            item_cnt_day\nyear_month              \n2013-01             13.0\n2013-02              7.0\n2013-03             11.0\n2013-04              7.0\n2013-05              5.0\n2013-06              8.0\n2013-07             10.0\n2013-08             10.0\n2013-09              8.0\n2013-10              7.0\n2013-11              6.0\n2013-12              4.0\n2014-01              3.0\n2014-02              1.0\n2014-03              1.0\n2014-04              3.0\n2014-05              2.0\n2014-06              1.0\n2014-07              3.0\n2014-09              1.0\n18629\n            item_cnt_day\nyear_month              \n2014-04              1.0\n2014-09              1.0\n11467\n            item_cnt_day\nyear_month              \n2014-02              2.0\n2014-03              3.0\n2014-04              6.0\n2014-05              5.0\n2014-06              1.0\n2014-07              4.0\n2014-08              4.0\n3278\n            item_cnt_day\nyear_month              \n2013-01              2.0\n2013-02              1.0\n2013-03              1.0\n2013-04              1.0\n2013-05              1.0\n2013-06              1.0\n2013-08              1.0\n2013-09              1.0\n19671\n            item_cnt_day\nyear_month              \n2013-01              7.0\n2013-02             11.0\n2013-03             13.0\n2013-04              8.0\n2013-05              6.0\n2013-06              6.0\n2013-07              6.0\n2013-08              8.0\n2013-09              4.0\n2013-10              3.0\n2013-11              4.0\n2013-12              8.0\n2014-01              8.0\n2014-02              6.0\n2014-03              5.0\n2014-04              5.0\n2014-05              1.0\n2014-06              2.0\n15584\n            item_cnt_day\nyear_month              \n2013-01             11.0\n2013-02              7.0\n2013-03              6.0\n2013-04              8.0\n2013-05              6.0\n2013-06              9.0\n2013-07              9.0\n2013-08              8.0\n2013-09              7.0\n2013-10              6.0\n2013-11              5.0\n2013-12              3.0\n2014-01              4.0\n2014-02              3.0\n2014-03              1.0\n2014-06              1.0\n13536\n            item_cnt_day\nyear_month              \n2013-01              1.0\n2013-02              2.0\n8418\n            item_cnt_day\nyear_month              \n2013-01              2.0\n2013-02              5.0\n2013-03              1.0\n2013-04              4.0\n2013-05              2.0\n2013-06              3.0\n2013-07              3.0\n2013-08              1.0\n2013-09              2.0\n2013-10              1.0\n2013-11              1.0\n2013-12              2.0\n2014-01              3.0\n2014-02              2.0\n2014-04              1.0\n2014-07              1.0\n10984\n            item_cnt_day\nyear_month              \n2013-02              1.0\n2013-04              2.0\n2013-05              1.0\n2013-06              4.0\n18666\n            item_cnt_day\nyear_month              \n2013-01              9.0\n2013-02              3.0\n2013-03              2.0\n2013-04              7.0\n2013-05              7.0\n2013-06              4.0\n2013-07              5.0\n2013-08              3.0\n2013-09              2.0\n2013-10              4.0\n2013-11              4.0\n2013-12              6.0\n2014-01              1.0\n2014-02              2.0\n2014-03              1.0\n2014-04              1.0\n2014-06              1.0\n10493\n            item_cnt_day\nyear_month              \n2013-01              9.0\n2013-02              5.0\n2013-03              4.0\n2013-04              5.0\n2013-05              1.0\n2013-06              3.0\n2013-07              4.0\n2013-08              1.0\n2013-09              1.0\n2013-10              3.0\n2013-11              1.0\n2013-12              1.0\n2014-01              2.0\n2014-06              1.0\n17152\n            item_cnt_day\nyear_month              \n2014-01             33.0\n2014-02             17.0\n2014-03              2.0\n2014-04              2.0\n2014-05              2.0\n772\n            item_cnt_day\nyear_month              \n2013-06              1.0\n2013-11              1.0\n2014-03              1.0\n18698\n            item_cnt_day\nyear_month              \n2013-01              4.0\n2013-11              3.0\n2013-12             23.0\n2014-01              3.0\n18707\n            item_cnt_day\nyear_month              \n2014-08              1.0\n18710\n            item_cnt_day\nyear_month              \n2013-01              1.0\n2013-02              1.0\n2014-04              1.0\n2014-08              1.0\n2014-09              1.0\n14110\n            item_cnt_day\nyear_month              \n2013-01              3.0\n2013-02              1.0\n2013-03              1.0\n2013-04              1.0\n2013-05              2.0\n2013-06              2.0\n2013-07              2.0\n2013-08              1.0\n2013-09              2.0\n2013-10              1.0\n2013-11              3.0\n2013-12              1.0\n2014-03              1.0\n2014-06              2.0\n12063\n            item_cnt_day\nyear_month              \n2013-01              7.0\n2013-02              3.0\n2013-03              3.0\n2013-04              4.0\n2013-05              1.0\n2013-06              3.0\n2013-07              6.0\n2013-08              4.0\n2013-09              1.0\n2013-10              1.0\n2014-01              1.0\n2014-04              1.0\n15654\n            item_cnt_day\nyear_month              \n2013-01              8.0\n2013-02              6.0\n2013-03              6.0\n2013-04              5.0\n2013-05              4.0\n2013-06              3.0\n2013-07              3.0\n2013-08              1.0\n2013-09              6.0\n2013-10              3.0\n2013-11              2.0\n2014-02              1.0\n2014-07              1.0\n18729\n            item_cnt_day\nyear_month              \n2013-04              1.0\n2013-06              2.0\n2013-07              1.0\n2013-11              1.0\n12590\n            item_cnt_day\nyear_month              \n2013-01              1.0\n2013-02              2.0\n2013-03              7.0\n2013-04              5.0\n2013-05              5.0\n2013-06              2.0\n2013-08              3.0\n2013-09              3.0\n2013-10              2.0\n2013-11              2.0\n16690\n            item_cnt_day\nyear_month              \n2014-03              1.0\n2014-08              2.0\n14135\n            item_cnt_day\nyear_month              \n2014-06              1.0\n2014-09              2.0\n15673\n            item_cnt_day\nyear_month              \n2013-01             10.0\n2013-02              3.0\n2013-03              7.0\n2013-04              2.0\n2013-06              1.0\n2013-07              5.0\n2013-08              3.0\n2013-09              3.0\n2013-10              1.0\n2013-11              1.0\n2013-12              5.0\n2014-01              1.0\n2014-02              3.0\n2014-03              2.0\n2014-04              1.0\n2014-05              1.0\n2014-06              2.0\n16697\n            item_cnt_day\nyear_month              \n2013-01             26.0\n2013-02             12.0\n2013-03             16.0\n2013-04             11.0\n2013-05             10.0\n2013-06             13.0\n2013-07             11.0\n2013-08             14.0\n2013-09             14.0\n2013-10             10.0\n2013-11              4.0\n2013-12              2.0\n2014-01              2.0\n2014-02              2.0\n2014-03              3.0\n2014-06              1.0\n2014-07              1.0\n18746\n            item_cnt_day\nyear_month              \n2013-01             25.0\n2013-02             14.0\n2013-03             12.0\n2013-04              9.0\n2013-05              6.0\n2013-06              4.0\n2013-07             10.0\n2013-08              6.0\n2013-09              3.0\n2013-10              1.0\n2013-11              1.0\n2013-12              9.0\n2014-01              7.0\n2014-02              4.0\n2014-03              2.0\n2014-04              2.0\n2014-05              1.0\n2014-06              2.0\n2014-07              4.0\n2014-08              2.0\n11580\n            item_cnt_day\nyear_month              \n2013-01             22.0\n2013-02             17.0\n2013-03             20.0\n2013-04              6.0\n2013-05              5.0\n2013-06              7.0\n2013-07              7.0\n2013-08              7.0\n2013-09              6.0\n2013-10              2.0\n2013-12              2.0\n2014-02              1.0\n2014-03              1.0\n9020\n            item_cnt_day\nyear_month              \n2013-05              7.0\n2013-06             15.0\n2013-07             15.0\n2013-08              9.0\n2013-09              7.0\n2013-10              5.0\n2013-11              2.0\n2013-12              8.0\n2014-02              2.0\n2014-04              1.0\n2014-05              2.0\n2014-06              1.0\n2014-07              2.0\n342\n            item_cnt_day\nyear_month              \n2013-11              1.0\n9572\n            item_cnt_day\nyear_month              \n2013-01             20.0\n2013-02              5.0\n2013-03             19.0\n2013-04              5.0\n2013-05              5.0\n2013-06              8.0\n2013-07              5.0\n2013-08              8.0\n2013-09              6.0\n2013-10              2.0\n2013-11              4.0\n2014-01              2.0\n2014-02              1.0\n2014-03              3.0\n2014-05              2.0\n2014-07              1.0\n19813\n            item_cnt_day\nyear_month              \n2013-02            110.0\n2013-03             26.0\n2013-04             12.0\n2013-05              4.0\n2013-06              4.0\n2013-07              5.0\n2013-08              1.0\n2013-09              2.0\n2013-10              4.0\n2013-11              1.0\n2013-12              1.0\n2014-02              1.0\n2014-03              2.0\n2014-05              1.0\n3951\n            item_cnt_day\nyear_month              \n2013-09              1.0\n2013-11              1.0\n2014-01              1.0\n15735\n            item_cnt_day\nyear_month              \n2013-01              4.0\n2013-02              4.0\n2013-03              4.0\n2013-04              6.0\n2013-05              2.0\n2013-07              2.0\n2013-09              3.0\n2013-11              1.0\n2013-12              1.0\n2014-01              2.0\n2014-09              1.0\n9596\n            item_cnt_day\nyear_month              \n2013-11             14.0\n2013-12             10.0\n2014-01              7.0\n2014-02              4.0\n2014-03              1.0\n2014-04              4.0\n2014-05              3.0\n2014-09              1.0\n4989\n            item_cnt_day\nyear_month              \n2013-01              2.0\n2013-02              1.0\n2013-03              4.0\n2013-04              1.0\n2013-05              2.0\n2013-12              1.0\n19343\n            item_cnt_day\nyear_month              \n2013-03              1.0\n2014-04              1.0\n16273\n            item_cnt_day\nyear_month              \n2013-12              2.0\n2014-04              1.0\n16275\n            item_cnt_day\nyear_month              \n2013-11              1.0\n2013-12              1.0\n2014-04              1.0\n16276\n            item_cnt_day\nyear_month              \n2013-12              1.0\n2014-01              1.0\n2014-04              1.0\n2014-08              1.0\n7586\n            item_cnt_day\nyear_month              \n2013-05              1.0\n11172\n            item_cnt_day\nyear_month              \n2013-01             20.0\n2013-02             17.0\n2013-03             16.0\n2013-04              9.0\n2013-05             10.0\n2013-06              5.0\n2013-07             10.0\n2013-08              2.0\n2013-09              6.0\n2013-10              7.0\n2013-11              1.0\n2013-12              3.0\n2014-01              1.0\n2014-03              1.0\n2014-06              1.0\n19889\n            item_cnt_day\nyear_month              \n2013-01             13.0\n2013-02              9.0\n2013-03              9.0\n2013-04              9.0\n2013-05              6.0\n2013-06              7.0\n2013-07              4.0\n2013-08              9.0\n2013-09              5.0\n2013-10              3.0\n2013-11              4.0\n2013-12              2.0\n2014-01              2.0\n2014-02              1.0\n2014-04              2.0\n2014-05              1.0\n2014-06              3.0\n2014-07              1.0\n19898\n            item_cnt_day\nyear_month              \n2013-01              4.0\n2013-02              5.0\n2013-03              6.0\n2013-04              5.0\n2013-05              3.0\n2013-06              4.0\n2013-07              2.0\n2013-08              1.0\n2013-09              2.0\n2013-10              3.0\n2013-11              1.0\n2013-12              1.0\n2014-01              5.0\n2014-02              1.0\n2014-04              1.0\n2014-05              2.0\n2014-06              1.0\n2014-07              2.0\n2014-08              1.0\n11199\n            item_cnt_day\nyear_month              \n2013-01             16.0\n2013-02             14.0\n2013-03             15.0\n2013-04              9.0\n2013-05             12.0\n2013-06             14.0\n2013-07             16.0\n2013-08             18.0\n2013-09             19.0\n2013-10             14.0\n2013-11              8.0\n2013-12              4.0\n2014-01              5.0\n2014-02              1.0\n2014-03              2.0\n2014-04              3.0\n2014-05              3.0\n2014-07              4.0\n2014-08              1.0\n2014-09              1.0\n9676\n            item_cnt_day\nyear_month              \n2013-01              4.0\n2013-02              5.0\n2013-03              3.0\n2013-04              4.0\n2013-05              3.0\n2013-06              2.0\n2013-07              5.0\n2013-08              1.0\n2013-09              2.0\n2013-10              2.0\n2013-11              4.0\n2014-01              1.0\n2014-02              1.0\n2014-04              1.0\n8144\n            item_cnt_day\nyear_month              \n2013-01             11.0\n2013-02              8.0\n2013-03              3.0\n2013-04              6.0\n2013-05              4.0\n2013-06              6.0\n2013-07              8.0\n2013-08              2.0\n2013-09              5.0\n2013-10              4.0\n2013-11              2.0\n2013-12              1.0\n2014-02              1.0\n2014-04              1.0\n2014-07              4.0\n2014-09              1.0\n17883\n            item_cnt_day\nyear_month              \n2013-01              6.0\n2013-02              5.0\n2013-03              4.0\n2013-04              4.0\n2013-05              4.0\n2013-06              3.0\n2013-08              3.0\n2013-10              6.0\n2013-11              2.0\n2013-12              1.0\n2014-04              1.0\n2014-07              3.0\n9698\n            item_cnt_day\nyear_month              \n2013-01             14.0\n2013-02             13.0\n2013-03             14.0\n2013-04              7.0\n2013-05              7.0\n2013-06              4.0\n2013-07              1.0\n2013-10              1.0\n14833\n            item_cnt_day\nyear_month              \n2013-01             18.0\n2013-02             16.0\n2013-03             14.0\n2013-04             13.0\n2013-05              1.0\n2013-06              3.0\n2013-07              3.0\n13810\n            item_cnt_day\nyear_month              \n2013-05             37.0\n2013-06             70.0\n2013-07             12.0\n2013-08              9.0\n2013-09              5.0\n2013-10              3.0\n2013-11              1.0\n2013-12              3.0\n2014-01              2.0\n2014-02              4.0\n5621\n            item_cnt_day\nyear_month              \n2013-10             23.0\n2013-11            121.0\n2013-12            493.0\n2014-01            134.0\n2014-02             19.0\n2014-03              7.0\n2014-04              4.0\n2014-05              5.0\n2014-06              1.0\n2014-07              1.0\n2014-08              2.0\n10230\n            item_cnt_day\nyear_month              \n2013-01             14.0\n2013-02             18.0\n2013-03              7.0\n2013-04              4.0\n2013-05              9.0\n2013-06              9.0\n2013-07              6.0\n2013-08              3.0\n2013-09              6.0\n2013-10              7.0\n2013-11              9.0\n2013-12             12.0\n2014-01              1.0\n2014-02              3.0\n2014-04              1.0\n2014-05              2.0\n2014-06              0.0\n2014-08              1.0\n2014-09              1.0\n11255\n            item_cnt_day\nyear_month              \n2013-01             16.0\n2013-02             14.0\n2013-03             13.0\n2013-04              7.0\n2013-05              9.0\n2013-06             10.0\n2013-07             12.0\n2013-08              9.0\n2013-09              7.0\n2013-10              1.0\n2013-11              1.0\n2013-12              1.0\n2014-02              1.0\n2014-09              1.0\n6136\n            item_cnt_day\nyear_month              \n2013-05             30.0\n2013-06             23.0\n2013-07             11.0\n2013-08              7.0\n2013-09              3.0\n2013-10              1.0\n2013-12              4.0\n10749\n            item_cnt_day\nyear_month              \n2014-02              2.0\n2014-03              4.0\n2014-04              5.0\n2014-05              1.0\n2014-06              6.0\n2014-07              3.0\n2014-08              3.0\n2014-09              1.0\n"
    }
   ],
   "source": [
    "for i in overlap:\n",
    "    print(i)\n",
    "    print(sales_train[sales_train.item_id==i].groupby('year_month').sum()[['item_cnt_day']])"
   ]
  },
  {
   "cell_type": "markdown",
   "metadata": {},
   "source": [
    "Okay, let's predict 0 for those!"
   ]
  },
  {
   "cell_type": "markdown",
   "metadata": {},
   "source": [
    "# Feature engineering"
   ]
  },
  {
   "cell_type": "code",
   "execution_count": 53,
   "metadata": {},
   "outputs": [
    {
     "output_type": "execute_result",
     "data": {
      "text/plain": "         date  date_block_num  shop_id  item_id  item_price  item_cnt_day  \\\n0  02.01.2013               0       59    22154      999.00           1.0   \n1  03.01.2013               0       25     2552      899.00           1.0   \n2  05.01.2013               0       25     2552      899.00          -1.0   \n3  06.01.2013               0       25     2554     1709.05           1.0   \n4  15.01.2013               0       25     2555     1099.00           1.0   \n\n  month  year  \n0    01  2013  \n1    01  2013  \n2    01  2013  \n3    01  2013  \n4    01  2013  ",
      "text/html": "<div>\n<style scoped>\n    .dataframe tbody tr th:only-of-type {\n        vertical-align: middle;\n    }\n\n    .dataframe tbody tr th {\n        vertical-align: top;\n    }\n\n    .dataframe thead th {\n        text-align: right;\n    }\n</style>\n<table border=\"1\" class=\"dataframe\">\n  <thead>\n    <tr style=\"text-align: right;\">\n      <th></th>\n      <th>date</th>\n      <th>date_block_num</th>\n      <th>shop_id</th>\n      <th>item_id</th>\n      <th>item_price</th>\n      <th>item_cnt_day</th>\n      <th>month</th>\n      <th>year</th>\n    </tr>\n  </thead>\n  <tbody>\n    <tr>\n      <th>0</th>\n      <td>02.01.2013</td>\n      <td>0</td>\n      <td>59</td>\n      <td>22154</td>\n      <td>999.00</td>\n      <td>1.0</td>\n      <td>01</td>\n      <td>2013</td>\n    </tr>\n    <tr>\n      <th>1</th>\n      <td>03.01.2013</td>\n      <td>0</td>\n      <td>25</td>\n      <td>2552</td>\n      <td>899.00</td>\n      <td>1.0</td>\n      <td>01</td>\n      <td>2013</td>\n    </tr>\n    <tr>\n      <th>2</th>\n      <td>05.01.2013</td>\n      <td>0</td>\n      <td>25</td>\n      <td>2552</td>\n      <td>899.00</td>\n      <td>-1.0</td>\n      <td>01</td>\n      <td>2013</td>\n    </tr>\n    <tr>\n      <th>3</th>\n      <td>06.01.2013</td>\n      <td>0</td>\n      <td>25</td>\n      <td>2554</td>\n      <td>1709.05</td>\n      <td>1.0</td>\n      <td>01</td>\n      <td>2013</td>\n    </tr>\n    <tr>\n      <th>4</th>\n      <td>15.01.2013</td>\n      <td>0</td>\n      <td>25</td>\n      <td>2555</td>\n      <td>1099.00</td>\n      <td>1.0</td>\n      <td>01</td>\n      <td>2013</td>\n    </tr>\n  </tbody>\n</table>\n</div>"
     },
     "metadata": {},
     "execution_count": 53
    }
   ],
   "source": [
    "sales_train.head()"
   ]
  },
  {
   "cell_type": "markdown",
   "metadata": {},
   "source": [
    "Given that we are trying to predict sales for a particular shop-item pair for a month, it probably makes sense to look at lagged features in this case; i.e. the sale of a particular item/shop combination is probably well predicted by the sales of the shop, item or item + shop sales in the last X months, for different values of X. The data we are given is based on daily data, since we are only interested in monthly data it makes sense to aggregate the data first on a per month basis. So to generate a set of features we do the following:\n",
    "\n",
    "* aggregate the data by month\n",
    "* add broad categories, devices and city as found by EDA above\n",
    "* add last 1, 3, 6, 12 months of sales data for the shopxitem, shop, item, itemxcity, city combinations\n",
    "\n",
    "Since I haven't used target mean encoding before and I want to learn how to do this:\n",
    "* for categorical variables, we will try both one-hot encoding and mean encoding with smoothing to compare performance"
   ]
  },
  {
   "cell_type": "code",
   "execution_count": null,
   "metadata": {},
   "outputs": [],
   "source": []
  }
 ]
}